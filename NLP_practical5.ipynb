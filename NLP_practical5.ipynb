{
  "nbformat": 4,
  "nbformat_minor": 0,
  "metadata": {
    "colab": {
      "provenance": []
    },
    "kernelspec": {
      "name": "python3",
      "display_name": "Python 3"
    },
    "language_info": {
      "name": "python"
    }
  },
  "cells": [
    {
      "cell_type": "markdown",
      "source": [
        "Understanding word embeddings"
      ],
      "metadata": {
        "id": "WkhtYjqaU3HA"
      }
    },
    {
      "cell_type": "markdown",
      "source": [
        "Demystifying Word2vec"
      ],
      "metadata": {
        "id": "pt4kr5s6U6Gu"
      }
    },
    {
      "cell_type": "markdown",
      "source": [
        "# Exploring the pretrained Word2vec model using gensim"
      ],
      "metadata": {
        "id": "wB5udl-yVM6H"
      }
    },
    {
      "cell_type": "code",
      "execution_count": 13,
      "metadata": {
        "id": "ypK0Odg5S2Zn"
      },
      "outputs": [],
      "source": [
        "import gensim\n",
        "from gensim.models import KeyedVectors"
      ]
    },
    {
      "cell_type": "code",
      "execution_count": 14,
      "metadata": {
        "id": "6ea3ab5b-7adc-48ee-b92b-103e90469455",
        "colab": {
          "base_uri": "https://localhost:8080/"
        },
        "outputId": "e4ef28bd-1e1a-4301-eafb-cb5858cf3a32"
      },
      "outputs": [
        {
          "output_type": "stream",
          "name": "stdout",
          "text": [
            "[==================================================] 100.0% 1662.8/1662.8MB downloaded\n"
          ]
        }
      ],
      "source": [
        "import gensim.downloader as api\n",
        "model = api.load('word2vec-google-news-300')"
      ]
    },
    {
      "cell_type": "code",
      "source": [
        "model.vector_size"
      ],
      "metadata": {
        "colab": {
          "base_uri": "https://localhost:8080/"
        },
        "id": "Mxm1aAEFnvdL",
        "outputId": "6605059f-5aca-4a0e-d7dd-6d16465ee354"
      },
      "execution_count": 18,
      "outputs": [
        {
          "output_type": "execute_result",
          "data": {
            "text/plain": [
              "300"
            ]
          },
          "metadata": {},
          "execution_count": 18
        }
      ]
    },
    {
      "cell_type": "code",
      "source": [
        "#.vocab was removed so we use key to index\n",
        "len(model.key_to_index)"
      ],
      "metadata": {
        "colab": {
          "base_uri": "https://localhost:8080/"
        },
        "id": "IhomBKG9qd6H",
        "outputId": "bdebfaf4-a7c5-4fd5-f3ac-8bbd6786f30c"
      },
      "execution_count": 23,
      "outputs": [
        {
          "output_type": "execute_result",
          "data": {
            "text/plain": [
              "3000000"
            ]
          },
          "metadata": {},
          "execution_count": 23
        }
      ]
    },
    {
      "cell_type": "code",
      "source": [
        "#.vocab was removed so we use key to index again\n",
        "model.key_to_index"
      ],
      "metadata": {
        "colab": {
          "base_uri": "https://localhost:8080/"
        },
        "id": "9X06Y_tnrO1Q",
        "outputId": "76babad5-e587-44eb-f225-17b86d9bbeb0"
      },
      "execution_count": 24,
      "outputs": [
        {
          "output_type": "execute_result",
          "data": {
            "text/plain": [
              "{'</s>': 0,\n",
              " 'in': 1,\n",
              " 'for': 2,\n",
              " 'that': 3,\n",
              " 'is': 4,\n",
              " 'on': 5,\n",
              " '##': 6,\n",
              " 'The': 7,\n",
              " 'with': 8,\n",
              " 'said': 9,\n",
              " 'was': 10,\n",
              " 'the': 11,\n",
              " 'at': 12,\n",
              " 'not': 13,\n",
              " 'as': 14,\n",
              " 'it': 15,\n",
              " 'be': 16,\n",
              " 'from': 17,\n",
              " 'by': 18,\n",
              " 'are': 19,\n",
              " 'I': 20,\n",
              " 'have': 21,\n",
              " 'he': 22,\n",
              " 'will': 23,\n",
              " 'has': 24,\n",
              " '####': 25,\n",
              " 'his': 26,\n",
              " 'an': 27,\n",
              " 'this': 28,\n",
              " 'or': 29,\n",
              " 'their': 30,\n",
              " 'who': 31,\n",
              " 'they': 32,\n",
              " 'but': 33,\n",
              " '$': 34,\n",
              " 'had': 35,\n",
              " 'year': 36,\n",
              " 'were': 37,\n",
              " 'we': 38,\n",
              " 'more': 39,\n",
              " '###': 40,\n",
              " 'up': 41,\n",
              " 'been': 42,\n",
              " 'you': 43,\n",
              " 'its': 44,\n",
              " 'one': 45,\n",
              " 'about': 46,\n",
              " 'would': 47,\n",
              " 'which': 48,\n",
              " 'out': 49,\n",
              " 'can': 50,\n",
              " 'It': 51,\n",
              " 'all': 52,\n",
              " 'also': 53,\n",
              " 'two': 54,\n",
              " 'after': 55,\n",
              " 'first': 56,\n",
              " 'He': 57,\n",
              " 'do': 58,\n",
              " 'time': 59,\n",
              " 'than': 60,\n",
              " 'when': 61,\n",
              " 'We': 62,\n",
              " 'over': 63,\n",
              " 'last': 64,\n",
              " 'new': 65,\n",
              " 'other': 66,\n",
              " 'her': 67,\n",
              " 'people': 68,\n",
              " 'into': 69,\n",
              " 'In': 70,\n",
              " 'our': 71,\n",
              " 'there': 72,\n",
              " 'A': 73,\n",
              " 'she': 74,\n",
              " 'could': 75,\n",
              " 'just': 76,\n",
              " 'years': 77,\n",
              " 'some': 78,\n",
              " 'U.S.': 79,\n",
              " 'three': 80,\n",
              " 'million': 81,\n",
              " 'them': 82,\n",
              " 'what': 83,\n",
              " 'But': 84,\n",
              " 'so': 85,\n",
              " 'no': 86,\n",
              " 'like': 87,\n",
              " 'if': 88,\n",
              " 'only': 89,\n",
              " 'percent': 90,\n",
              " 'get': 91,\n",
              " 'did': 92,\n",
              " 'him': 93,\n",
              " 'game': 94,\n",
              " 'back': 95,\n",
              " 'because': 96,\n",
              " 'now': 97,\n",
              " '#.#': 98,\n",
              " 'before': 99,\n",
              " 'company': 100,\n",
              " 'any': 101,\n",
              " 'team': 102,\n",
              " 'against': 103,\n",
              " 'off': 104,\n",
              " 'This': 105,\n",
              " 'most': 106,\n",
              " 'made': 107,\n",
              " 'through': 108,\n",
              " 'make': 109,\n",
              " 'second': 110,\n",
              " 'state': 111,\n",
              " 'well': 112,\n",
              " 'day': 113,\n",
              " 'season': 114,\n",
              " 'says': 115,\n",
              " 'week': 116,\n",
              " 'where': 117,\n",
              " 'while': 118,\n",
              " 'down': 119,\n",
              " 'being': 120,\n",
              " 'government': 121,\n",
              " 'your': 122,\n",
              " '#-#': 123,\n",
              " 'home': 124,\n",
              " 'going': 125,\n",
              " 'my': 126,\n",
              " 'good': 127,\n",
              " 'They': 128,\n",
              " \"'re\": 129,\n",
              " 'should': 130,\n",
              " 'many': 131,\n",
              " 'way': 132,\n",
              " 'those': 133,\n",
              " 'four': 134,\n",
              " 'during': 135,\n",
              " 'such': 136,\n",
              " 'may': 137,\n",
              " 'very': 138,\n",
              " 'how': 139,\n",
              " 'since': 140,\n",
              " 'work': 141,\n",
              " 'take': 142,\n",
              " 'including': 143,\n",
              " 'high': 144,\n",
              " 'then': 145,\n",
              " '%': 146,\n",
              " 'next': 147,\n",
              " '#,###': 148,\n",
              " 'By': 149,\n",
              " 'much': 150,\n",
              " 'still': 151,\n",
              " 'go': 152,\n",
              " 'think': 153,\n",
              " 'old': 154,\n",
              " 'even': 155,\n",
              " '#.##': 156,\n",
              " 'world': 157,\n",
              " 'see': 158,\n",
              " 'say': 159,\n",
              " 'business': 160,\n",
              " 'five': 161,\n",
              " 'told': 162,\n",
              " 'under': 163,\n",
              " 'us': 164,\n",
              " '1': 165,\n",
              " 'these': 166,\n",
              " 'If': 167,\n",
              " 'right': 168,\n",
              " 'And': 169,\n",
              " 'me': 170,\n",
              " 'between': 171,\n",
              " 'play': 172,\n",
              " 'help': 173,\n",
              " '##,###': 174,\n",
              " 'market': 175,\n",
              " 'That': 176,\n",
              " 'know': 177,\n",
              " 'end': 178,\n",
              " 'AP': 179,\n",
              " 'long': 180,\n",
              " 'information': 181,\n",
              " 'points': 182,\n",
              " 'does': 183,\n",
              " 'both': 184,\n",
              " 'There': 185,\n",
              " 'part': 186,\n",
              " 'around': 187,\n",
              " 'police': 188,\n",
              " 'want': 189,\n",
              " \"'ve\": 190,\n",
              " 'based': 191,\n",
              " 'For': 192,\n",
              " 'got': 193,\n",
              " 'third': 194,\n",
              " 'school': 195,\n",
              " 'left': 196,\n",
              " 'another': 197,\n",
              " 'country': 198,\n",
              " 'need': 199,\n",
              " '2': 200,\n",
              " 'best': 201,\n",
              " 'win': 202,\n",
              " 'quarter': 203,\n",
              " 'use': 204,\n",
              " 'today': 205,\n",
              " '##.#': 206,\n",
              " 'same': 207,\n",
              " 'public': 208,\n",
              " 'run': 209,\n",
              " 'Friday': 210,\n",
              " 'set': 211,\n",
              " 'month': 212,\n",
              " 'top': 213,\n",
              " 'billion': 214,\n",
              " 'Tuesday': 215,\n",
              " 'come': 216,\n",
              " 'Monday': 217,\n",
              " 'She': 218,\n",
              " 'city': 219,\n",
              " 'place': 220,\n",
              " 'night': 221,\n",
              " 'six': 222,\n",
              " 'each': 223,\n",
              " 'Thursday': 224,\n",
              " '###,###': 225,\n",
              " 'Wednesday': 226,\n",
              " 'here': 227,\n",
              " 'You': 228,\n",
              " 'group': 229,\n",
              " 'really': 230,\n",
              " 'found': 231,\n",
              " 'As': 232,\n",
              " 'used': 233,\n",
              " '3': 234,\n",
              " 'lot': 235,\n",
              " \"'m\": 236,\n",
              " 'money': 237,\n",
              " 'put': 238,\n",
              " 'games': 239,\n",
              " 'support': 240,\n",
              " 'program': 241,\n",
              " 'half': 242,\n",
              " 'report': 243,\n",
              " 'family': 244,\n",
              " 'months': 245,\n",
              " 'number': 246,\n",
              " 'officials': 247,\n",
              " 'am': 248,\n",
              " 'former': 249,\n",
              " 'own': 250,\n",
              " 'man': 251,\n",
              " 'Saturday': 252,\n",
              " 'too': 253,\n",
              " 'better': 254,\n",
              " 'days': 255,\n",
              " 'came': 256,\n",
              " 'lead': 257,\n",
              " 'life': 258,\n",
              " 'American': 259,\n",
              " '##-##': 260,\n",
              " 'show': 261,\n",
              " 'past': 262,\n",
              " 'took': 263,\n",
              " 'added': 264,\n",
              " 'expected': 265,\n",
              " 'called': 266,\n",
              " 'great': 267,\n",
              " 'State': 268,\n",
              " 'services': 269,\n",
              " 'children': 270,\n",
              " 'hit': 271,\n",
              " 'area': 272,\n",
              " 'system': 273,\n",
              " 'every': 274,\n",
              " 'pm': 275,\n",
              " 'big': 276,\n",
              " 'service': 277,\n",
              " 'few': 278,\n",
              " 'per': 279,\n",
              " 'members': 280,\n",
              " 'Sunday': 281,\n",
              " 'early': 282,\n",
              " 'point': 283,\n",
              " 'start': 284,\n",
              " 'companies': 285,\n",
              " 'little': 286,\n",
              " '&': 287,\n",
              " 'case': 288,\n",
              " 'ago': 289,\n",
              " 'local': 290,\n",
              " 'according': 291,\n",
              " 'never': 292,\n",
              " '5': 293,\n",
              " 'without': 294,\n",
              " 'sales': 295,\n",
              " 'until': 296,\n",
              " 'went': 297,\n",
              " 'players': 298,\n",
              " '##th': 299,\n",
              " 'New_York': 300,\n",
              " 'won': 301,\n",
              " 'financial': 302,\n",
              " 'news': 303,\n",
              " '4': 304,\n",
              " 'When': 305,\n",
              " 'share': 306,\n",
              " 'several': 307,\n",
              " 'free': 308,\n",
              " 'away': 309,\n",
              " '##.##': 310,\n",
              " 'already': 311,\n",
              " 'On': 312,\n",
              " 'industry': 313,\n",
              " \"'ll\": 314,\n",
              " 'call': 315,\n",
              " 'With': 316,\n",
              " 'students': 317,\n",
              " 'line': 318,\n",
              " 'available': 319,\n",
              " 'County': 320,\n",
              " 'making': 321,\n",
              " 'held': 322,\n",
              " 'final': 323,\n",
              " '#:##': 324,\n",
              " 'power': 325,\n",
              " 'plan': 326,\n",
              " 'might': 327,\n",
              " 'least': 328,\n",
              " 'look': 329,\n",
              " 'forward': 330,\n",
              " 'give': 331,\n",
              " 'At': 332,\n",
              " 'again': 333,\n",
              " 'later': 334,\n",
              " 'full': 335,\n",
              " 'must': 336,\n",
              " 'things': 337,\n",
              " 'major': 338,\n",
              " 'community': 339,\n",
              " 'announced': 340,\n",
              " 'open': 341,\n",
              " 'record': 342,\n",
              " 'reported': 343,\n",
              " 'court': 344,\n",
              " 'working': 345,\n",
              " 'able': 346,\n",
              " 'something': 347,\n",
              " 'president': 348,\n",
              " 'meeting': 349,\n",
              " 'keep': 350,\n",
              " 'March': 351,\n",
              " 'future': 352,\n",
              " 'far': 353,\n",
              " 'deal': 354,\n",
              " 'City': 355,\n",
              " 'May': 356,\n",
              " 'development': 357,\n",
              " 'University': 358,\n",
              " 'find': 359,\n",
              " 'times': 360,\n",
              " 'After': 361,\n",
              " 'office': 362,\n",
              " 'led': 363,\n",
              " 'among': 364,\n",
              " 'June': 365,\n",
              " 'increase': 366,\n",
              " 'China': 367,\n",
              " 'John': 368,\n",
              " 'whether': 369,\n",
              " 'cost': 370,\n",
              " 'security': 371,\n",
              " 'job': 372,\n",
              " 'less': 373,\n",
              " 'head': 374,\n",
              " 'seven': 375,\n",
              " 'growth': 376,\n",
              " 'lost': 377,\n",
              " 'pay': 378,\n",
              " 'looking': 379,\n",
              " 'provide': 380,\n",
              " '6': 381,\n",
              " 'To': 382,\n",
              " 'plans': 383,\n",
              " 'products': 384,\n",
              " 'car': 385,\n",
              " 'recent': 386,\n",
              " 'hard': 387,\n",
              " 'always': 388,\n",
              " 'include': 389,\n",
              " 'women': 390,\n",
              " 'across': 391,\n",
              " 'tax': 392,\n",
              " 'water': 393,\n",
              " 'April': 394,\n",
              " 'continue': 395,\n",
              " 'important': 396,\n",
              " 'different': 397,\n",
              " 'close': 398,\n",
              " '7': 399,\n",
              " 'One': 400,\n",
              " 'late': 401,\n",
              " 'decision': 402,\n",
              " 'current': 403,\n",
              " 'law': 404,\n",
              " 'within': 405,\n",
              " 'along': 406,\n",
              " 'played': 407,\n",
              " 'move': 408,\n",
              " 'United_States': 409,\n",
              " 'enough': 410,\n",
              " 'become': 411,\n",
              " 'side': 412,\n",
              " 'national': 413,\n",
              " 'Inc.': 414,\n",
              " 'results': 415,\n",
              " 'level': 416,\n",
              " 'loss': 417,\n",
              " 'economic': 418,\n",
              " 'coach': 419,\n",
              " 'near': 420,\n",
              " 'getting': 421,\n",
              " 'price': 422,\n",
              " 'Department': 423,\n",
              " 'event': 424,\n",
              " 'fourth': 425,\n",
              " 'change': 426,\n",
              " 'All': 427,\n",
              " 'small': 428,\n",
              " 'board': 429,\n",
              " 'National': 430,\n",
              " 'So': 431,\n",
              " 'goal': 432,\n",
              " 'taken': 433,\n",
              " 'field': 434,\n",
              " 'prices': 435,\n",
              " 'weeks': 436,\n",
              " 'men': 437,\n",
              " 'asked': 438,\n",
              " 'eight': 439,\n",
              " 'data': 440,\n",
              " 'shot': 441,\n",
              " 'New': 442,\n",
              " 'started': 443,\n",
              " 'July': 444,\n",
              " 'director': 445,\n",
              " 'President': 446,\n",
              " 'party': 447,\n",
              " 'federal': 448,\n",
              " 'done': 449,\n",
              " 'political': 450,\n",
              " 'minutes': 451,\n",
              " 'taking': 452,\n",
              " 'Company': 453,\n",
              " 'technology': 454,\n",
              " 'project': 455,\n",
              " 'center': 456,\n",
              " 'leading': 457,\n",
              " 'issue': 458,\n",
              " 'though': 459,\n",
              " 'having': 460,\n",
              " 'period': 461,\n",
              " 'likely': 462,\n",
              " 'scored': 463,\n",
              " '8': 464,\n",
              " 'strong': 465,\n",
              " 'series': 466,\n",
              " 'military': 467,\n",
              " 'seen': 468,\n",
              " 'trying': 469,\n",
              " 'What': 470,\n",
              " 'coming': 471,\n",
              " 'process': 472,\n",
              " 'building': 473,\n",
              " 'behind': 474,\n",
              " 'performance': 475,\n",
              " 'management': 476,\n",
              " 'Iraq': 477,\n",
              " 'saying': 478,\n",
              " 'earlier': 479,\n",
              " 'believe': 480,\n",
              " 'oil': 481,\n",
              " 'given': 482,\n",
              " 'Police': 483,\n",
              " 'customers': 484,\n",
              " 'due': 485,\n",
              " 'following': 486,\n",
              " 'term': 487,\n",
              " 'others': 488,\n",
              " 'statement': 489,\n",
              " 'international': 490,\n",
              " 'economy': 491,\n",
              " 'health': 492,\n",
              " 'thing': 493,\n",
              " 'Obama': 494,\n",
              " 'return': 495,\n",
              " 'killed': 496,\n",
              " 'Washington': 497,\n",
              " 'further': 498,\n",
              " 'However': 499,\n",
              " 'doing': 500,\n",
              " 'face': 501,\n",
              " 'low': 502,\n",
              " 'higher': 503,\n",
              " 'site': 504,\n",
              " 'once': 505,\n",
              " 'yet': 506,\n",
              " 'hours': 507,\n",
              " 'America': 508,\n",
              " 'control': 509,\n",
              " 'received': 510,\n",
              " 'rate': 511,\n",
              " 'career': 512,\n",
              " 'Bush': 513,\n",
              " 'teams': 514,\n",
              " 'known': 515,\n",
              " 'offer': 516,\n",
              " 'race': 517,\n",
              " 'ever': 518,\n",
              " 'experience': 519,\n",
              " 'playing': 520,\n",
              " 'name': 521,\n",
              " 'possible': 522,\n",
              " 'countries': 523,\n",
              " 'Mr.': 524,\n",
              " 'average': 525,\n",
              " 'together': 526,\n",
              " 'using': 527,\n",
              " '9': 528,\n",
              " 'cut': 529,\n",
              " 'While': 530,\n",
              " 'total': 531,\n",
              " 'round': 532,\n",
              " 'young': 533,\n",
              " 'nearly': 534,\n",
              " 'shares': 535,\n",
              " 'member': 536,\n",
              " 'campaign': 537,\n",
              " 'media': 538,\n",
              " 'needs': 539,\n",
              " 'why': 540,\n",
              " 'house': 541,\n",
              " 'issues': 542,\n",
              " 'costs': 543,\n",
              " 'fire': 544,\n",
              " '##-#': 545,\n",
              " 'victory': 546,\n",
              " 'player': 547,\n",
              " 'began': 548,\n",
              " 'sure': 549,\n",
              " 'story': 550,\n",
              " 'per_cent': 551,\n",
              " 'North': 552,\n",
              " 'His': 553,\n",
              " 'staff': 554,\n",
              " 'order': 555,\n",
              " 'war': 556,\n",
              " 'large': 557,\n",
              " 'interest': 558,\n",
              " 'stock': 559,\n",
              " 'food': 560,\n",
              " 'research': 561,\n",
              " 'key': 562,\n",
              " 'India': 563,\n",
              " 'South': 564,\n",
              " 'morning': 565,\n",
              " 'conference': 566,\n",
              " 'senior': 567,\n",
              " 'global': 568,\n",
              " 'Center': 569,\n",
              " 'death': 570,\n",
              " 'person': 571,\n",
              " 'thought': 572,\n",
              " 'gave': 573,\n",
              " 'feel': 574,\n",
              " 'energy': 575,\n",
              " 'history': 576,\n",
              " 'recently': 577,\n",
              " 'largest': 578,\n",
              " 'No.': 579,\n",
              " 'general': 580,\n",
              " 'official': 581,\n",
              " 'released': 582,\n",
              " 'wanted': 583,\n",
              " 'meet': 584,\n",
              " 'short': 585,\n",
              " 'outside': 586,\n",
              " 'running': 587,\n",
              " 'live': 588,\n",
              " 'ball': 589,\n",
              " 'online': 590,\n",
              " 'real': 591,\n",
              " 'position': 592,\n",
              " 'fact': 593,\n",
              " 'fell': 594,\n",
              " 'nine': 595,\n",
              " 'December': 596,\n",
              " 'front': 597,\n",
              " 'action': 598,\n",
              " 'defense': 599,\n",
              " 'problem': 600,\n",
              " 'problems': 601,\n",
              " 'Mr': 602,\n",
              " 'nation': 603,\n",
              " 'needed': 604,\n",
              " 'special': 605,\n",
              " 'January': 606,\n",
              " 'almost': 607,\n",
              " 'chance': 608,\n",
              " \"'d\": 609,\n",
              " 'result': 610,\n",
              " 'West': 611,\n",
              " 'September': 612,\n",
              " 'reports': 613,\n",
              " 'leader': 614,\n",
              " 'investment': 615,\n",
              " 'yesterday': 616,\n",
              " 'Some': 617,\n",
              " 'leaders': 618,\n",
              " 'ahead': 619,\n",
              " 'production': 620,\n",
              " 'comes': 621,\n",
              " 'No': 622,\n",
              " 'runs': 623,\n",
              " 'match': 624,\n",
              " 'role': 625,\n",
              " 'kind': 626,\n",
              " 'try': 627,\n",
              " 'ended': 628,\n",
              " 'risk': 629,\n",
              " 'areas': 630,\n",
              " 'election': 631,\n",
              " 'workers': 632,\n",
              " 'visit': 633,\n",
              " 'bring': 634,\n",
              " 'road': 635,\n",
              " 'music': 636,\n",
              " 'study': 637,\n",
              " 'makes': 638,\n",
              " 'often': 639,\n",
              " 'release': 640,\n",
              " 'woman': 641,\n",
              " 'vote': 642,\n",
              " 'care': 643,\n",
              " 'town': 644,\n",
              " 'clear': 645,\n",
              " 'comment': 646,\n",
              " 'budget': 647,\n",
              " 'potential': 648,\n",
              " 'single': 649,\n",
              " 'markets': 650,\n",
              " 'policy': 651,\n",
              " 'capital': 652,\n",
              " 'saw': 653,\n",
              " 'access': 654,\n",
              " 'weekend': 655,\n",
              " 'operations': 656,\n",
              " 'whose': 657,\n",
              " 'net': 658,\n",
              " 'House': 659,\n",
              " 'hand': 660,\n",
              " 'increased': 661,\n",
              " 'charges': 662,\n",
              " 'winning': 663,\n",
              " 'trade': 664,\n",
              " 'These': 665,\n",
              " 'income': 666,\n",
              " 'value': 667,\n",
              " 'involved': 668,\n",
              " 'Bank': 669,\n",
              " 'November': 670,\n",
              " 'bill': 671,\n",
              " 'compared': 672,\n",
              " 'anything': 673,\n",
              " 'manager': 674,\n",
              " 'Texas': 675,\n",
              " 'property': 676,\n",
              " 'stop': 677,\n",
              " 'annual': 678,\n",
              " 'private': 679,\n",
              " 'contract': 680,\n",
              " 'died': 681,\n",
              " 'Now': 682,\n",
              " 'hope': 683,\n",
              " 'product': 684,\n",
              " 'fans': 685,\n",
              " 'lower': 686,\n",
              " 'demand': 687,\n",
              " 'News': 688,\n",
              " 'David': 689,\n",
              " 'club': 690,\n",
              " 'comments': 691,\n",
              " 'film': 692,\n",
              " 'yards': 693,\n",
              " 'quality': 694,\n",
              " 'currently': 695,\n",
              " 'events': 696,\n",
              " 'addition': 697,\n",
              " 'couple': 698,\n",
              " 'schools': 699,\n",
              " 'attack': 700,\n",
              " 'region': 701,\n",
              " 'latest': 702,\n",
              " 'opportunity': 703,\n",
              " 'worked': 704,\n",
              " 'course': 705,\n",
              " 'bad': 706,\n",
              " 'fall': 707,\n",
              " 'Group': 708,\n",
              " 'October': 709,\n",
              " 'jobs': 710,\n",
              " 'list': 711,\n",
              " 'let': 712,\n",
              " 'however': 713,\n",
              " 'chief': 714,\n",
              " 'summer': 715,\n",
              " 'programs': 716,\n",
              " 'According': 717,\n",
              " 'revenue': 718,\n",
              " 'Our': 719,\n",
              " 'rose': 720,\n",
              " 'previous': 721,\n",
              " 'TV': 722,\n",
              " 'football': 723,\n",
              " 'biggest': 724,\n",
              " 'employees': 725,\n",
              " 'changes': 726,\n",
              " 'residents': 727,\n",
              " 'means': 728,\n",
              " 'agreement': 729,\n",
              " 'includes': 730,\n",
              " 'post': 731,\n",
              " 'Canada': 732,\n",
              " 'probably': 733,\n",
              " 'related': 734,\n",
              " 'training': 735,\n",
              " 'allowed': 736,\n",
              " 'class': 737,\n",
              " 'bit': 738,\n",
              " 'video': 739,\n",
              " 'Michael': 740,\n",
              " 'An': 741,\n",
              " 'sent': 742,\n",
              " 'education': 743,\n",
              " 'states': 744,\n",
              " 'straight': 745,\n",
              " 'love': 746,\n",
              " 'beat': 747,\n",
              " 'hold': 748,\n",
              " 'turn': 749,\n",
              " 'finished': 750,\n",
              " 'network': 751,\n",
              " 'Smith': 752,\n",
              " 'buy': 753,\n",
              " 'foreign': 754,\n",
              " 'especially': 755,\n",
              " 'groups': 756,\n",
              " 'wants': 757,\n",
              " 'title': 758,\n",
              " 'included': 759,\n",
              " 'turned': 760,\n",
              " 'bank': 761,\n",
              " 'Florida': 762,\n",
              " 'efforts': 763,\n",
              " 'personal': 764,\n",
              " 'businesses': 765,\n",
              " 'August': 766,\n",
              " 'California': 767,\n",
              " 'situation': 768,\n",
              " 'district': 769,\n",
              " 'allow': 770,\n",
              " 'helped': 771,\n",
              " 'body': 772,\n",
              " 'nothing': 773,\n",
              " 'soon': 774,\n",
              " 'safety': 775,\n",
              " 'officer': 776,\n",
              " 'cents': 777,\n",
              " 'Europe': 778,\n",
              " 'St.': 779,\n",
              " 'additional': 780,\n",
              " 'spokesman': 781,\n",
              " 'February': 782,\n",
              " 'wife': 783,\n",
              " 'showed': 784,\n",
              " 'leave': 785,\n",
              " 'investors': 786,\n",
              " 'parents': 787,\n",
              " 'medical': 788,\n",
              " 'spending': 789,\n",
              " 'non': 790,\n",
              " 'London': 791,\n",
              " 'Council': 792,\n",
              " 'matter': 793,\n",
              " 'spent': 794,\n",
              " 'child': 795,\n",
              " 'World': 796,\n",
              " 'effort': 797,\n",
              " 'opening': 798,\n",
              " 'either': 799,\n",
              " 'range': 800,\n",
              " 'question': 801,\n",
              " 'European': 802,\n",
              " 'goals': 803,\n",
              " 'administration': 804,\n",
              " 'friends': 805,\n",
              " 'himself': 806,\n",
              " 'shows': 807,\n",
              " 'difficult': 808,\n",
              " 'kids': 809,\n",
              " 'paid': 810,\n",
              " 'create': 811,\n",
              " 'cash': 812,\n",
              " 'age': 813,\n",
              " 'league': 814,\n",
              " 'form': 815,\n",
              " 'impact': 816,\n",
              " 'drive': 817,\n",
              " 'someone': 818,\n",
              " 'became': 819,\n",
              " 'stay': 820,\n",
              " 'fight': 821,\n",
              " 'significant': 822,\n",
              " 'firm': 823,\n",
              " 'Senate': 824,\n",
              " 'hospital': 825,\n",
              " 'charged': 826,\n",
              " 'operating': 827,\n",
              " 'main': 828,\n",
              " 'book': 829,\n",
              " 'success': 830,\n",
              " 'son': 831,\n",
              " 'trading': 832,\n",
              " '###-####': 833,\n",
              " 'focus': 834,\n",
              " 'room': 835,\n",
              " 'continued': 836,\n",
              " 'Congress': 837,\n",
              " 'everything': 838,\n",
              " 'Park': 839,\n",
              " 'agency': 840,\n",
              " 'brought': 841,\n",
              " 'talk': 842,\n",
              " 'break': 843,\n",
              " 'air': 844,\n",
              " 'software': 845,\n",
              " 'decided': 846,\n",
              " 'Do': 847,\n",
              " 'ready': 848,\n",
              " 'arrested': 849,\n",
              " 'track': 850,\n",
              " 'provides': 851,\n",
              " 'mother': 852,\n",
              " 'base': 853,\n",
              " 'trial': 854,\n",
              " 'phone': 855,\n",
              " 'My': 856,\n",
              " 'build': 857,\n",
              " 'conditions': 858,\n",
              " 'rest': 859,\n",
              " 'Johnson': 860,\n",
              " 'terms': 861,\n",
              " 'expect': 862,\n",
              " 'England': 863,\n",
              " 'Israel': 864,\n",
              " 'despite': 865,\n",
              " 'closed': 866,\n",
              " 'starting': 867,\n",
              " 'provided': 868,\n",
              " 'pressure': 869,\n",
              " 'lives': 870,\n",
              " 'step': 871,\n",
              " 'remain': 872,\n",
              " 'similar': 873,\n",
              " 'charge': 874,\n",
              " 'date': 875,\n",
              " 'whole': 876,\n",
              " 'land': 877,\n",
              " 'growing': 878,\n",
              " 'James': 879,\n",
              " 'Internet': 880,\n",
              " 'projects': 881,\n",
              " 'British': 882,\n",
              " 'cases': 883,\n",
              " 'ground': 884,\n",
              " 'legal': 885,\n",
              " 'International': 886,\n",
              " 'agreed': 887,\n",
              " 'tell': 888,\n",
              " 'test': 889,\n",
              " 'everyone': 890,\n",
              " 'pretty': 891,\n",
              " 'authorities': 892,\n",
              " 'Two': 893,\n",
              " 'above': 894,\n",
              " 'moved': 895,\n",
              " 'profit': 896,\n",
              " 'throughout': 897,\n",
              " 'inside': 898,\n",
              " 'ability': 899,\n",
              " 'overall': 900,\n",
              " 'pass': 901,\n",
              " 'officers': 902,\n",
              " 'rather': 903,\n",
              " 'Australia': 904,\n",
              " 'actually': 905,\n",
              " 'county': 906,\n",
              " 'amount': 907,\n",
              " 'scheduled': 908,\n",
              " 'themselves': 909,\n",
              " 'organization': 910,\n",
              " 'giving': 911,\n",
              " 'credit': 912,\n",
              " 'father': 913,\n",
              " 'drug': 914,\n",
              " 'investigation': 915,\n",
              " 'families': 916,\n",
              " 'Republican': 917,\n",
              " 'funds': 918,\n",
              " 'patients': 919,\n",
              " 'takes': 920,\n",
              " 'systems': 921,\n",
              " 'Japan': 922,\n",
              " 'complete': 923,\n",
              " 'sold': 924,\n",
              " 'practice': 925,\n",
              " 'calls': 926,\n",
              " '•': 927,\n",
              " 'UK': 928,\n",
              " 'force': 929,\n",
              " 'student': 930,\n",
              " 'idea': 931,\n",
              " 'reached': 932,\n",
              " 'reason': 933,\n",
              " 'levels': 934,\n",
              " 'space': 935,\n",
              " 'competition': 936,\n",
              " 'forces': 937,\n",
              " 'sector': 938,\n",
              " 'Last': 939,\n",
              " 'tried': 940,\n",
              " 'common': 941,\n",
              " 'homes': 942,\n",
              " 'stage': 943,\n",
              " 'department': 944,\n",
              " 'named': 945,\n",
              " 'earnings': 946,\n",
              " 'offers': 947,\n",
              " 'star': 948,\n",
              " 'certain': 949,\n",
              " 'double': 950,\n",
              " 'longer': 951,\n",
              " 'followed': 952,\n",
              " 'cause': 953,\n",
              " 'Association': 954,\n",
              " 'signed': 955,\n",
              " 'committee': 956,\n",
              " 'hour': 957,\n",
              " 'college': 958,\n",
              " 'Pakistan': 959,\n",
              " 'users': 960,\n",
              " 'Iran': 961,\n",
              " 'sign': 962,\n",
              " 'living': 963,\n",
              " 'failed': 964,\n",
              " 'reach': 965,\n",
              " 'quickly': 966,\n",
              " 'receive': 967,\n",
              " 'debt': 968,\n",
              " 'sale': 969,\n",
              " 'Board': 970,\n",
              " 'Americans': 971,\n",
              " 'Road': 972,\n",
              " 'Brown': 973,\n",
              " 'insurance': 974,\n",
              " '##:##': 975,\n",
              " 'anyone': 976,\n",
              " 'tournament': 977,\n",
              " 'More': 978,\n",
              " 'gas': 979,\n",
              " 'talks': 980,\n",
              " 'serious': 981,\n",
              " 'required': 982,\n",
              " 'sell': 983,\n",
              " 'construction': 984,\n",
              " 'evidence': 985,\n",
              " 'remains': 986,\n",
              " 'black': 987,\n",
              " 'below': 988,\n",
              " 'improve': 989,\n",
              " 'crisis': 990,\n",
              " 'address': 991,\n",
              " 'questions': 992,\n",
              " 'easy': 993,\n",
              " 'begin': 994,\n",
              " 'view': 995,\n",
              " 'School': 996,\n",
              " 'heard': 997,\n",
              " 'executive': 998,\n",
              " 'raised': 999,\n",
              " ...}"
            ]
          },
          "metadata": {},
          "execution_count": 24
        }
      ]
    },
    {
      "cell_type": "code",
      "source": [
        "model.most_similar('Delhi')"
      ],
      "metadata": {
        "colab": {
          "base_uri": "https://localhost:8080/"
        },
        "id": "eR0RVl0prXEY",
        "outputId": "4865bd4c-21f4-450f-c64e-7d4a3cb27fc5"
      },
      "execution_count": 25,
      "outputs": [
        {
          "output_type": "execute_result",
          "data": {
            "text/plain": [
              "[('Kolkata', 0.7663769125938416),\n",
              " ('Mumbai', 0.7306069731712341),\n",
              " ('Lucknow', 0.7277829647064209),\n",
              " ('Patna', 0.7159016728401184),\n",
              " ('Guwahati', 0.7072612643241882),\n",
              " ('Jaipur', 0.6992815136909485),\n",
              " ('Hyderabad', 0.6983195543289185),\n",
              " ('Ranchi', 0.6962575912475586),\n",
              " ('Bhubaneswar', 0.6959235072135925),\n",
              " ('Chandigarh', 0.6940240263938904)]"
            ]
          },
          "metadata": {},
          "execution_count": 25
        }
      ]
    },
    {
      "cell_type": "code",
      "source": [
        "result = model.most_similar(positive=['man', 'queen'],\n",
        "negative=['king'], topn=1)\n",
        "print(result)"
      ],
      "metadata": {
        "colab": {
          "base_uri": "https://localhost:8080/"
        },
        "id": "EyUbSIEfrbfy",
        "outputId": "e9effe86-ce2e-47af-91ba-638d2d543a22"
      },
      "execution_count": 26,
      "outputs": [
        {
          "output_type": "stream",
          "name": "stdout",
          "text": [
            "[('woman', 0.7609435319900513)]\n"
          ]
        }
      ]
    },
    {
      "cell_type": "code",
      "source": [
        "result = model.most_similar(positive=['man', 'queen'],\n",
        "negative=['king'], topn=1)\n",
        "print(result)"
      ],
      "metadata": {
        "colab": {
          "base_uri": "https://localhost:8080/"
        },
        "id": "8JAgLLB1reSL",
        "outputId": "188fbcb1-2985-4219-ff56-a2138aff96c2"
      },
      "execution_count": 27,
      "outputs": [
        {
          "output_type": "stream",
          "name": "stdout",
          "text": [
            "[('woman', 0.7609435319900513)]\n"
          ]
        }
      ]
    },
    {
      "cell_type": "code",
      "source": [
        "result = model.most_similar(positive=['France', 'Rome'],\n",
        "negative=['Italy'], topn=1)\n",
        "print(result)"
      ],
      "metadata": {
        "colab": {
          "base_uri": "https://localhost:8080/"
        },
        "id": "Lim_B0nHrgyd",
        "outputId": "4328bd73-cf75-4d86-a0f8-f544ed85cea5"
      },
      "execution_count": 28,
      "outputs": [
        {
          "output_type": "stream",
          "name": "stdout",
          "text": [
            "[('Paris', 0.7190686464309692)]\n"
          ]
        }
      ]
    },
    {
      "cell_type": "markdown",
      "source": [
        "# Training a word to vector model"
      ],
      "metadata": {
        "id": "6E7qBKHPWYQr"
      }
    },
    {
      "cell_type": "markdown",
      "source": [
        "## Building a basic Word2vec model"
      ],
      "metadata": {
        "id": "X_SRuFmllx0x"
      }
    },
    {
      "cell_type": "code",
      "source": [
        "from gensim.models import Word2Vec\n",
        "sentences = [[\"I\", \"am\", \"trying\", \"to\", \"understand\", \"Natural\",\n",
        "\"Language\", \"Processing\"],\n",
        "[\"Natural\", \"Language\", \"Processing\", \"is\", \"fun\",\n",
        "\"to\", \"learn\"],\n",
        "[\"There\", \"are\", \"numerous\", \"use\", \"cases\", \"of\",\n",
        "\"Natural\", \"Language\", \"Processing\"]]\n",
        "model = Word2Vec(sentences, min_count=1)"
      ],
      "metadata": {
        "id": "oyyiZdMkWdE3"
      },
      "execution_count": 1,
      "outputs": []
    },
    {
      "cell_type": "code",
      "source": [
        "model.vector_size"
      ],
      "metadata": {
        "colab": {
          "base_uri": "https://localhost:8080/"
        },
        "id": "MvIUV3A8l3Zx",
        "outputId": "a15c0d9b-0249-438a-b56b-e1035360ed8f"
      },
      "execution_count": 2,
      "outputs": [
        {
          "output_type": "execute_result",
          "data": {
            "text/plain": [
              "100"
            ]
          },
          "metadata": {},
          "execution_count": 2
        }
      ]
    },
    {
      "cell_type": "code",
      "source": [
        "len(model.wv.key_to_index)"
      ],
      "metadata": {
        "colab": {
          "base_uri": "https://localhost:8080/"
        },
        "id": "8LUI9Yvil5kP",
        "outputId": "d091d34b-1d2a-4552-dda3-e149d77c764c"
      },
      "execution_count": 3,
      "outputs": [
        {
          "output_type": "execute_result",
          "data": {
            "text/plain": [
              "17"
            ]
          },
          "metadata": {},
          "execution_count": 3
        }
      ]
    },
    {
      "cell_type": "markdown",
      "source": [
        "## Modifying the min_count parameter"
      ],
      "metadata": {
        "id": "FFV0ZKmPl-vB"
      }
    },
    {
      "cell_type": "code",
      "source": [
        "model = Word2Vec(sentences, min_count=2)"
      ],
      "metadata": {
        "id": "L__ePgZUmAvc"
      },
      "execution_count": 4,
      "outputs": []
    },
    {
      "cell_type": "code",
      "source": [
        "len(model.wv.key_to_index)"
      ],
      "metadata": {
        "colab": {
          "base_uri": "https://localhost:8080/"
        },
        "id": "3B-rj83FmDIx",
        "outputId": "984e3d42-1eb1-4ff5-ee0c-938b4ed0cb88"
      },
      "execution_count": 5,
      "outputs": [
        {
          "output_type": "execute_result",
          "data": {
            "text/plain": [
              "4"
            ]
          },
          "metadata": {},
          "execution_count": 5
        }
      ]
    },
    {
      "cell_type": "code",
      "source": [
        "model.wv.key_to_index"
      ],
      "metadata": {
        "colab": {
          "base_uri": "https://localhost:8080/"
        },
        "id": "owUnr7EjmE_A",
        "outputId": "9ae6b5e6-3e0d-43c4-e28f-fa716113c1c4"
      },
      "execution_count": 6,
      "outputs": [
        {
          "output_type": "execute_result",
          "data": {
            "text/plain": [
              "{'Processing': 0, 'Language': 1, 'Natural': 2, 'to': 3}"
            ]
          },
          "metadata": {},
          "execution_count": 6
        }
      ]
    },
    {
      "cell_type": "code",
      "source": [
        "model.vector_size"
      ],
      "metadata": {
        "colab": {
          "base_uri": "https://localhost:8080/"
        },
        "id": "VXlJz8IHmHul",
        "outputId": "f57009c6-3b44-4188-b52e-cc8876240dd4"
      },
      "execution_count": 7,
      "outputs": [
        {
          "output_type": "execute_result",
          "data": {
            "text/plain": [
              "100"
            ]
          },
          "metadata": {},
          "execution_count": 7
        }
      ]
    },
    {
      "cell_type": "markdown",
      "source": [
        "## Playing with the vector size"
      ],
      "metadata": {
        "id": "DW2HZmcimNSW"
      }
    },
    {
      "cell_type": "code",
      "source": [
        "model = Word2Vec(sentences, min_count=2, vector_size = 300)"
      ],
      "metadata": {
        "id": "1S839hU4mK_M"
      },
      "execution_count": 8,
      "outputs": []
    },
    {
      "cell_type": "code",
      "source": [
        "model.vector_size"
      ],
      "metadata": {
        "colab": {
          "base_uri": "https://localhost:8080/"
        },
        "id": "mJNJ1_MPmQRl",
        "outputId": "c7447386-79a2-46bc-a6eb-471b836f1f9c"
      },
      "execution_count": 9,
      "outputs": [
        {
          "output_type": "execute_result",
          "data": {
            "text/plain": [
              "300"
            ]
          },
          "metadata": {},
          "execution_count": 9
        }
      ]
    },
    {
      "cell_type": "markdown",
      "source": [
        "## Other important configurable parameters"
      ],
      "metadata": {
        "id": "hXww8dk1mW0C"
      }
    },
    {
      "cell_type": "code",
      "source": [
        "model = Word2Vec (sentences, min_count=1, vector_size = 300, workers = 2, sg = 1, negative = 1)"
      ],
      "metadata": {
        "id": "t1p7aHxbmVvk"
      },
      "execution_count": 10,
      "outputs": []
    },
    {
      "cell_type": "code",
      "source": [
        "len(model.wv.key_to_index)"
      ],
      "metadata": {
        "colab": {
          "base_uri": "https://localhost:8080/"
        },
        "id": "FcuUhc-emamh",
        "outputId": "aec8ff96-555c-41cd-dfb4-4c1b1e547574"
      },
      "execution_count": 11,
      "outputs": [
        {
          "output_type": "execute_result",
          "data": {
            "text/plain": [
              "17"
            ]
          },
          "metadata": {},
          "execution_count": 11
        }
      ]
    },
    {
      "cell_type": "code",
      "source": [
        "model.wv.key_to_index"
      ],
      "metadata": {
        "colab": {
          "base_uri": "https://localhost:8080/"
        },
        "id": "Qe9lH6h6mcTq",
        "outputId": "b27496db-4743-4486-8e91-8a0ce7b7a812"
      },
      "execution_count": 12,
      "outputs": [
        {
          "output_type": "execute_result",
          "data": {
            "text/plain": [
              "{'Processing': 0,\n",
              " 'Natural': 1,\n",
              " 'Language': 2,\n",
              " 'to': 3,\n",
              " 'of': 4,\n",
              " 'am': 5,\n",
              " 'trying': 6,\n",
              " 'understand': 7,\n",
              " 'is': 8,\n",
              " 'cases': 9,\n",
              " 'fun': 10,\n",
              " 'learn': 11,\n",
              " 'There': 12,\n",
              " 'are': 13,\n",
              " 'numerous': 14,\n",
              " 'use': 15,\n",
              " 'I': 16}"
            ]
          },
          "metadata": {},
          "execution_count": 12
        }
      ]
    },
    {
      "cell_type": "markdown",
      "source": [
        "# Word mover’s distance"
      ],
      "metadata": {
        "id": "AD3fNpHXmfHN"
      }
    },
    {
      "cell_type": "code",
      "source": [
        "import gensim\n",
        "from gensim.models import KeyedVectors\n",
        "import numpy as np"
      ],
      "metadata": {
        "id": "X6i4473cmkC-"
      },
      "execution_count": 66,
      "outputs": []
    },
    {
      "cell_type": "code",
      "source": [
        "# we have already imported the model in the previous section and since the model is 1.5GB big, it would be very time inefficient to load it again :)"
      ],
      "metadata": {
        "id": "Her65v0Tru_c"
      },
      "execution_count": 30,
      "outputs": []
    },
    {
      "cell_type": "code",
      "source": [
        "sentence_1 = \"Obama speaks to the media in Illinois\"\n",
        "sentence_2 = \"President greets the press in Chicago\"\n",
        "sentence_3 = \"Apple is my favorite company\""
      ],
      "metadata": {
        "id": "yoMHOynZr6xa"
      },
      "execution_count": 31,
      "outputs": []
    },
    {
      "cell_type": "code",
      "source": [
        "# Import and download stopwords from NLTK.\n",
        "from nltk.corpus import stopwords\n",
        "from nltk import download\n",
        "download('stopwords')  # Download stopwords list.\n",
        "stop_words = stopwords.words('english')\n",
        "\n",
        "def preprocess(sentence):\n",
        "    return [w for w in sentence.lower().split() if w not in stop_words]\n",
        "\n",
        "sentence_1 = preprocess(sentence_1)\n",
        "sentence_2 = preprocess(sentence_2)"
      ],
      "metadata": {
        "colab": {
          "base_uri": "https://localhost:8080/"
        },
        "id": "08bBBTnJxceR",
        "outputId": "c9075e98-4116-4039-c495-9ebc00169898"
      },
      "execution_count": 54,
      "outputs": [
        {
          "output_type": "stream",
          "name": "stderr",
          "text": [
            "[nltk_data] Downloading package stopwords to /root/nltk_data...\n",
            "[nltk_data]   Package stopwords is already up-to-date!\n"
          ]
        }
      ]
    },
    {
      "cell_type": "code",
      "source": [
        "sentence_1"
      ],
      "metadata": {
        "colab": {
          "base_uri": "https://localhost:8080/"
        },
        "id": "SmHNSRbxzDiX",
        "outputId": "472dbddb-a807-4b23-c436-1c86601522db"
      },
      "execution_count": 62,
      "outputs": [
        {
          "output_type": "execute_result",
          "data": {
            "text/plain": [
              "['obama', 'speaks', 'media', 'illinois']"
            ]
          },
          "metadata": {},
          "execution_count": 62
        }
      ]
    },
    {
      "cell_type": "code",
      "source": [
        "pip install pot"
      ],
      "metadata": {
        "colab": {
          "base_uri": "https://localhost:8080/"
        },
        "id": "nqgokdap0ZO7",
        "outputId": "20028e9e-55df-43a1-969e-6ea895f3abdf"
      },
      "execution_count": 64,
      "outputs": [
        {
          "output_type": "stream",
          "name": "stdout",
          "text": [
            "Collecting pot\n",
            "  Downloading POT-0.9.3-cp310-cp310-manylinux_2_17_x86_64.manylinux2014_x86_64.whl (823 kB)\n",
            "\u001b[?25l     \u001b[90m━━━━━━━━━━━━━━━━━━━━━━━━━━━━━━━━━━━━━━━━\u001b[0m \u001b[32m0.0/823.0 kB\u001b[0m \u001b[31m?\u001b[0m eta \u001b[36m-:--:--\u001b[0m\r\u001b[2K     \u001b[91m━━━━━━━━━\u001b[0m\u001b[90m╺\u001b[0m\u001b[90m━━━━━━━━━━━━━━━━━━━━━━━━━━━━━━\u001b[0m \u001b[32m194.6/823.0 kB\u001b[0m \u001b[31m5.7 MB/s\u001b[0m eta \u001b[36m0:00:01\u001b[0m\r\u001b[2K     \u001b[91m━━━━━━━━━━━━━━━━━━━━━━━━━━━━━\u001b[0m\u001b[91m╸\u001b[0m\u001b[90m━━━━━━━━━━\u001b[0m \u001b[32m614.4/823.0 kB\u001b[0m \u001b[31m8.9 MB/s\u001b[0m eta \u001b[36m0:00:01\u001b[0m\r\u001b[2K     \u001b[91m━━━━━━━━━━━━━━━━━━━━━━━━━━━━━━━━━━━━━━━\u001b[0m\u001b[91m╸\u001b[0m \u001b[32m819.2/823.0 kB\u001b[0m \u001b[31m9.6 MB/s\u001b[0m eta \u001b[36m0:00:01\u001b[0m\r\u001b[2K     \u001b[90m━━━━━━━━━━━━━━━━━━━━━━━━━━━━━━━━━━━━━━━━\u001b[0m \u001b[32m823.0/823.0 kB\u001b[0m \u001b[31m7.5 MB/s\u001b[0m eta \u001b[36m0:00:00\u001b[0m\n",
            "\u001b[?25hRequirement already satisfied: numpy>=1.16 in /usr/local/lib/python3.10/dist-packages (from pot) (1.25.2)\n",
            "Requirement already satisfied: scipy>=1.6 in /usr/local/lib/python3.10/dist-packages (from pot) (1.11.4)\n",
            "Installing collected packages: pot\n",
            "Successfully installed pot-0.9.3\n"
          ]
        }
      ]
    },
    {
      "cell_type": "code",
      "source": [
        "word_mover_distance = model.wmdistance(sentence_1, sentence_2)\n",
        "word_mover_distance"
      ],
      "metadata": {
        "colab": {
          "base_uri": "https://localhost:8080/"
        },
        "id": "t3un9Tbjr94t",
        "outputId": "07a65203-dcc4-4fd6-a665-acc3cb2d4109"
      },
      "execution_count": 68,
      "outputs": [
        {
          "output_type": "execute_result",
          "data": {
            "text/plain": [
              "1.0174646858929572"
            ]
          },
          "metadata": {},
          "execution_count": 68
        }
      ]
    },
    {
      "cell_type": "code",
      "source": [
        "sentence_3 = preprocess(sentence_3)"
      ],
      "metadata": {
        "id": "bNaYCyutx9IM"
      },
      "execution_count": 69,
      "outputs": []
    },
    {
      "cell_type": "code",
      "source": [
        "word_mover_distance = model.wmdistance(sentence_1, sentence_3)\n",
        "word_mover_distance"
      ],
      "metadata": {
        "colab": {
          "base_uri": "https://localhost:8080/"
        },
        "id": "reTqGQ_B00vf",
        "outputId": "d7738f4f-1936-4526-b080-4aa67f749c95"
      },
      "execution_count": 71,
      "outputs": [
        {
          "output_type": "execute_result",
          "data": {
            "text/plain": [
              "1.340475408759902"
            ]
          },
          "metadata": {},
          "execution_count": 71
        }
      ]
    }
  ]
}