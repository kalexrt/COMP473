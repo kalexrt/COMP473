{
  "nbformat": 4,
  "nbformat_minor": 0,
  "metadata": {
    "colab": {
      "provenance": []
    },
    "kernelspec": {
      "name": "python3",
      "display_name": "Python 3"
    },
    "language_info": {
      "name": "python"
    }
  },
  "cells": [
    {
      "cell_type": "markdown",
      "source": [
        "## Venturing into Doc2Vec"
      ],
      "metadata": {
        "id": "xqzt2gu2Q5oH"
      }
    },
    {
      "cell_type": "code",
      "source": [
        "from gensim.test.utils import common_texts\n",
        "from gensim.models.doc2vec import Doc2Vec, TaggedDocument"
      ],
      "metadata": {
        "id": "ocOHDhEiQ12h"
      },
      "execution_count": null,
      "outputs": []
    },
    {
      "cell_type": "code",
      "source": [
        "common_texts"
      ],
      "metadata": {
        "colab": {
          "base_uri": "https://localhost:8080/"
        },
        "id": "uSx7PmYSQ15D",
        "outputId": "18b18f37-4c63-4bf1-a419-95f702587877"
      },
      "execution_count": null,
      "outputs": [
        {
          "output_type": "execute_result",
          "data": {
            "text/plain": [
              "[['human', 'interface', 'computer'],\n",
              " ['survey', 'user', 'computer', 'system', 'response', 'time'],\n",
              " ['eps', 'user', 'interface', 'system'],\n",
              " ['system', 'human', 'system', 'eps'],\n",
              " ['user', 'response', 'time'],\n",
              " ['trees'],\n",
              " ['graph', 'trees'],\n",
              " ['graph', 'minors', 'trees'],\n",
              " ['graph', 'minors', 'survey']]"
            ]
          },
          "metadata": {},
          "execution_count": 2
        }
      ]
    },
    {
      "cell_type": "code",
      "source": [
        "documents = [TaggedDocument(doc, [i]) for i, doc in enumerate(common_texts)]\n",
        "documents"
      ],
      "metadata": {
        "colab": {
          "base_uri": "https://localhost:8080/"
        },
        "id": "XWLc-cF_Q18f",
        "outputId": "f5ac3361-5444-44ab-d60e-d9acef243dbd"
      },
      "execution_count": null,
      "outputs": [
        {
          "output_type": "execute_result",
          "data": {
            "text/plain": [
              "[TaggedDocument(words=['human', 'interface', 'computer'], tags=[0]),\n",
              " TaggedDocument(words=['survey', 'user', 'computer', 'system', 'response', 'time'], tags=[1]),\n",
              " TaggedDocument(words=['eps', 'user', 'interface', 'system'], tags=[2]),\n",
              " TaggedDocument(words=['system', 'human', 'system', 'eps'], tags=[3]),\n",
              " TaggedDocument(words=['user', 'response', 'time'], tags=[4]),\n",
              " TaggedDocument(words=['trees'], tags=[5]),\n",
              " TaggedDocument(words=['graph', 'trees'], tags=[6]),\n",
              " TaggedDocument(words=['graph', 'minors', 'trees'], tags=[7]),\n",
              " TaggedDocument(words=['graph', 'minors', 'survey'], tags=[8])]"
            ]
          },
          "metadata": {},
          "execution_count": 4
        }
      ]
    },
    {
      "cell_type": "code",
      "source": [
        "model = Doc2Vec(documents, vector_size=5, min_count=1, workers=4, epochs = 40)\n",
        "model.train(documents, total_examples=model.corpus_count,\n",
        "epochs=model.epochs)"
      ],
      "metadata": {
        "colab": {
          "base_uri": "https://localhost:8080/"
        },
        "id": "h4Kj0GoFRo-v",
        "outputId": "75d32e63-a86a-4d2b-89ff-e1ebed842596"
      },
      "execution_count": null,
      "outputs": [
        {
          "output_type": "stream",
          "name": "stderr",
          "text": [
            "WARNING:gensim.models.word2vec:Effective 'alpha' higher than previous training cycles\n"
          ]
        }
      ]
    },
    {
      "cell_type": "code",
      "source": [
        "model.vector_size"
      ],
      "metadata": {
        "colab": {
          "base_uri": "https://localhost:8080/"
        },
        "id": "xDDrS_4WRpBT",
        "outputId": "743de678-fb47-435e-c3f0-a1ab289dc5fe"
      },
      "execution_count": null,
      "outputs": [
        {
          "output_type": "execute_result",
          "data": {
            "text/plain": [
              "5"
            ]
          },
          "metadata": {},
          "execution_count": 6
        }
      ]
    },
    {
      "cell_type": "code",
      "source": [
        "len(model.dv)"
      ],
      "metadata": {
        "colab": {
          "base_uri": "https://localhost:8080/"
        },
        "id": "hSsz021aRpEI",
        "outputId": "6165863f-eea1-4564-eb68-f189cd45ea6b"
      },
      "execution_count": null,
      "outputs": [
        {
          "output_type": "execute_result",
          "data": {
            "text/plain": [
              "9"
            ]
          },
          "metadata": {},
          "execution_count": 7
        }
      ]
    },
    {
      "cell_type": "code",
      "source": [
        "len(model.wv.key_to_index)"
      ],
      "metadata": {
        "colab": {
          "base_uri": "https://localhost:8080/"
        },
        "id": "AgPcyoCBRpGt",
        "outputId": "bebe4b7e-1ebe-4008-972b-30922fd5b97a"
      },
      "execution_count": null,
      "outputs": [
        {
          "output_type": "execute_result",
          "data": {
            "text/plain": [
              "12"
            ]
          },
          "metadata": {},
          "execution_count": 8
        }
      ]
    },
    {
      "cell_type": "code",
      "source": [
        "model.wv.key_to_index"
      ],
      "metadata": {
        "colab": {
          "base_uri": "https://localhost:8080/"
        },
        "id": "Vch1EfPcRpJa",
        "outputId": "ac353f6a-c45c-4c4b-ceee-6a78f7f11290"
      },
      "execution_count": null,
      "outputs": [
        {
          "output_type": "execute_result",
          "data": {
            "text/plain": [
              "{'system': 0,\n",
              " 'graph': 1,\n",
              " 'trees': 2,\n",
              " 'user': 3,\n",
              " 'minors': 4,\n",
              " 'eps': 5,\n",
              " 'time': 6,\n",
              " 'response': 7,\n",
              " 'survey': 8,\n",
              " 'computer': 9,\n",
              " 'interface': 10,\n",
              " 'human': 11}"
            ]
          },
          "metadata": {},
          "execution_count": 9
        }
      ]
    },
    {
      "cell_type": "code",
      "source": [
        "vector = model.infer_vector(['user', 'interface', 'for', 'computer'])\n",
        "print(vector)"
      ],
      "metadata": {
        "colab": {
          "base_uri": "https://localhost:8080/"
        },
        "id": "2LGjVE5lRpMw",
        "outputId": "ae726ce5-2a97-4cbf-c541-c9d3c36e3f45"
      },
      "execution_count": null,
      "outputs": [
        {
          "output_type": "stream",
          "name": "stdout",
          "text": [
            "[-0.0800762   0.07085846 -0.09053659 -0.00673051 -0.05693997]\n"
          ]
        }
      ]
    },
    {
      "cell_type": "markdown",
      "source": [
        "## Changing vector size and min_count\n"
      ],
      "metadata": {
        "id": "cOTqGhfQR4L_"
      }
    },
    {
      "cell_type": "code",
      "source": [
        "model = Doc2Vec(documents, vector_size=50, min_count=3, epochs=40)\n",
        "model.train(documents, total_examples=model.corpus_count,\n",
        "epochs=model.epochs)"
      ],
      "metadata": {
        "colab": {
          "base_uri": "https://localhost:8080/"
        },
        "id": "21ilGtH4R2pa",
        "outputId": "dbdc350f-1fa6-4a40-bbcf-c14e82461447"
      },
      "execution_count": null,
      "outputs": [
        {
          "output_type": "stream",
          "name": "stderr",
          "text": [
            "WARNING:gensim.models.word2vec:Effective 'alpha' higher than previous training cycles\n"
          ]
        }
      ]
    },
    {
      "cell_type": "code",
      "source": [
        "len(model.wv.key_to_index)"
      ],
      "metadata": {
        "colab": {
          "base_uri": "https://localhost:8080/"
        },
        "id": "vEWJSDYNR2sB",
        "outputId": "e449ae18-bae1-4622-c767-5a7cce53ae35"
      },
      "execution_count": null,
      "outputs": [
        {
          "output_type": "execute_result",
          "data": {
            "text/plain": [
              "4"
            ]
          },
          "metadata": {},
          "execution_count": 12
        }
      ]
    },
    {
      "cell_type": "code",
      "source": [
        "model.wv.key_to_index"
      ],
      "metadata": {
        "colab": {
          "base_uri": "https://localhost:8080/"
        },
        "id": "sip_KulLR2vm",
        "outputId": "8a883be8-892a-475d-b935-08c829c3aa6c"
      },
      "execution_count": null,
      "outputs": [
        {
          "output_type": "execute_result",
          "data": {
            "text/plain": [
              "{'system': 0, 'graph': 1, 'trees': 2, 'user': 3}"
            ]
          },
          "metadata": {},
          "execution_count": 13
        }
      ]
    },
    {
      "cell_type": "code",
      "source": [
        "vector = model.infer_vector(['user', 'interface', 'for', 'computer'])\n",
        "print(vector)"
      ],
      "metadata": {
        "colab": {
          "base_uri": "https://localhost:8080/"
        },
        "id": "qTJSSMLWSCYO",
        "outputId": "90726e35-2d99-4f85-b333-9aeba8f5b496"
      },
      "execution_count": null,
      "outputs": [
        {
          "output_type": "stream",
          "name": "stdout",
          "text": [
            "[-0.00777615  0.00735332 -0.00844175 -0.00016482 -0.00579738  0.00063699\n",
            " -0.00990451 -0.00872912  0.00460942  0.00236628  0.00145006 -0.00761346\n",
            " -0.00413414 -0.00469716 -0.00615075 -0.00696181 -0.00203604  0.0048501\n",
            "  0.00550309 -0.00276752 -0.00643037  0.00471716 -0.00354644  0.00987764\n",
            "  0.00881902 -0.00479796 -0.00381807 -0.00202981 -0.00374818 -0.00037171\n",
            "  0.00795252  0.00617521 -0.00598866 -0.00631139 -0.00640636  0.00809166\n",
            "  0.00255355 -0.0072995  -0.00345151  0.00498347  0.00860604  0.00216268\n",
            "  0.00207193  0.00902919  0.00072415 -0.00626899  0.00144841  0.00293647\n",
            " -0.00972053  0.00955734]\n"
          ]
        }
      ]
    },
    {
      "cell_type": "markdown",
      "source": [
        "## The dm parameter for switching between modeling approaches"
      ],
      "metadata": {
        "id": "2EPbqFjsSEgv"
      }
    },
    {
      "cell_type": "code",
      "source": [
        "model = Doc2Vec(documents, vector_size=50, min_count=2, epochs=40, dm=1)\n",
        "model.train(documents, total_examples=model.corpus_count, epochs=model.epochs)"
      ],
      "metadata": {
        "colab": {
          "base_uri": "https://localhost:8080/"
        },
        "id": "RJKP896PSCa9",
        "outputId": "ab5b2ebb-dede-43ff-ec5b-a3fe3d0bd9d1"
      },
      "execution_count": null,
      "outputs": [
        {
          "output_type": "stream",
          "name": "stderr",
          "text": [
            "WARNING:gensim.models.word2vec:Effective 'alpha' higher than previous training cycles\n"
          ]
        }
      ]
    },
    {
      "cell_type": "code",
      "source": [
        "model = Doc2Vec(documents, vector_size=50, min_count=2, epochs=40, dm=0)\n",
        "model.train(documents, total_examples=model.corpus_count, epochs=model.epochs)"
      ],
      "metadata": {
        "colab": {
          "base_uri": "https://localhost:8080/"
        },
        "id": "cwSeVBAhSCeU",
        "outputId": "21ef840b-4791-41d7-da8a-466ab6715687"
      },
      "execution_count": null,
      "outputs": [
        {
          "output_type": "stream",
          "name": "stderr",
          "text": [
            "WARNING:gensim.models.word2vec:Effective 'alpha' higher than previous training cycles\n"
          ]
        }
      ]
    },
    {
      "cell_type": "markdown",
      "source": [
        "## The dm_concat parameter"
      ],
      "metadata": {
        "id": "KPDAj0y_SN5c"
      }
    },
    {
      "cell_type": "code",
      "source": [
        "model = Doc2Vec(documents, vector_size=50, min_count=2, epochs=40, window=2, dm=1, alpha=0.3, min_alpha=0.05, dm_concat=1)\n",
        "model.train(documents, total_examples=model.corpus_count, epochs=model.epochs)"
      ],
      "metadata": {
        "colab": {
          "base_uri": "https://localhost:8080/"
        },
        "id": "x-zEbM0lSOme",
        "outputId": "d029ed8c-e73b-4401-d390-811eabda6e7c"
      },
      "execution_count": null,
      "outputs": [
        {
          "output_type": "stream",
          "name": "stderr",
          "text": [
            "WARNING:gensim.models.word2vec:Effective 'alpha' higher than previous training cycles\n"
          ]
        }
      ]
    },
    {
      "cell_type": "markdown",
      "source": [
        "## The dm_mean parameter"
      ],
      "metadata": {
        "id": "D57crdwzSRjx"
      }
    },
    {
      "cell_type": "code",
      "source": [
        "model = Doc2Vec(documents, vector_size=50, min_count=2, epochs=40, window=2, dm=1, dm_concat=0, dm_mean=1, alpha=0.3, min_alpha=0.05)\n",
        "model.train(documents, total_examples=model.corpus_count, epochs=model.epochs)"
      ],
      "metadata": {
        "colab": {
          "base_uri": "https://localhost:8080/"
        },
        "id": "wzmwz6LzST73",
        "outputId": "8fafa79d-a9b2-40e0-bb02-674b7b13a95a"
      },
      "execution_count": null,
      "outputs": [
        {
          "output_type": "stream",
          "name": "stderr",
          "text": [
            "WARNING:gensim.models.word2vec:Effective 'alpha' higher than previous training cycles\n"
          ]
        }
      ]
    },
    {
      "cell_type": "code",
      "source": [
        "model = Doc2Vec(documents, vector_size=50, min_count=2, epochs=40, window=2, dm=1, dm_concat=0, dm_mean=0, alpha=0.3, min_alpha=0.05)\n",
        "model.train(documents, total_examples=model.corpus_count, epochs=model.epochs)"
      ],
      "metadata": {
        "colab": {
          "base_uri": "https://localhost:8080/"
        },
        "id": "jCRf-1E8SWS-",
        "outputId": "2b8d9bca-8e67-470d-e3dd-bde5c66ef4b2"
      },
      "execution_count": null,
      "outputs": [
        {
          "output_type": "stream",
          "name": "stderr",
          "text": [
            "WARNING:gensim.models.word2vec:Effective 'alpha' higher than previous training cycles\n"
          ]
        }
      ]
    },
    {
      "cell_type": "code",
      "source": [
        "model = Doc2Vec(documents, vector_size=50, min_count=2, epochs=40, window=2, dm=0)\n",
        "model.train(documents, total_examples=model.corpus_count, epochs=model.epochs)"
      ],
      "metadata": {
        "colab": {
          "base_uri": "https://localhost:8080/"
        },
        "id": "pMlBrObASWVY",
        "outputId": "9d216b08-2a5f-42d0-e58f-4ef950fda98b"
      },
      "execution_count": null,
      "outputs": [
        {
          "output_type": "stream",
          "name": "stderr",
          "text": [
            "WARNING:gensim.models.word2vec:Effective 'alpha' higher than previous training cycles\n"
          ]
        }
      ]
    },
    {
      "cell_type": "code",
      "source": [
        "model = Doc2Vec(documents, vector_size=50, min_count=2, epochs=40, window=2, dm=1, alpha=0.3, min_alpha=0.05)\n",
        "model.train(documents, total_examples=model.corpus_count, epochs=model.epochs)"
      ],
      "metadata": {
        "colab": {
          "base_uri": "https://localhost:8080/"
        },
        "id": "b9Xwr991SWY-",
        "outputId": "36a3dbd9-f841-4d2e-d1bf-06c710ca08df"
      },
      "execution_count": null,
      "outputs": [
        {
          "output_type": "stream",
          "name": "stderr",
          "text": [
            "WARNING:gensim.models.word2vec:Effective 'alpha' higher than previous training cycles\n"
          ]
        }
      ]
    },
    {
      "cell_type": "markdown",
      "source": [
        "\n",
        "## Exploring fastText"
      ],
      "metadata": {
        "id": "wEfdYht5SmVf"
      }
    },
    {
      "cell_type": "markdown",
      "source": [
        "## Building a fastText model"
      ],
      "metadata": {
        "id": "pNEUpg6pSp3L"
      }
    },
    {
      "cell_type": "code",
      "source": [
        "from gensim.models import FastText\n",
        "from gensim.test.utils import common_texts"
      ],
      "metadata": {
        "id": "wjn-KkMYSfe_"
      },
      "execution_count": null,
      "outputs": []
    },
    {
      "cell_type": "code",
      "source": [
        "model = FastText(vector_size=5, window=3, min_count=1)\n",
        "model.build_vocab(common_texts)\n",
        "model.train(common_texts, total_examples=len(common_texts), epochs=10)"
      ],
      "metadata": {
        "colab": {
          "base_uri": "https://localhost:8080/"
        },
        "id": "3HlnltDiSfhd",
        "outputId": "82086959-42d4-4b2d-afb5-3d22e83a4c56"
      },
      "execution_count": null,
      "outputs": [
        {
          "output_type": "execute_result",
          "data": {
            "text/plain": [
              "(36, 290)"
            ]
          },
          "metadata": {},
          "execution_count": 23
        }
      ]
    },
    {
      "cell_type": "code",
      "source": [
        "model.wv.key_to_index"
      ],
      "metadata": {
        "colab": {
          "base_uri": "https://localhost:8080/"
        },
        "id": "UD8Z3eFYSfk3",
        "outputId": "aff07f21-9308-4186-d3f2-78f823a0f4e1"
      },
      "execution_count": null,
      "outputs": [
        {
          "output_type": "execute_result",
          "data": {
            "text/plain": [
              "{'system': 0,\n",
              " 'graph': 1,\n",
              " 'trees': 2,\n",
              " 'user': 3,\n",
              " 'minors': 4,\n",
              " 'eps': 5,\n",
              " 'time': 6,\n",
              " 'response': 7,\n",
              " 'survey': 8,\n",
              " 'computer': 9,\n",
              " 'interface': 10,\n",
              " 'human': 11}"
            ]
          },
          "metadata": {},
          "execution_count": 24
        }
      ]
    },
    {
      "cell_type": "code",
      "source": [
        "model.wv['human']"
      ],
      "metadata": {
        "colab": {
          "base_uri": "https://localhost:8080/"
        },
        "id": "SlUp-kZeSxdV",
        "outputId": "d57f80d4-2ef9-410e-a855-6e14ce5e659a"
      },
      "execution_count": null,
      "outputs": [
        {
          "output_type": "execute_result",
          "data": {
            "text/plain": [
              "array([-0.03166137,  0.02326731,  0.01241683,  0.00036033,  0.02841445],\n",
              "      dtype=float32)"
            ]
          },
          "metadata": {},
          "execution_count": 25
        }
      ]
    },
    {
      "cell_type": "code",
      "source": [
        "model.wv.most_similar(positive=['computer', 'interface'], negative=['human'])"
      ],
      "metadata": {
        "colab": {
          "base_uri": "https://localhost:8080/"
        },
        "id": "ENp6dvPzSxhA",
        "outputId": "e7ba2479-131f-47a3-f0cc-a59901475664"
      },
      "execution_count": null,
      "outputs": [
        {
          "output_type": "execute_result",
          "data": {
            "text/plain": [
              "[('user', 0.7968785762786865),\n",
              " ('system', 0.17462188005447388),\n",
              " ('response', 0.104334257543087),\n",
              " ('survey', 0.009604760445654392),\n",
              " ('trees', -0.07640466839075089),\n",
              " ('time', -0.1330047994852066),\n",
              " ('minors', -0.13927175104618073),\n",
              " ('eps', -0.24093686044216156),\n",
              " ('graph', -0.291752427816391)]"
            ]
          },
          "metadata": {},
          "execution_count": 26
        }
      ]
    },
    {
      "cell_type": "code",
      "source": [
        "model = FastText(vector_size=5, window=3, min_count=1, min_n=1, max_n=5)\n",
        "model.build_vocab(common_texts)\n",
        "model.train(common_texts, total_examples=len(common_texts),epochs=10)"
      ],
      "metadata": {
        "colab": {
          "base_uri": "https://localhost:8080/"
        },
        "id": "ENsMCxJJS2rb",
        "outputId": "dad00b7a-f6ea-4121-b2ea-de51520a6762"
      },
      "execution_count": null,
      "outputs": [
        {
          "output_type": "execute_result",
          "data": {
            "text/plain": [
              "(36, 290)"
            ]
          },
          "metadata": {},
          "execution_count": 27
        }
      ]
    },
    {
      "cell_type": "code",
      "source": [
        "model.wv['rubber']"
      ],
      "metadata": {
        "colab": {
          "base_uri": "https://localhost:8080/"
        },
        "id": "Fm0WAFL3S67x",
        "outputId": "a0d909c7-0d9a-4771-b379-c55075961d64"
      },
      "execution_count": null,
      "outputs": [
        {
          "output_type": "execute_result",
          "data": {
            "text/plain": [
              "array([ 0.01833104, -0.02146881,  0.00600105, -0.03445042, -0.0165866 ],\n",
              "      dtype=float32)"
            ]
          },
          "metadata": {},
          "execution_count": 28
        }
      ]
    },
    {
      "cell_type": "code",
      "source": [
        "model.wv.most_similar(positive=['computer', 'human'], negative=['rubber'])"
      ],
      "metadata": {
        "colab": {
          "base_uri": "https://localhost:8080/"
        },
        "id": "kyXzvNaSS-2S",
        "outputId": "d4103f9f-4bcd-41e9-c166-df3323f2c207"
      },
      "execution_count": null,
      "outputs": [
        {
          "output_type": "execute_result",
          "data": {
            "text/plain": [
              "[('trees', 0.795038104057312),\n",
              " ('eps', 0.7793108820915222),\n",
              " ('minors', 0.2440604716539383),\n",
              " ('time', 0.1623203009366989),\n",
              " ('user', -0.04820726439356804),\n",
              " ('graph', -0.15672056376934052),\n",
              " ('survey', -0.20417772233486176),\n",
              " ('interface', -0.3921482563018799),\n",
              " ('response', -0.6897355914115906),\n",
              " ('system', -0.8435077667236328)]"
            ]
          },
          "metadata": {},
          "execution_count": 29
        }
      ]
    },
    {
      "cell_type": "code",
      "source": [
        "sentences_to_be_added = [[\"I\", \"am\", \"learning\", \"Natural\", \"Language\",\"Processing\"],[\"Natural\", \"Language\", \"Processing\", \"is\", \"cool\"]]\n",
        "model.build_vocab(sentences_to_be_added, update=True)\n",
        "model.train(common_texts,\n",
        "total_examples=len(sentences_to_be_added), epochs=10)"
      ],
      "metadata": {
        "colab": {
          "base_uri": "https://localhost:8080/"
        },
        "id": "n5T9SavKS-4u",
        "outputId": "7061a007-2d56-4ad6-8559-cfd644d9e65b"
      },
      "execution_count": null,
      "outputs": [
        {
          "output_type": "stream",
          "name": "stderr",
          "text": [
            "WARNING:gensim.models.word2vec:Effective 'alpha' higher than previous training cycles\n",
            "WARNING:gensim.models.word2vec:EPOCH 0: supplied example count (9) did not equal expected count (2)\n",
            "WARNING:gensim.models.word2vec:EPOCH 1: supplied example count (9) did not equal expected count (2)\n",
            "WARNING:gensim.models.word2vec:EPOCH 2: supplied example count (9) did not equal expected count (2)\n",
            "WARNING:gensim.models.word2vec:EPOCH 3: supplied example count (9) did not equal expected count (2)\n",
            "WARNING:gensim.models.word2vec:EPOCH 4: supplied example count (9) did not equal expected count (2)\n",
            "WARNING:gensim.models.word2vec:EPOCH 5: supplied example count (9) did not equal expected count (2)\n",
            "WARNING:gensim.models.word2vec:EPOCH 6: supplied example count (9) did not equal expected count (2)\n",
            "WARNING:gensim.models.word2vec:EPOCH 7: supplied example count (9) did not equal expected count (2)\n",
            "WARNING:gensim.models.word2vec:EPOCH 8: supplied example count (9) did not equal expected count (2)\n",
            "WARNING:gensim.models.word2vec:EPOCH 9: supplied example count (9) did not equal expected count (2)\n"
          ]
        },
        {
          "output_type": "execute_result",
          "data": {
            "text/plain": [
              "(43, 290)"
            ]
          },
          "metadata": {},
          "execution_count": 30
        }
      ]
    },
    {
      "cell_type": "code",
      "source": [
        "model.wv.key_to_index"
      ],
      "metadata": {
        "colab": {
          "base_uri": "https://localhost:8080/"
        },
        "id": "zppDrTGCS-7O",
        "outputId": "93e031ec-8293-4adf-b970-55041021f6ec"
      },
      "execution_count": null,
      "outputs": [
        {
          "output_type": "execute_result",
          "data": {
            "text/plain": [
              "{'system': 0,\n",
              " 'graph': 1,\n",
              " 'trees': 2,\n",
              " 'user': 3,\n",
              " 'minors': 4,\n",
              " 'eps': 5,\n",
              " 'time': 6,\n",
              " 'response': 7,\n",
              " 'survey': 8,\n",
              " 'computer': 9,\n",
              " 'interface': 10,\n",
              " 'human': 11,\n",
              " 'I': 12,\n",
              " 'am': 13,\n",
              " 'learning': 14,\n",
              " 'Natural': 15,\n",
              " 'Language': 16,\n",
              " 'Processing': 17,\n",
              " 'is': 18,\n",
              " 'cool': 19}"
            ]
          },
          "metadata": {},
          "execution_count": 31
        }
      ]
    },
    {
      "cell_type": "markdown",
      "source": [
        "## Building a spelling corrector/word suggestion module using fastText"
      ],
      "metadata": {
        "id": "vrNFBc7BTGRa"
      }
    },
    {
      "cell_type": "code",
      "source": [
        "import nltk\n",
        "import re\n",
        "nltk.download('stopwords')\n",
        "nltk.download('wordnet')\n",
        "from nltk.corpus import stopwords\n",
        "from nltk.stem.porter import PorterStemmer\n",
        "from nltk.stem.snowball import SnowballStemmer\n",
        "from nltk.stem.wordnet import WordNetLemmatizer\n",
        "from gensim.models import FastText\n",
        "import io\n",
        "import collections"
      ],
      "metadata": {
        "colab": {
          "base_uri": "https://localhost:8080/"
        },
        "id": "4EVaq06vS-90",
        "outputId": "778c8dde-902e-4f29-8aa2-ddfa2989c1aa"
      },
      "execution_count": null,
      "outputs": [
        {
          "output_type": "stream",
          "name": "stderr",
          "text": [
            "[nltk_data] Downloading package stopwords to /root/nltk_data...\n",
            "[nltk_data]   Unzipping corpora/stopwords.zip.\n",
            "[nltk_data] Downloading package wordnet to /root/nltk_data...\n"
          ]
        }
      ]
    },
    {
      "cell_type": "code",
      "source": [
        "words = []\n",
        "data = []\n",
        "with io.open('comments.txt', 'r', encoding='utf8') as file:\n",
        "    for entry in file:\n",
        "        entry = entry.strip()\n",
        "        data.append(entry)\n",
        "        words.extend(entry.split())"
      ],
      "metadata": {
        "id": "vg2H5DaTS_BO"
      },
      "execution_count": null,
      "outputs": []
    },
    {
      "cell_type": "code",
      "source": [
        "unique_words = []\n",
        "unique_words = collections.Counter(words)\n",
        "unique_words.most_common(10)"
      ],
      "metadata": {
        "colab": {
          "base_uri": "https://localhost:8080/"
        },
        "id": "NK2zWlDVTMIY",
        "outputId": "980ae2aa-fc8b-44a7-b50d-ab72ad095f1b"
      },
      "execution_count": null,
      "outputs": [
        {
          "output_type": "execute_result",
          "data": {
            "text/plain": [
              "[('the', 445892),\n",
              " ('to', 288753),\n",
              " ('of', 219279),\n",
              " ('and', 207335),\n",
              " ('a', 201765),\n",
              " ('I', 182618),\n",
              " ('is', 164602),\n",
              " ('you', 157025),\n",
              " ('that', 140495),\n",
              " ('in', 130244)]"
            ]
          },
          "metadata": {},
          "execution_count": 46
        }
      ]
    },
    {
      "cell_type": "code",
      "source": [
        "def text_clean(corpus):\n",
        "    '''\n",
        "    Purpose : Function to keep only alphabets, digits and certain words (punctuations, qmarks, tabs etc. removed)\n",
        "\n",
        "    Input : Takes a text corpus, 'corpus' to be cleaned along with a list of words, 'keep_list', which have to be retained\n",
        "            even after the cleaning process\n",
        "\n",
        "    Output : Returns the cleaned text corpus\n",
        "\n",
        "    '''\n",
        "    cleaned_corpus = []\n",
        "    for row in corpus:\n",
        "        qs = []\n",
        "        for word in row.split():\n",
        "            p1 = re.sub(pattern='[^a-zA-Z0-9]',repl=' ',string=word)\n",
        "            p1 = p1.lower()\n",
        "            qs.append(p1)\n",
        "        cleaned_corpus.append(' '.join(qs))\n",
        "    return cleaned_corpus"
      ],
      "metadata": {
        "id": "DZnqwpC0TMLB"
      },
      "execution_count": null,
      "outputs": []
    },
    {
      "cell_type": "code",
      "source": [
        "def stopwords_removal(corpus):\n",
        "    wh_words = ['who', 'what', 'when', 'why', 'how', 'which', 'where', 'whom']\n",
        "    stop = set(stopwords.words('english'))\n",
        "    for word in wh_words:\n",
        "        stop.remove(word)\n",
        "    corpus = [[x for x in x.split() if x not in stop] for x in corpus]\n",
        "    return corpus"
      ],
      "metadata": {
        "id": "mex4zumOTMNp"
      },
      "execution_count": null,
      "outputs": []
    },
    {
      "cell_type": "code",
      "source": [
        "def lemmatize(corpus):\n",
        "    lem = WordNetLemmatizer()\n",
        "    corpus = [[lem.lemmatize(x, pos = 'v') for x in x] for x in corpus]\n",
        "    return corpus"
      ],
      "metadata": {
        "id": "jKHoe1UPTMQ5"
      },
      "execution_count": null,
      "outputs": []
    },
    {
      "cell_type": "code",
      "source": [
        "def stem(corpus, stem_type = None):\n",
        "    if stem_type == 'snowball':\n",
        "        stemmer = SnowballStemmer(language = 'english')\n",
        "        corpus = [[stemmer.stem(x) for x in x] for x in corpus]\n",
        "    else :\n",
        "        stemmer = PorterStemmer()\n",
        "        corpus = [[stemmer.stem(x) for x in x] for x in corpus]\n",
        "    return corpus"
      ],
      "metadata": {
        "id": "GJiy2A2LTYGw"
      },
      "execution_count": null,
      "outputs": []
    },
    {
      "cell_type": "code",
      "source": [
        "def preprocess(corpus, cleaning = True, stemming = False, stem_type = None, lemmatization = False, remove_stopwords = True):\n",
        "    '''\n",
        "    Purpose : Function to perform all pre-processing tasks (cleaning, stemming, lemmatization, stopwords removal etc.)\n",
        "\n",
        "    Input :\n",
        "    'corpus' - Text corpus on which pre-processing tasks will be performed\n",
        "    'keep_list' - List of words to be retained during cleaning process\n",
        "    'cleaning', 'stemming', 'lemmatization', 'remove_stopwords' - Boolean variables indicating whether a particular task should\n",
        "                                                                  be performed or not\n",
        "    'stem_type' - Choose between Porter stemmer or Snowball(Porter2) stemmer. Default is \"None\", which corresponds to Porter\n",
        "                  Stemmer. 'snowball' corresponds to Snowball Stemmer\n",
        "\n",
        "    Note : Either stemming or lemmatization should be used. There's no benefit of using both of them together\n",
        "\n",
        "    Output : Returns the processed text corpus\n",
        "\n",
        "    '''\n",
        "\n",
        "    if cleaning == True:\n",
        "        corpus = text_clean(corpus)\n",
        "\n",
        "    if remove_stopwords == True:\n",
        "        corpus = stopwords_removal(corpus)\n",
        "    else :\n",
        "        corpus = [[x for x in x.split()] for x in corpus]\n",
        "\n",
        "    if lemmatization == True:\n",
        "        corpus = lemmatize(corpus)\n",
        "\n",
        "\n",
        "    if stemming == True:\n",
        "        corpus = stem(corpus, stem_type)\n",
        "\n",
        "    corpus = [' '.join(x) for x in corpus]\n",
        "\n",
        "    return corpus"
      ],
      "metadata": {
        "id": "yseYhkx-TYKN"
      },
      "execution_count": null,
      "outputs": []
    },
    {
      "cell_type": "code",
      "source": [
        "data = preprocess(data)\n",
        "\n",
        "preprocessed_data = []\n",
        "for line in data:\n",
        "    if line != \"\":\n",
        "        preprocessed_data.append(line.split())"
      ],
      "metadata": {
        "id": "l9TxA-QETgmZ"
      },
      "execution_count": null,
      "outputs": []
    },
    {
      "cell_type": "code",
      "source": [
        "model = FastText(vector_size=50, window=3, min_count=1, min_n=1, max_n=5)"
      ],
      "metadata": {
        "id": "JlJOVedpTimL"
      },
      "execution_count": null,
      "outputs": []
    },
    {
      "cell_type": "code",
      "source": [
        "model.build_vocab(preprocessed_data)"
      ],
      "metadata": {
        "id": "87GbYUOCTipl"
      },
      "execution_count": null,
      "outputs": []
    },
    {
      "cell_type": "code",
      "source": [
        "len(model.wv.key_to_index)"
      ],
      "metadata": {
        "colab": {
          "base_uri": "https://localhost:8080/"
        },
        "id": "STuvTSJ6TuIM",
        "outputId": "aee7a6bc-5fd8-44b6-e307-07d64a2d5aba"
      },
      "execution_count": null,
      "outputs": [
        {
          "output_type": "execute_result",
          "data": {
            "text/plain": [
              "182228"
            ]
          },
          "metadata": {},
          "execution_count": 57
        }
      ]
    },
    {
      "cell_type": "code",
      "source": [
        "model.train(preprocessed_data, total_examples=len(preprocessed_data), epochs=10)"
      ],
      "metadata": {
        "colab": {
          "base_uri": "https://localhost:8080/"
        },
        "id": "-_17iFCDTuKs",
        "outputId": "b3be5824-51b9-49d3-db97-888da3226b3d"
      },
      "execution_count": null,
      "outputs": [
        {
          "output_type": "execute_result",
          "data": {
            "text/plain": [
              "(56734609, 58682700)"
            ]
          },
          "metadata": {},
          "execution_count": 58
        }
      ]
    },
    {
      "cell_type": "code",
      "source": [
        "model.wv.most_similar('eplain', topn=5)"
      ],
      "metadata": {
        "colab": {
          "base_uri": "https://localhost:8080/"
        },
        "id": "LWmnxZhaTuOK",
        "outputId": "ed7855e2-e29d-4738-a3eb-35bfc7b7acbb"
      },
      "execution_count": null,
      "outputs": [
        {
          "output_type": "execute_result",
          "data": {
            "text/plain": [
              "[('reexplain', 0.945229709148407),\n",
              " ('eexplain', 0.9441782832145691),\n",
              " ('chaplain', 0.9346960783004761),\n",
              " ('xplain', 0.9302868247032166),\n",
              " ('exlain', 0.9288626909255981)]"
            ]
          },
          "metadata": {},
          "execution_count": 60
        }
      ]
    },
    {
      "cell_type": "code",
      "source": [
        "model.wv.most_similar('reminder', topn=5)"
      ],
      "metadata": {
        "colab": {
          "base_uri": "https://localhost:8080/"
        },
        "id": "a3aNJzyfT2EZ",
        "outputId": "6eee6bfa-8685-4184-c9d0-f52d443d5178"
      },
      "execution_count": null,
      "outputs": [
        {
          "output_type": "execute_result",
          "data": {
            "text/plain": [
              "[('rejoinder', 0.9489542841911316),\n",
              " ('remainder', 0.9388765692710876),\n",
              " ('reminde', 0.9272560477256775),\n",
              " ('bitdefender', 0.9260987043380737),\n",
              " ('remaininder', 0.9241107702255249)]"
            ]
          },
          "metadata": {},
          "execution_count": 61
        }
      ]
    },
    {
      "cell_type": "code",
      "source": [
        "model.wv.most_similar('relevnt', topn=5)"
      ],
      "metadata": {
        "colab": {
          "base_uri": "https://localhost:8080/"
        },
        "id": "jJ1MqJ1yT2Gz",
        "outputId": "400ed978-772f-4038-d6d7-d80e4e982176"
      },
      "execution_count": null,
      "outputs": [
        {
          "output_type": "execute_result",
          "data": {
            "text/plain": [
              "[('relent', 0.9666609168052673),\n",
              " ('releveant', 0.9616137742996216),\n",
              " ('relevanmt', 0.9603961110115051),\n",
              " ('relevent', 0.9521021246910095),\n",
              " ('releve', 0.9520982503890991)]"
            ]
          },
          "metadata": {},
          "execution_count": 62
        }
      ]
    },
    {
      "cell_type": "code",
      "source": [
        "model.wv.most_similar('purse', topn=5)"
      ],
      "metadata": {
        "colab": {
          "base_uri": "https://localhost:8080/"
        },
        "id": "z97ERFRHT2JS",
        "outputId": "745bec59-31f7-48e5-df0f-a972c4f67205"
      },
      "execution_count": null,
      "outputs": [
        {
          "output_type": "execute_result",
          "data": {
            "text/plain": [
              "[('purpse', 0.9334849119186401),\n",
              " ('cpurse', 0.9329171180725098),\n",
              " ('pure', 0.9308406114578247),\n",
              " ('pursuit', 0.9299253821372986),\n",
              " ('pulse', 0.9291112422943115)]"
            ]
          },
          "metadata": {},
          "execution_count": 63
        }
      ]
    },
    {
      "cell_type": "markdown",
      "source": [
        "## fastText and document distances"
      ],
      "metadata": {
        "id": "3-xQENuAT8fO"
      }
    },
    {
      "cell_type": "code",
      "source": [
        "sentence_1 = \"Obama speaks to the media in Illinois\"\n",
        "sentence_2 = \"President greets the press in Chicago\"\n",
        "sentence_3 = \"Apple is my favorite company\""
      ],
      "metadata": {
        "id": "2x0T8OVWT2L3"
      },
      "execution_count": null,
      "outputs": []
    },
    {
      "cell_type": "code",
      "source": [
        "!pip install POT\n"
      ],
      "metadata": {
        "colab": {
          "base_uri": "https://localhost:8080/"
        },
        "id": "cwik7uUrieF9",
        "outputId": "fa55816c-b08f-433f-d132-ad188ad72cda"
      },
      "execution_count": 1,
      "outputs": [
        {
          "output_type": "stream",
          "name": "stdout",
          "text": [
            "Collecting POT\n",
            "  Downloading POT-0.9.3-cp310-cp310-manylinux_2_17_x86_64.manylinux2014_x86_64.whl (823 kB)\n",
            "\u001b[2K     \u001b[90m━━━━━━━━━━━━━━━━━━━━━━━━━━━━━━━━━━━━━━━━\u001b[0m \u001b[32m823.0/823.0 kB\u001b[0m \u001b[31m3.9 MB/s\u001b[0m eta \u001b[36m0:00:00\u001b[0m\n",
            "\u001b[?25hRequirement already satisfied: numpy>=1.16 in /usr/local/lib/python3.10/dist-packages (from POT) (1.25.2)\n",
            "Requirement already satisfied: scipy>=1.6 in /usr/local/lib/python3.10/dist-packages (from POT) (1.11.4)\n",
            "Installing collected packages: POT\n",
            "Successfully installed POT-0.9.3\n"
          ]
        }
      ]
    },
    {
      "cell_type": "code",
      "source": [
        "word_mover_distance = model.wv.wmdistance(sentence_1, sentence_2)\n",
        "word_mover_distance"
      ],
      "metadata": {
        "colab": {
          "base_uri": "https://localhost:8080/"
        },
        "id": "cxahqHt-T2Pb",
        "outputId": "0b8bc081-bdc2-4156-ac5a-9019f65f00c7"
      },
      "execution_count": null,
      "outputs": [
        {
          "output_type": "execute_result",
          "data": {
            "text/plain": [
              "0.4417727772904298"
            ]
          },
          "metadata": {},
          "execution_count": 69
        }
      ]
    },
    {
      "cell_type": "code",
      "source": [
        "word_mover_distance = model.wv.wmdistance(sentence_2, sentence_3)\n",
        "word_mover_distance"
      ],
      "metadata": {
        "colab": {
          "base_uri": "https://localhost:8080/"
        },
        "id": "ZIBS8-21UEyp",
        "outputId": "6f222423-636e-439b-8542-bc204f155c9c"
      },
      "execution_count": null,
      "outputs": [
        {
          "output_type": "execute_result",
          "data": {
            "text/plain": [
              "0.5520941682408338"
            ]
          },
          "metadata": {},
          "execution_count": 70
        }
      ]
    }
  ]
}