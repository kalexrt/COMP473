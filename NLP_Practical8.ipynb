{
  "cells": [
    {
      "cell_type": "markdown",
      "id": "2abb1987-d2e4-4746-a66d-214e15a15bc3",
      "metadata": {
        "id": "2abb1987-d2e4-4746-a66d-214e15a15bc3"
      },
      "source": [
        "### Detecting sarcasm in text using CNNs"
      ]
    },
    {
      "cell_type": "code",
      "execution_count": null,
      "id": "53c9856f-f7f5-400e-991a-4f5008a2c99c",
      "metadata": {
        "id": "53c9856f-f7f5-400e-991a-4f5008a2c99c",
        "outputId": "9202fb1d-84da-4156-fc19-7e5805668f2e",
        "colab": {
          "base_uri": "https://localhost:8080/"
        }
      },
      "outputs": [
        {
          "output_type": "stream",
          "name": "stderr",
          "text": [
            "[nltk_data] Downloading package stopwords to /root/nltk_data...\n",
            "[nltk_data]   Package stopwords is already up-to-date!\n",
            "[nltk_data] Downloading package wordnet to /root/nltk_data...\n",
            "[nltk_data]   Package wordnet is already up-to-date!\n"
          ]
        }
      ],
      "source": [
        "import pandas as pd\n",
        "import numpy as np\n",
        "import re\n",
        "import json\n",
        "import gensim\n",
        "import math\n",
        "import nltk\n",
        "nltk.download('stopwords')\n",
        "nltk.download('wordnet')\n",
        "from nltk.corpus import stopwords\n",
        "from nltk.stem.porter import PorterStemmer\n",
        "from nltk.stem.snowball import SnowballStemmer\n",
        "from nltk.stem.wordnet import WordNetLemmatizer\n",
        "from gensim.models import KeyedVectors\n",
        "import keras\n",
        "from keras.models import Sequential, Model\n",
        "from keras import layers\n",
        "from keras.layers import Dense, Dropout, Conv1D, GlobalMaxPooling1D\n",
        "import h5py"
      ]
    },
    {
      "cell_type": "markdown",
      "id": "fdb26ef8-7fde-440a-8c00-2deb0c0b62c6",
      "metadata": {
        "id": "fdb26ef8-7fde-440a-8c00-2deb0c0b62c6"
      },
      "source": [
        "#### Reading data"
      ]
    },
    {
      "cell_type": "code",
      "execution_count": null,
      "id": "336e5878-53b4-4ea3-bfe3-dd1e7c0f4950",
      "metadata": {
        "id": "336e5878-53b4-4ea3-bfe3-dd1e7c0f4950"
      },
      "outputs": [],
      "source": [
        "def parse_data(file):\n",
        "    for l in open(file,'r'):\n",
        "        yield json.loads(l)\n",
        "data = list(parse_data('/content/Sarcasm_Headlines_Dataset_v2.json'))\n",
        "df = pd.DataFrame(data)"
      ]
    },
    {
      "cell_type": "markdown",
      "id": "53b236b9-74d3-47c5-be20-3440cae8e9bb",
      "metadata": {
        "id": "53b236b9-74d3-47c5-be20-3440cae8e9bb"
      },
      "source": [
        "#### Performing basic data analysis and preprocessing our data\n"
      ]
    },
    {
      "cell_type": "code",
      "execution_count": null,
      "id": "fe90395d-9f8a-4a7a-887f-b426a0f11e9b",
      "metadata": {
        "id": "fe90395d-9f8a-4a7a-887f-b426a0f11e9b",
        "outputId": "cea6a1a1-d099-4250-c76e-483d63488506",
        "colab": {
          "base_uri": "https://localhost:8080/",
          "height": 206
        }
      },
      "outputs": [
        {
          "output_type": "execute_result",
          "data": {
            "text/plain": [
              "   is_sarcastic                                           headline  \\\n",
              "0             1  thirtysomething scientists unveil doomsday clo...   \n",
              "1             0  dem rep. totally nails why congress is falling...   \n",
              "2             0  eat your veggies: 9 deliciously different recipes   \n",
              "3             1  inclement weather prevents liar from getting t...   \n",
              "4             1  mother comes pretty close to using word 'strea...   \n",
              "\n",
              "                                        article_link  \n",
              "0  https://www.theonion.com/thirtysomething-scien...  \n",
              "1  https://www.huffingtonpost.com/entry/donna-edw...  \n",
              "2  https://www.huffingtonpost.com/entry/eat-your-...  \n",
              "3  https://local.theonion.com/inclement-weather-p...  \n",
              "4  https://www.theonion.com/mother-comes-pretty-c...  "
            ],
            "text/html": [
              "\n",
              "  <div id=\"df-1c803c97-f4c2-483a-9e38-a1c16fb4df3e\" class=\"colab-df-container\">\n",
              "    <div>\n",
              "<style scoped>\n",
              "    .dataframe tbody tr th:only-of-type {\n",
              "        vertical-align: middle;\n",
              "    }\n",
              "\n",
              "    .dataframe tbody tr th {\n",
              "        vertical-align: top;\n",
              "    }\n",
              "\n",
              "    .dataframe thead th {\n",
              "        text-align: right;\n",
              "    }\n",
              "</style>\n",
              "<table border=\"1\" class=\"dataframe\">\n",
              "  <thead>\n",
              "    <tr style=\"text-align: right;\">\n",
              "      <th></th>\n",
              "      <th>is_sarcastic</th>\n",
              "      <th>headline</th>\n",
              "      <th>article_link</th>\n",
              "    </tr>\n",
              "  </thead>\n",
              "  <tbody>\n",
              "    <tr>\n",
              "      <th>0</th>\n",
              "      <td>1</td>\n",
              "      <td>thirtysomething scientists unveil doomsday clo...</td>\n",
              "      <td>https://www.theonion.com/thirtysomething-scien...</td>\n",
              "    </tr>\n",
              "    <tr>\n",
              "      <th>1</th>\n",
              "      <td>0</td>\n",
              "      <td>dem rep. totally nails why congress is falling...</td>\n",
              "      <td>https://www.huffingtonpost.com/entry/donna-edw...</td>\n",
              "    </tr>\n",
              "    <tr>\n",
              "      <th>2</th>\n",
              "      <td>0</td>\n",
              "      <td>eat your veggies: 9 deliciously different recipes</td>\n",
              "      <td>https://www.huffingtonpost.com/entry/eat-your-...</td>\n",
              "    </tr>\n",
              "    <tr>\n",
              "      <th>3</th>\n",
              "      <td>1</td>\n",
              "      <td>inclement weather prevents liar from getting t...</td>\n",
              "      <td>https://local.theonion.com/inclement-weather-p...</td>\n",
              "    </tr>\n",
              "    <tr>\n",
              "      <th>4</th>\n",
              "      <td>1</td>\n",
              "      <td>mother comes pretty close to using word 'strea...</td>\n",
              "      <td>https://www.theonion.com/mother-comes-pretty-c...</td>\n",
              "    </tr>\n",
              "  </tbody>\n",
              "</table>\n",
              "</div>\n",
              "    <div class=\"colab-df-buttons\">\n",
              "\n",
              "  <div class=\"colab-df-container\">\n",
              "    <button class=\"colab-df-convert\" onclick=\"convertToInteractive('df-1c803c97-f4c2-483a-9e38-a1c16fb4df3e')\"\n",
              "            title=\"Convert this dataframe to an interactive table.\"\n",
              "            style=\"display:none;\">\n",
              "\n",
              "  <svg xmlns=\"http://www.w3.org/2000/svg\" height=\"24px\" viewBox=\"0 -960 960 960\">\n",
              "    <path d=\"M120-120v-720h720v720H120Zm60-500h600v-160H180v160Zm220 220h160v-160H400v160Zm0 220h160v-160H400v160ZM180-400h160v-160H180v160Zm440 0h160v-160H620v160ZM180-180h160v-160H180v160Zm440 0h160v-160H620v160Z\"/>\n",
              "  </svg>\n",
              "    </button>\n",
              "\n",
              "  <style>\n",
              "    .colab-df-container {\n",
              "      display:flex;\n",
              "      gap: 12px;\n",
              "    }\n",
              "\n",
              "    .colab-df-convert {\n",
              "      background-color: #E8F0FE;\n",
              "      border: none;\n",
              "      border-radius: 50%;\n",
              "      cursor: pointer;\n",
              "      display: none;\n",
              "      fill: #1967D2;\n",
              "      height: 32px;\n",
              "      padding: 0 0 0 0;\n",
              "      width: 32px;\n",
              "    }\n",
              "\n",
              "    .colab-df-convert:hover {\n",
              "      background-color: #E2EBFA;\n",
              "      box-shadow: 0px 1px 2px rgba(60, 64, 67, 0.3), 0px 1px 3px 1px rgba(60, 64, 67, 0.15);\n",
              "      fill: #174EA6;\n",
              "    }\n",
              "\n",
              "    .colab-df-buttons div {\n",
              "      margin-bottom: 4px;\n",
              "    }\n",
              "\n",
              "    [theme=dark] .colab-df-convert {\n",
              "      background-color: #3B4455;\n",
              "      fill: #D2E3FC;\n",
              "    }\n",
              "\n",
              "    [theme=dark] .colab-df-convert:hover {\n",
              "      background-color: #434B5C;\n",
              "      box-shadow: 0px 1px 3px 1px rgba(0, 0, 0, 0.15);\n",
              "      filter: drop-shadow(0px 1px 2px rgba(0, 0, 0, 0.3));\n",
              "      fill: #FFFFFF;\n",
              "    }\n",
              "  </style>\n",
              "\n",
              "    <script>\n",
              "      const buttonEl =\n",
              "        document.querySelector('#df-1c803c97-f4c2-483a-9e38-a1c16fb4df3e button.colab-df-convert');\n",
              "      buttonEl.style.display =\n",
              "        google.colab.kernel.accessAllowed ? 'block' : 'none';\n",
              "\n",
              "      async function convertToInteractive(key) {\n",
              "        const element = document.querySelector('#df-1c803c97-f4c2-483a-9e38-a1c16fb4df3e');\n",
              "        const dataTable =\n",
              "          await google.colab.kernel.invokeFunction('convertToInteractive',\n",
              "                                                    [key], {});\n",
              "        if (!dataTable) return;\n",
              "\n",
              "        const docLinkHtml = 'Like what you see? Visit the ' +\n",
              "          '<a target=\"_blank\" href=https://colab.research.google.com/notebooks/data_table.ipynb>data table notebook</a>'\n",
              "          + ' to learn more about interactive tables.';\n",
              "        element.innerHTML = '';\n",
              "        dataTable['output_type'] = 'display_data';\n",
              "        await google.colab.output.renderOutput(dataTable, element);\n",
              "        const docLink = document.createElement('div');\n",
              "        docLink.innerHTML = docLinkHtml;\n",
              "        element.appendChild(docLink);\n",
              "      }\n",
              "    </script>\n",
              "  </div>\n",
              "\n",
              "\n",
              "<div id=\"df-3a840acd-9da9-4375-9efd-5146955b102e\">\n",
              "  <button class=\"colab-df-quickchart\" onclick=\"quickchart('df-3a840acd-9da9-4375-9efd-5146955b102e')\"\n",
              "            title=\"Suggest charts\"\n",
              "            style=\"display:none;\">\n",
              "\n",
              "<svg xmlns=\"http://www.w3.org/2000/svg\" height=\"24px\"viewBox=\"0 0 24 24\"\n",
              "     width=\"24px\">\n",
              "    <g>\n",
              "        <path d=\"M19 3H5c-1.1 0-2 .9-2 2v14c0 1.1.9 2 2 2h14c1.1 0 2-.9 2-2V5c0-1.1-.9-2-2-2zM9 17H7v-7h2v7zm4 0h-2V7h2v10zm4 0h-2v-4h2v4z\"/>\n",
              "    </g>\n",
              "</svg>\n",
              "  </button>\n",
              "\n",
              "<style>\n",
              "  .colab-df-quickchart {\n",
              "      --bg-color: #E8F0FE;\n",
              "      --fill-color: #1967D2;\n",
              "      --hover-bg-color: #E2EBFA;\n",
              "      --hover-fill-color: #174EA6;\n",
              "      --disabled-fill-color: #AAA;\n",
              "      --disabled-bg-color: #DDD;\n",
              "  }\n",
              "\n",
              "  [theme=dark] .colab-df-quickchart {\n",
              "      --bg-color: #3B4455;\n",
              "      --fill-color: #D2E3FC;\n",
              "      --hover-bg-color: #434B5C;\n",
              "      --hover-fill-color: #FFFFFF;\n",
              "      --disabled-bg-color: #3B4455;\n",
              "      --disabled-fill-color: #666;\n",
              "  }\n",
              "\n",
              "  .colab-df-quickchart {\n",
              "    background-color: var(--bg-color);\n",
              "    border: none;\n",
              "    border-radius: 50%;\n",
              "    cursor: pointer;\n",
              "    display: none;\n",
              "    fill: var(--fill-color);\n",
              "    height: 32px;\n",
              "    padding: 0;\n",
              "    width: 32px;\n",
              "  }\n",
              "\n",
              "  .colab-df-quickchart:hover {\n",
              "    background-color: var(--hover-bg-color);\n",
              "    box-shadow: 0 1px 2px rgba(60, 64, 67, 0.3), 0 1px 3px 1px rgba(60, 64, 67, 0.15);\n",
              "    fill: var(--button-hover-fill-color);\n",
              "  }\n",
              "\n",
              "  .colab-df-quickchart-complete:disabled,\n",
              "  .colab-df-quickchart-complete:disabled:hover {\n",
              "    background-color: var(--disabled-bg-color);\n",
              "    fill: var(--disabled-fill-color);\n",
              "    box-shadow: none;\n",
              "  }\n",
              "\n",
              "  .colab-df-spinner {\n",
              "    border: 2px solid var(--fill-color);\n",
              "    border-color: transparent;\n",
              "    border-bottom-color: var(--fill-color);\n",
              "    animation:\n",
              "      spin 1s steps(1) infinite;\n",
              "  }\n",
              "\n",
              "  @keyframes spin {\n",
              "    0% {\n",
              "      border-color: transparent;\n",
              "      border-bottom-color: var(--fill-color);\n",
              "      border-left-color: var(--fill-color);\n",
              "    }\n",
              "    20% {\n",
              "      border-color: transparent;\n",
              "      border-left-color: var(--fill-color);\n",
              "      border-top-color: var(--fill-color);\n",
              "    }\n",
              "    30% {\n",
              "      border-color: transparent;\n",
              "      border-left-color: var(--fill-color);\n",
              "      border-top-color: var(--fill-color);\n",
              "      border-right-color: var(--fill-color);\n",
              "    }\n",
              "    40% {\n",
              "      border-color: transparent;\n",
              "      border-right-color: var(--fill-color);\n",
              "      border-top-color: var(--fill-color);\n",
              "    }\n",
              "    60% {\n",
              "      border-color: transparent;\n",
              "      border-right-color: var(--fill-color);\n",
              "    }\n",
              "    80% {\n",
              "      border-color: transparent;\n",
              "      border-right-color: var(--fill-color);\n",
              "      border-bottom-color: var(--fill-color);\n",
              "    }\n",
              "    90% {\n",
              "      border-color: transparent;\n",
              "      border-bottom-color: var(--fill-color);\n",
              "    }\n",
              "  }\n",
              "</style>\n",
              "\n",
              "  <script>\n",
              "    async function quickchart(key) {\n",
              "      const quickchartButtonEl =\n",
              "        document.querySelector('#' + key + ' button');\n",
              "      quickchartButtonEl.disabled = true;  // To prevent multiple clicks.\n",
              "      quickchartButtonEl.classList.add('colab-df-spinner');\n",
              "      try {\n",
              "        const charts = await google.colab.kernel.invokeFunction(\n",
              "            'suggestCharts', [key], {});\n",
              "      } catch (error) {\n",
              "        console.error('Error during call to suggestCharts:', error);\n",
              "      }\n",
              "      quickchartButtonEl.classList.remove('colab-df-spinner');\n",
              "      quickchartButtonEl.classList.add('colab-df-quickchart-complete');\n",
              "    }\n",
              "    (() => {\n",
              "      let quickchartButtonEl =\n",
              "        document.querySelector('#df-3a840acd-9da9-4375-9efd-5146955b102e button');\n",
              "      quickchartButtonEl.style.display =\n",
              "        google.colab.kernel.accessAllowed ? 'block' : 'none';\n",
              "    })();\n",
              "  </script>\n",
              "</div>\n",
              "\n",
              "    </div>\n",
              "  </div>\n"
            ],
            "application/vnd.google.colaboratory.intrinsic+json": {
              "type": "dataframe",
              "variable_name": "df",
              "summary": "{\n  \"name\": \"df\",\n  \"rows\": 28619,\n  \"fields\": [\n    {\n      \"column\": \"is_sarcastic\",\n      \"properties\": {\n        \"dtype\": \"number\",\n        \"std\": 0,\n        \"min\": 0,\n        \"max\": 1,\n        \"num_unique_values\": 2,\n        \"samples\": [\n          0,\n          1\n        ],\n        \"semantic_type\": \"\",\n        \"description\": \"\"\n      }\n    },\n    {\n      \"column\": \"headline\",\n      \"properties\": {\n        \"dtype\": \"string\",\n        \"num_unique_values\": 28503,\n        \"samples\": [\n          \"marco rubio nabs his first 2016 win in minnesota gop presidential caucus\",\n          \"oops: hot mic broadcasts al roker going to the bathroom\"\n        ],\n        \"semantic_type\": \"\",\n        \"description\": \"\"\n      }\n    },\n    {\n      \"column\": \"article_link\",\n      \"properties\": {\n        \"dtype\": \"string\",\n        \"num_unique_values\": 28617,\n        \"samples\": [\n          \"https://www.huffingtonpost.com/entry/teacher-education-school-closures_n_6401316.html\",\n          \"https://www.theonion.com/drone-places-fresh-kill-on-steps-of-white-house-1819592535\"\n        ],\n        \"semantic_type\": \"\",\n        \"description\": \"\"\n      }\n    }\n  ]\n}"
            }
          },
          "metadata": {},
          "execution_count": 46
        }
      ],
      "source": [
        "df.head(5)"
      ]
    },
    {
      "cell_type": "code",
      "execution_count": null,
      "id": "394192e9-9bc5-4455-bfef-498c6ff5596b",
      "metadata": {
        "id": "394192e9-9bc5-4455-bfef-498c6ff5596b",
        "outputId": "b172d830-0379-4073-f537-2ea5725b1b94",
        "colab": {
          "base_uri": "https://localhost:8080/",
          "height": 36
        }
      },
      "outputs": [
        {
          "output_type": "execute_result",
          "data": {
            "text/plain": [
              "'thirtysomething scientists unveil doomsday clock of hair loss'"
            ],
            "application/vnd.google.colaboratory.intrinsic+json": {
              "type": "string"
            }
          },
          "metadata": {},
          "execution_count": 47
        }
      ],
      "source": [
        "# Sarcastic Headline\n",
        "df['headline'][0]"
      ]
    },
    {
      "cell_type": "code",
      "execution_count": null,
      "id": "a43f0b43-3153-47cd-9d88-76eb079f991a",
      "metadata": {
        "id": "a43f0b43-3153-47cd-9d88-76eb079f991a",
        "outputId": "1b96e30b-b844-44b8-eab6-08529922e09c",
        "colab": {
          "base_uri": "https://localhost:8080/",
          "height": 36
        }
      },
      "outputs": [
        {
          "output_type": "execute_result",
          "data": {
            "text/plain": [
              "'dem rep. totally nails why congress is falling short on gender, racial equality'"
            ],
            "application/vnd.google.colaboratory.intrinsic+json": {
              "type": "string"
            }
          },
          "metadata": {},
          "execution_count": 48
        }
      ],
      "source": [
        "# Non-sarcastic Headline\n",
        "df['headline'][1]"
      ]
    },
    {
      "cell_type": "code",
      "execution_count": null,
      "id": "9cf6354f-d0fe-47ab-af7d-0c9bd60cfe06",
      "metadata": {
        "id": "9cf6354f-d0fe-47ab-af7d-0c9bd60cfe06",
        "outputId": "13c47e7b-d181-4525-f087-d5b61ed3601d",
        "colab": {
          "base_uri": "https://localhost:8080/"
        }
      },
      "outputs": [
        {
          "output_type": "execute_result",
          "data": {
            "text/plain": [
              "0        https://www.theonion.com/thirtysomething-scien...\n",
              "1        https://www.huffingtonpost.com/entry/donna-edw...\n",
              "2        https://www.huffingtonpost.com/entry/eat-your-...\n",
              "3        https://local.theonion.com/inclement-weather-p...\n",
              "4        https://www.theonion.com/mother-comes-pretty-c...\n",
              "                               ...                        \n",
              "28614    https://www.theonion.com/jews-to-celebrate-ros...\n",
              "28615    https://local.theonion.com/internal-affairs-in...\n",
              "28616    https://www.huffingtonpost.com/entry/andrew-ah...\n",
              "28617    https://www.theonion.com/mars-probe-destroyed-...\n",
              "28618    https://www.theonion.com/dad-clarifies-this-no...\n",
              "Name: article_link, Length: 28619, dtype: object"
            ]
          },
          "metadata": {},
          "execution_count": 49
        }
      ],
      "source": [
        "df.pop('article_link')"
      ]
    },
    {
      "cell_type": "code",
      "execution_count": null,
      "id": "d9cf8ee4-b944-47fc-9176-a2e4ee76254a",
      "metadata": {
        "id": "d9cf8ee4-b944-47fc-9176-a2e4ee76254a",
        "outputId": "51af2176-3c7f-4585-925f-6292efc15034",
        "colab": {
          "base_uri": "https://localhost:8080/",
          "height": 206
        }
      },
      "outputs": [
        {
          "output_type": "execute_result",
          "data": {
            "text/plain": [
              "   is_sarcastic                                           headline\n",
              "0             1  thirtysomething scientists unveil doomsday clo...\n",
              "1             0  dem rep. totally nails why congress is falling...\n",
              "2             0  eat your veggies: 9 deliciously different recipes\n",
              "3             1  inclement weather prevents liar from getting t...\n",
              "4             1  mother comes pretty close to using word 'strea..."
            ],
            "text/html": [
              "\n",
              "  <div id=\"df-02a9282d-d1b1-4df7-9878-1f29ec9c2182\" class=\"colab-df-container\">\n",
              "    <div>\n",
              "<style scoped>\n",
              "    .dataframe tbody tr th:only-of-type {\n",
              "        vertical-align: middle;\n",
              "    }\n",
              "\n",
              "    .dataframe tbody tr th {\n",
              "        vertical-align: top;\n",
              "    }\n",
              "\n",
              "    .dataframe thead th {\n",
              "        text-align: right;\n",
              "    }\n",
              "</style>\n",
              "<table border=\"1\" class=\"dataframe\">\n",
              "  <thead>\n",
              "    <tr style=\"text-align: right;\">\n",
              "      <th></th>\n",
              "      <th>is_sarcastic</th>\n",
              "      <th>headline</th>\n",
              "    </tr>\n",
              "  </thead>\n",
              "  <tbody>\n",
              "    <tr>\n",
              "      <th>0</th>\n",
              "      <td>1</td>\n",
              "      <td>thirtysomething scientists unveil doomsday clo...</td>\n",
              "    </tr>\n",
              "    <tr>\n",
              "      <th>1</th>\n",
              "      <td>0</td>\n",
              "      <td>dem rep. totally nails why congress is falling...</td>\n",
              "    </tr>\n",
              "    <tr>\n",
              "      <th>2</th>\n",
              "      <td>0</td>\n",
              "      <td>eat your veggies: 9 deliciously different recipes</td>\n",
              "    </tr>\n",
              "    <tr>\n",
              "      <th>3</th>\n",
              "      <td>1</td>\n",
              "      <td>inclement weather prevents liar from getting t...</td>\n",
              "    </tr>\n",
              "    <tr>\n",
              "      <th>4</th>\n",
              "      <td>1</td>\n",
              "      <td>mother comes pretty close to using word 'strea...</td>\n",
              "    </tr>\n",
              "  </tbody>\n",
              "</table>\n",
              "</div>\n",
              "    <div class=\"colab-df-buttons\">\n",
              "\n",
              "  <div class=\"colab-df-container\">\n",
              "    <button class=\"colab-df-convert\" onclick=\"convertToInteractive('df-02a9282d-d1b1-4df7-9878-1f29ec9c2182')\"\n",
              "            title=\"Convert this dataframe to an interactive table.\"\n",
              "            style=\"display:none;\">\n",
              "\n",
              "  <svg xmlns=\"http://www.w3.org/2000/svg\" height=\"24px\" viewBox=\"0 -960 960 960\">\n",
              "    <path d=\"M120-120v-720h720v720H120Zm60-500h600v-160H180v160Zm220 220h160v-160H400v160Zm0 220h160v-160H400v160ZM180-400h160v-160H180v160Zm440 0h160v-160H620v160ZM180-180h160v-160H180v160Zm440 0h160v-160H620v160Z\"/>\n",
              "  </svg>\n",
              "    </button>\n",
              "\n",
              "  <style>\n",
              "    .colab-df-container {\n",
              "      display:flex;\n",
              "      gap: 12px;\n",
              "    }\n",
              "\n",
              "    .colab-df-convert {\n",
              "      background-color: #E8F0FE;\n",
              "      border: none;\n",
              "      border-radius: 50%;\n",
              "      cursor: pointer;\n",
              "      display: none;\n",
              "      fill: #1967D2;\n",
              "      height: 32px;\n",
              "      padding: 0 0 0 0;\n",
              "      width: 32px;\n",
              "    }\n",
              "\n",
              "    .colab-df-convert:hover {\n",
              "      background-color: #E2EBFA;\n",
              "      box-shadow: 0px 1px 2px rgba(60, 64, 67, 0.3), 0px 1px 3px 1px rgba(60, 64, 67, 0.15);\n",
              "      fill: #174EA6;\n",
              "    }\n",
              "\n",
              "    .colab-df-buttons div {\n",
              "      margin-bottom: 4px;\n",
              "    }\n",
              "\n",
              "    [theme=dark] .colab-df-convert {\n",
              "      background-color: #3B4455;\n",
              "      fill: #D2E3FC;\n",
              "    }\n",
              "\n",
              "    [theme=dark] .colab-df-convert:hover {\n",
              "      background-color: #434B5C;\n",
              "      box-shadow: 0px 1px 3px 1px rgba(0, 0, 0, 0.15);\n",
              "      filter: drop-shadow(0px 1px 2px rgba(0, 0, 0, 0.3));\n",
              "      fill: #FFFFFF;\n",
              "    }\n",
              "  </style>\n",
              "\n",
              "    <script>\n",
              "      const buttonEl =\n",
              "        document.querySelector('#df-02a9282d-d1b1-4df7-9878-1f29ec9c2182 button.colab-df-convert');\n",
              "      buttonEl.style.display =\n",
              "        google.colab.kernel.accessAllowed ? 'block' : 'none';\n",
              "\n",
              "      async function convertToInteractive(key) {\n",
              "        const element = document.querySelector('#df-02a9282d-d1b1-4df7-9878-1f29ec9c2182');\n",
              "        const dataTable =\n",
              "          await google.colab.kernel.invokeFunction('convertToInteractive',\n",
              "                                                    [key], {});\n",
              "        if (!dataTable) return;\n",
              "\n",
              "        const docLinkHtml = 'Like what you see? Visit the ' +\n",
              "          '<a target=\"_blank\" href=https://colab.research.google.com/notebooks/data_table.ipynb>data table notebook</a>'\n",
              "          + ' to learn more about interactive tables.';\n",
              "        element.innerHTML = '';\n",
              "        dataTable['output_type'] = 'display_data';\n",
              "        await google.colab.output.renderOutput(dataTable, element);\n",
              "        const docLink = document.createElement('div');\n",
              "        docLink.innerHTML = docLinkHtml;\n",
              "        element.appendChild(docLink);\n",
              "      }\n",
              "    </script>\n",
              "  </div>\n",
              "\n",
              "\n",
              "<div id=\"df-e887a3ae-2aa5-454d-8b14-fc8eb839c362\">\n",
              "  <button class=\"colab-df-quickchart\" onclick=\"quickchart('df-e887a3ae-2aa5-454d-8b14-fc8eb839c362')\"\n",
              "            title=\"Suggest charts\"\n",
              "            style=\"display:none;\">\n",
              "\n",
              "<svg xmlns=\"http://www.w3.org/2000/svg\" height=\"24px\"viewBox=\"0 0 24 24\"\n",
              "     width=\"24px\">\n",
              "    <g>\n",
              "        <path d=\"M19 3H5c-1.1 0-2 .9-2 2v14c0 1.1.9 2 2 2h14c1.1 0 2-.9 2-2V5c0-1.1-.9-2-2-2zM9 17H7v-7h2v7zm4 0h-2V7h2v10zm4 0h-2v-4h2v4z\"/>\n",
              "    </g>\n",
              "</svg>\n",
              "  </button>\n",
              "\n",
              "<style>\n",
              "  .colab-df-quickchart {\n",
              "      --bg-color: #E8F0FE;\n",
              "      --fill-color: #1967D2;\n",
              "      --hover-bg-color: #E2EBFA;\n",
              "      --hover-fill-color: #174EA6;\n",
              "      --disabled-fill-color: #AAA;\n",
              "      --disabled-bg-color: #DDD;\n",
              "  }\n",
              "\n",
              "  [theme=dark] .colab-df-quickchart {\n",
              "      --bg-color: #3B4455;\n",
              "      --fill-color: #D2E3FC;\n",
              "      --hover-bg-color: #434B5C;\n",
              "      --hover-fill-color: #FFFFFF;\n",
              "      --disabled-bg-color: #3B4455;\n",
              "      --disabled-fill-color: #666;\n",
              "  }\n",
              "\n",
              "  .colab-df-quickchart {\n",
              "    background-color: var(--bg-color);\n",
              "    border: none;\n",
              "    border-radius: 50%;\n",
              "    cursor: pointer;\n",
              "    display: none;\n",
              "    fill: var(--fill-color);\n",
              "    height: 32px;\n",
              "    padding: 0;\n",
              "    width: 32px;\n",
              "  }\n",
              "\n",
              "  .colab-df-quickchart:hover {\n",
              "    background-color: var(--hover-bg-color);\n",
              "    box-shadow: 0 1px 2px rgba(60, 64, 67, 0.3), 0 1px 3px 1px rgba(60, 64, 67, 0.15);\n",
              "    fill: var(--button-hover-fill-color);\n",
              "  }\n",
              "\n",
              "  .colab-df-quickchart-complete:disabled,\n",
              "  .colab-df-quickchart-complete:disabled:hover {\n",
              "    background-color: var(--disabled-bg-color);\n",
              "    fill: var(--disabled-fill-color);\n",
              "    box-shadow: none;\n",
              "  }\n",
              "\n",
              "  .colab-df-spinner {\n",
              "    border: 2px solid var(--fill-color);\n",
              "    border-color: transparent;\n",
              "    border-bottom-color: var(--fill-color);\n",
              "    animation:\n",
              "      spin 1s steps(1) infinite;\n",
              "  }\n",
              "\n",
              "  @keyframes spin {\n",
              "    0% {\n",
              "      border-color: transparent;\n",
              "      border-bottom-color: var(--fill-color);\n",
              "      border-left-color: var(--fill-color);\n",
              "    }\n",
              "    20% {\n",
              "      border-color: transparent;\n",
              "      border-left-color: var(--fill-color);\n",
              "      border-top-color: var(--fill-color);\n",
              "    }\n",
              "    30% {\n",
              "      border-color: transparent;\n",
              "      border-left-color: var(--fill-color);\n",
              "      border-top-color: var(--fill-color);\n",
              "      border-right-color: var(--fill-color);\n",
              "    }\n",
              "    40% {\n",
              "      border-color: transparent;\n",
              "      border-right-color: var(--fill-color);\n",
              "      border-top-color: var(--fill-color);\n",
              "    }\n",
              "    60% {\n",
              "      border-color: transparent;\n",
              "      border-right-color: var(--fill-color);\n",
              "    }\n",
              "    80% {\n",
              "      border-color: transparent;\n",
              "      border-right-color: var(--fill-color);\n",
              "      border-bottom-color: var(--fill-color);\n",
              "    }\n",
              "    90% {\n",
              "      border-color: transparent;\n",
              "      border-bottom-color: var(--fill-color);\n",
              "    }\n",
              "  }\n",
              "</style>\n",
              "\n",
              "  <script>\n",
              "    async function quickchart(key) {\n",
              "      const quickchartButtonEl =\n",
              "        document.querySelector('#' + key + ' button');\n",
              "      quickchartButtonEl.disabled = true;  // To prevent multiple clicks.\n",
              "      quickchartButtonEl.classList.add('colab-df-spinner');\n",
              "      try {\n",
              "        const charts = await google.colab.kernel.invokeFunction(\n",
              "            'suggestCharts', [key], {});\n",
              "      } catch (error) {\n",
              "        console.error('Error during call to suggestCharts:', error);\n",
              "      }\n",
              "      quickchartButtonEl.classList.remove('colab-df-spinner');\n",
              "      quickchartButtonEl.classList.add('colab-df-quickchart-complete');\n",
              "    }\n",
              "    (() => {\n",
              "      let quickchartButtonEl =\n",
              "        document.querySelector('#df-e887a3ae-2aa5-454d-8b14-fc8eb839c362 button');\n",
              "      quickchartButtonEl.style.display =\n",
              "        google.colab.kernel.accessAllowed ? 'block' : 'none';\n",
              "    })();\n",
              "  </script>\n",
              "</div>\n",
              "\n",
              "    </div>\n",
              "  </div>\n"
            ],
            "application/vnd.google.colaboratory.intrinsic+json": {
              "type": "dataframe",
              "variable_name": "df",
              "summary": "{\n  \"name\": \"df\",\n  \"rows\": 28619,\n  \"fields\": [\n    {\n      \"column\": \"is_sarcastic\",\n      \"properties\": {\n        \"dtype\": \"number\",\n        \"std\": 0,\n        \"min\": 0,\n        \"max\": 1,\n        \"num_unique_values\": 2,\n        \"samples\": [\n          0,\n          1\n        ],\n        \"semantic_type\": \"\",\n        \"description\": \"\"\n      }\n    },\n    {\n      \"column\": \"headline\",\n      \"properties\": {\n        \"dtype\": \"string\",\n        \"num_unique_values\": 28503,\n        \"samples\": [\n          \"marco rubio nabs his first 2016 win in minnesota gop presidential caucus\",\n          \"oops: hot mic broadcasts al roker going to the bathroom\"\n        ],\n        \"semantic_type\": \"\",\n        \"description\": \"\"\n      }\n    }\n  ]\n}"
            }
          },
          "metadata": {},
          "execution_count": 50
        }
      ],
      "source": [
        "df.head(5)"
      ]
    },
    {
      "cell_type": "code",
      "execution_count": null,
      "id": "fac65a2a-62d7-48a4-8e64-c01f9a312960",
      "metadata": {
        "id": "fac65a2a-62d7-48a4-8e64-c01f9a312960",
        "outputId": "ebd03f9a-7b9c-444e-ced8-94c15971a930"
      },
      "outputs": [
        {
          "data": {
            "text/plain": [
              "28619"
            ]
          },
          "execution_count": 14,
          "metadata": {},
          "output_type": "execute_result"
        }
      ],
      "source": [
        "len(df)"
      ]
    },
    {
      "cell_type": "code",
      "execution_count": null,
      "id": "e540904d-75cd-49a3-a11b-ca956fb19710",
      "metadata": {
        "id": "e540904d-75cd-49a3-a11b-ca956fb19710",
        "outputId": "718ae1be-8a5a-4487-e07a-9bc85d73eab2",
        "colab": {
          "base_uri": "https://localhost:8080/"
        }
      },
      "outputs": [
        {
          "output_type": "execute_result",
          "data": {
            "text/plain": [
              "array([0, 1])"
            ]
          },
          "metadata": {},
          "execution_count": 51
        }
      ],
      "source": [
        "classes = np.unique(np.array(df['is_sarcastic']))\n",
        "classes"
      ]
    },
    {
      "cell_type": "markdown",
      "id": "50d82ac9-6e0b-492b-b4db-075680cad90b",
      "metadata": {
        "id": "50d82ac9-6e0b-492b-b4db-075680cad90b"
      },
      "source": [
        "#### Data preprocessing"
      ]
    },
    {
      "cell_type": "code",
      "execution_count": null,
      "id": "00c60cf6-8ecc-41ef-9075-3b25fe9e542f",
      "metadata": {
        "id": "00c60cf6-8ecc-41ef-9075-3b25fe9e542f"
      },
      "outputs": [],
      "source": [
        "import pandas as pd\n",
        "\n",
        "def preprocess(corpus, remove_stopwords=True):\n",
        "    '''\n",
        "    Function to preprocess the text corpus\n",
        "\n",
        "    Input :\n",
        "        corpus : Text data corpus\n",
        "        remove_stopwords : Boolean, True if stopwords need to be removed\n",
        "\n",
        "    Output : Returns the processed text corpus\n",
        "    '''\n",
        "    cleaned_corpus = []  # Create an empty list to store processed text\n",
        "\n",
        "    for row in corpus:\n",
        "        qs = []\n",
        "        for word in row.split():\n",
        "            p1 = re.sub(pattern='[^a-zA-Z]', repl=' ', string=word)\n",
        "            p1 = p1.lower()\n",
        "            qs.append(p1)\n",
        "        cleaned_corpus.append(' '.join(qs))\n",
        "\n",
        "    cleaned_corpus = pd.Series(cleaned_corpus)\n",
        "    return cleaned_corpus"
      ]
    },
    {
      "cell_type": "code",
      "execution_count": null,
      "id": "21b98acc-9d07-4090-aaaf-2b5aa71847fe",
      "metadata": {
        "id": "21b98acc-9d07-4090-aaaf-2b5aa71847fe"
      },
      "outputs": [],
      "source": [
        "def stopwords_removal(corpus):\n",
        "    stop = set(stopwords.words('english'))\n",
        "    corpus = [[x for x in x.split() if x not in stop] for x in corpus]\n",
        "    return corpus"
      ]
    },
    {
      "cell_type": "code",
      "execution_count": null,
      "id": "e17ecbeb-b4be-4066-8c7c-bf5ef5968b0d",
      "metadata": {
        "id": "e17ecbeb-b4be-4066-8c7c-bf5ef5968b0d"
      },
      "outputs": [],
      "source": [
        "def stem(corpus, stem_type = None):\n",
        "    if stem_type == 'snowball':\n",
        "        stemmer = SnowballStemmer(language = 'english')\n",
        "        corpus = [[stemmer.stem(x) for x in x] for x in corpus]\n",
        "    else :\n",
        "        stemmer = PorterStemmer()\n",
        "        corpus = [[stemmer.stem(x) for x in x] for x in corpus]\n",
        "    return corpus"
      ]
    },
    {
      "cell_type": "code",
      "execution_count": null,
      "id": "a99c221d-4d6f-4654-9ab0-7f1d0c325abc",
      "metadata": {
        "id": "a99c221d-4d6f-4654-9ab0-7f1d0c325abc"
      },
      "outputs": [],
      "source": [
        "def preprocess(corpus, cleaning=True, stemming=False, stem_type=None, lemmatization=False, remove_stopwords=True):\n",
        "\n",
        "    def text_clean(text):\n",
        "        cleaned_text = text.lower()\n",
        "        cleaned_text = cleaned_text.strip()\n",
        "        cleaned_text = ' '.join(cleaned_text.split())\n",
        "        return cleaned_text\n",
        "\n",
        "    '''\n",
        "    Purpose : Function to perform all pre-processing tasks (cleaning, stemming, lemmatization, stopwords removal etc.)\n",
        "\n",
        "    Input :\n",
        "    'corpus' - Text corpus on which pre-processing tasks will be performed\n",
        "\n",
        "    'cleaning', 'stemming', 'lemmatization', 'remove_stopwords' - Boolean variables indicating whether a particular task should\n",
        "                                                                  be performed or not\n",
        "    'stem_type' - Choose between Porter stemmer or Snowball(Porter2) stemmer. Default is \"None\", which corresponds to Porter\n",
        "                  Stemmer. 'snowball' corresponds to Snowball Stemmer\n",
        "\n",
        "    Note : Either stemming or lemmatization should be used. There's no benefit of using both of them together\n",
        "\n",
        "    Output : Returns the processed text corpus\n",
        "\n",
        "    '''\n",
        "    if cleaning:\n",
        "        corpus = [text_clean(text) for text in corpus]\n",
        "\n",
        "    if remove_stopwords:\n",
        "        corpus = stopwords_removal(corpus)\n",
        "    else:\n",
        "        corpus = [[x for x in x.split()] for x in corpus]\n",
        "\n",
        "    if lemmatization:\n",
        "        corpus = lemmatize(corpus)\n",
        "\n",
        "    if stemming:\n",
        "        corpus = stem(corpus, stem_type)\n",
        "\n",
        "    corpus = [' '.join(x) for x in corpus]\n",
        "\n",
        "    return corpus\n"
      ]
    },
    {
      "cell_type": "code",
      "execution_count": null,
      "id": "fc99f7fe-f52f-4129-b974-b5ba7e02f4f8",
      "metadata": {
        "id": "fc99f7fe-f52f-4129-b974-b5ba7e02f4f8",
        "outputId": "0a436318-12b0-4736-c551-09bb1a56866a"
      },
      "outputs": [
        {
          "data": {
            "text/plain": [
              "0        thirtysomething scientists unveil doomsday clo...\n",
              "1        dem rep. totally nails why congress is falling...\n",
              "2        eat your veggies: 9 deliciously different recipes\n",
              "3        inclement weather prevents liar from getting t...\n",
              "4        mother comes pretty close to using word 'strea...\n",
              "                               ...                        \n",
              "28614         jews to celebrate rosh hashasha or something\n",
              "28615    internal affairs investigator disappointed con...\n",
              "28616    the most beautiful acceptance speech this week...\n",
              "28617    mars probe destroyed by orbiting spielberg-gat...\n",
              "28618                   dad clarifies this not a food stop\n",
              "Name: headline, Length: 28619, dtype: object"
            ]
          },
          "execution_count": 20,
          "metadata": {},
          "output_type": "execute_result"
        }
      ],
      "source": [
        "df['headline']"
      ]
    },
    {
      "cell_type": "code",
      "execution_count": null,
      "id": "71cc3200-8f92-4d82-b5c3-6634a7a38861",
      "metadata": {
        "id": "71cc3200-8f92-4d82-b5c3-6634a7a38861",
        "outputId": "d991b2d4-85f9-4a7b-8755-a0fd0c0c560b"
      },
      "outputs": [
        {
          "data": {
            "text/plain": [
              "['thirtysomething scientists unveil doomsday clock hair loss',\n",
              " 'dem rep. totally nails congress falling short gender, racial equality',\n",
              " 'eat veggies: 9 deliciously different recipes',\n",
              " 'inclement weather prevents liar getting work',\n",
              " \"mother comes pretty close using word 'streaming' correctly\"]"
            ]
          },
          "execution_count": 21,
          "metadata": {},
          "output_type": "execute_result"
        }
      ],
      "source": [
        "headlines = preprocess(df['headline'], remove_stopwords = True)\n",
        "headlines[0:5]"
      ]
    },
    {
      "cell_type": "markdown",
      "id": "160f8a70-a126-4a4d-8b49-6beaad3692fa",
      "metadata": {
        "id": "160f8a70-a126-4a4d-8b49-6beaad3692fa"
      },
      "source": [
        "#### Loading the Word2Vec model and vectorizing our data"
      ]
    },
    {
      "cell_type": "code",
      "execution_count": null,
      "id": "87752263-dd17-47fa-bd36-60a9fd76ff70",
      "metadata": {
        "id": "87752263-dd17-47fa-bd36-60a9fd76ff70"
      },
      "outputs": [],
      "source": [
        "model = KeyedVectors.load_word2vec_format('/content/GoogleNews-vectors-negative300.bin', binary=True)"
      ]
    },
    {
      "cell_type": "code",
      "execution_count": null,
      "id": "a2a39df2-4e75-41d1-b221-c876069e87da",
      "metadata": {
        "id": "a2a39df2-4e75-41d1-b221-c876069e87da"
      },
      "outputs": [],
      "source": [
        "MAX_LENGTH = 10\n",
        "VECTOR_SIZE = 300"
      ]
    },
    {
      "cell_type": "markdown",
      "id": "6e5648e4-9f48-4b63-ad94-00f7d656caa5",
      "metadata": {
        "id": "6e5648e4-9f48-4b63-ad94-00f7d656caa5"
      },
      "source": [
        "#### Data Vectorization and Standardization"
      ]
    },
    {
      "cell_type": "code",
      "execution_count": null,
      "id": "aa63898c-1101-4e29-a52e-9896cb91ed98",
      "metadata": {
        "id": "aa63898c-1101-4e29-a52e-9896cb91ed98"
      },
      "outputs": [],
      "source": [
        "def vectorize_data(data):\n",
        "    vectors = []\n",
        "    padding_vector = [0.0] * VECTOR_SIZE\n",
        "\n",
        "    for data_point in data:\n",
        "        data_point_vectors = []\n",
        "        count = 0\n",
        "        tokens = data_point.split()\n",
        "\n",
        "        for token in tokens:\n",
        "            if count >= MAX_LENGTH:\n",
        "                break\n",
        "            if token in model:\n",
        "                data_point_vectors.append(model[token])\n",
        "            count += 1\n",
        "\n",
        "\n",
        "        while len(data_point_vectors) < MAX_LENGTH:\n",
        "            data_point_vectors.append(padding_vector)\n",
        "\n",
        "        vectors.append(data_point_vectors)\n",
        "\n",
        "    return vectors"
      ]
    },
    {
      "cell_type": "code",
      "execution_count": null,
      "id": "38907c6d-b103-4961-9be4-c837df375f83",
      "metadata": {
        "id": "38907c6d-b103-4961-9be4-c837df375f83"
      },
      "outputs": [],
      "source": [
        "vectorized_headlines = vectorize_data(headlines)"
      ]
    },
    {
      "cell_type": "code",
      "execution_count": null,
      "id": "0c3154c9-bf1f-4d65-91df-5eb0671c7366",
      "metadata": {
        "id": "0c3154c9-bf1f-4d65-91df-5eb0671c7366"
      },
      "outputs": [],
      "source": [
        "# Data Validation\n",
        "for i, vec in enumerate(vectorized_headlines):\n",
        "    if len(vec) != MAX_LENGTH:\n",
        "        print(i)"
      ]
    },
    {
      "cell_type": "code",
      "execution_count": null,
      "id": "5e504462-d301-48d5-b479-d8b3aa6079f5",
      "metadata": {
        "id": "5e504462-d301-48d5-b479-d8b3aa6079f5",
        "outputId": "6cd7d631-559a-4e52-ff45-6852b6c5ae68"
      },
      "outputs": [
        {
          "data": {
            "text/plain": [
              "10"
            ]
          },
          "execution_count": 27,
          "metadata": {},
          "output_type": "execute_result"
        }
      ],
      "source": [
        "len(vectorized_headlines[1])"
      ]
    },
    {
      "cell_type": "code",
      "execution_count": null,
      "id": "282b977a-1c6e-4812-a84b-5627c5ef1606",
      "metadata": {
        "id": "282b977a-1c6e-4812-a84b-5627c5ef1606",
        "outputId": "47e15967-712f-4ea8-b772-de7d0945aa92"
      },
      "outputs": [
        {
          "data": {
            "text/plain": [
              "28619"
            ]
          },
          "execution_count": 28,
          "metadata": {},
          "output_type": "execute_result"
        }
      ],
      "source": [
        "len(vectorized_headlines)"
      ]
    },
    {
      "cell_type": "code",
      "execution_count": null,
      "id": "8c547e78-0eb8-4838-82af-6284d07ffb6e",
      "metadata": {
        "id": "8c547e78-0eb8-4838-82af-6284d07ffb6e",
        "outputId": "cfa8d528-0ec6-4e19-b5ba-bf097d2aa136"
      },
      "outputs": [
        {
          "data": {
            "text/plain": [
              "20033"
            ]
          },
          "execution_count": 29,
          "metadata": {},
          "output_type": "execute_result"
        }
      ],
      "source": [
        "# Train Test Split and Conversion of Data Into Form expected by Convolutional Neural Network\n",
        "train_div = math.floor(0.7 * len(vectorized_headlines))\n",
        "train_div"
      ]
    },
    {
      "cell_type": "code",
      "execution_count": null,
      "id": "baf7606e-c4b0-4f1c-b386-5c348dd16e04",
      "metadata": {
        "id": "baf7606e-c4b0-4f1c-b386-5c348dd16e04",
        "outputId": "d16f3fdc-af84-42fc-bf52-5359d67777dc"
      },
      "outputs": [
        {
          "name": "stdout",
          "output_type": "stream",
          "text": [
            "The size of X_train is: 20033 \n",
            "The size of y_train is: 20033 \n",
            "The size of X_test is: 8586 \n",
            "The size of y_test is: 8586\n"
          ]
        }
      ],
      "source": [
        "X_train = vectorized_headlines[:train_div]\n",
        "y_train = df['is_sarcastic'][:train_div]\n",
        "X_test = vectorized_headlines[train_div:]\n",
        "y_test = df['is_sarcastic'][train_div:]\n",
        "\n",
        "print('The size of X_train is:', len(X_train), '\\nThe size of y_train is:', len(y_train),\n",
        "      '\\nThe size of X_test is:', len(X_test), '\\nThe size of y_test is:', len(y_test))"
      ]
    },
    {
      "cell_type": "code",
      "execution_count": null,
      "id": "5352b1cd-438a-482e-9c0e-2381f7e7f790",
      "metadata": {
        "id": "5352b1cd-438a-482e-9c0e-2381f7e7f790"
      },
      "outputs": [],
      "source": [
        "X_train = np.reshape(X_train, (len(X_train), MAX_LENGTH, VECTOR_SIZE))\n",
        "X_test = np.reshape(X_test, (len(X_test), MAX_LENGTH, VECTOR_SIZE))\n",
        "y_train = np.array(y_train)\n",
        "y_test = np.array(y_test)"
      ]
    },
    {
      "cell_type": "code",
      "execution_count": null,
      "id": "f6f4f9fe-cc61-49d9-9af1-b25f95758d1d",
      "metadata": {
        "id": "f6f4f9fe-cc61-49d9-9af1-b25f95758d1d"
      },
      "outputs": [],
      "source": [
        "# Defining Neural Network Model Parameters\n",
        "FILTERS=8\n",
        "KERNEL_SIZE=3\n",
        "HIDDEN_LAYER_1_NODES=10\n",
        "HIDDEN_LAYER_2_NODES=5\n",
        "DROPOUT_PROB=0.35\n",
        "NUM_EPOCHS=10\n",
        "BATCH_SIZE=50"
      ]
    },
    {
      "cell_type": "markdown",
      "id": "23fec194-f24b-4096-bd32-a912038f479b",
      "metadata": {
        "id": "23fec194-f24b-4096-bd32-a912038f479b"
      },
      "source": [
        "####CNN and FeedForward Neural Network for Detecting Sarcasm"
      ]
    },
    {
      "cell_type": "code",
      "execution_count": null,
      "id": "8a047e54-dda0-4b9f-8ba1-bda8a43cfd98",
      "metadata": {
        "id": "8a047e54-dda0-4b9f-8ba1-bda8a43cfd98",
        "outputId": "6e83da9d-1735-4ddd-ac57-615854f94de9"
      },
      "outputs": [
        {
          "name": "stderr",
          "output_type": "stream",
          "text": [
            "C:\\Users\\Ripple\\AppData\\Roaming\\Python\\Python312\\site-packages\\keras\\src\\layers\\convolutional\\base_conv.py:99: UserWarning: Do not pass an `input_shape`/`input_dim` argument to a layer. When using Sequential models, prefer using an `Input(shape)` object as the first layer in the model instead.\n",
            "  super().__init__(\n"
          ]
        },
        {
          "data": {
            "text/html": [
              "<pre style=\"white-space:pre;overflow-x:auto;line-height:normal;font-family:Menlo,'DejaVu Sans Mono',consolas,'Courier New',monospace\"><span style=\"font-weight: bold\">Model: \"sequential_1\"</span>\n",
              "</pre>\n"
            ],
            "text/plain": [
              "\u001b[1mModel: \"sequential_1\"\u001b[0m\n"
            ]
          },
          "metadata": {},
          "output_type": "display_data"
        },
        {
          "data": {
            "text/html": [
              "<pre style=\"white-space:pre;overflow-x:auto;line-height:normal;font-family:Menlo,'DejaVu Sans Mono',consolas,'Courier New',monospace\">┏━━━━━━━━━━━━━━━━━━━━━━━━━━━━━━━━━━━━━━┳━━━━━━━━━━━━━━━━━━━━━━━━━━━━━┳━━━━━━━━━━━━━━━━━┓\n",
              "┃<span style=\"font-weight: bold\"> Layer (type)                         </span>┃<span style=\"font-weight: bold\"> Output Shape                </span>┃<span style=\"font-weight: bold\">         Param # </span>┃\n",
              "┡━━━━━━━━━━━━━━━━━━━━━━━━━━━━━━━━━━━━━━╇━━━━━━━━━━━━━━━━━━━━━━━━━━━━━╇━━━━━━━━━━━━━━━━━┩\n",
              "│ conv1d (<span style=\"color: #0087ff; text-decoration-color: #0087ff\">Conv1D</span>)                      │ (<span style=\"color: #00d7ff; text-decoration-color: #00d7ff\">None</span>, <span style=\"color: #00af00; text-decoration-color: #00af00\">10</span>, <span style=\"color: #00af00; text-decoration-color: #00af00\">8</span>)               │           <span style=\"color: #00af00; text-decoration-color: #00af00\">7,208</span> │\n",
              "├──────────────────────────────────────┼─────────────────────────────┼─────────────────┤\n",
              "│ global_max_pooling1d                 │ (<span style=\"color: #00d7ff; text-decoration-color: #00d7ff\">None</span>, <span style=\"color: #00af00; text-decoration-color: #00af00\">8</span>)                   │               <span style=\"color: #00af00; text-decoration-color: #00af00\">0</span> │\n",
              "│ (<span style=\"color: #0087ff; text-decoration-color: #0087ff\">GlobalMaxPooling1D</span>)                 │                             │                 │\n",
              "├──────────────────────────────────────┼─────────────────────────────┼─────────────────┤\n",
              "│ dense_2 (<span style=\"color: #0087ff; text-decoration-color: #0087ff\">Dense</span>)                      │ (<span style=\"color: #00d7ff; text-decoration-color: #00d7ff\">None</span>, <span style=\"color: #00af00; text-decoration-color: #00af00\">10</span>)                  │              <span style=\"color: #00af00; text-decoration-color: #00af00\">90</span> │\n",
              "├──────────────────────────────────────┼─────────────────────────────┼─────────────────┤\n",
              "│ dropout (<span style=\"color: #0087ff; text-decoration-color: #0087ff\">Dropout</span>)                    │ (<span style=\"color: #00d7ff; text-decoration-color: #00d7ff\">None</span>, <span style=\"color: #00af00; text-decoration-color: #00af00\">10</span>)                  │               <span style=\"color: #00af00; text-decoration-color: #00af00\">0</span> │\n",
              "├──────────────────────────────────────┼─────────────────────────────┼─────────────────┤\n",
              "│ dense_3 (<span style=\"color: #0087ff; text-decoration-color: #0087ff\">Dense</span>)                      │ (<span style=\"color: #00d7ff; text-decoration-color: #00d7ff\">None</span>, <span style=\"color: #00af00; text-decoration-color: #00af00\">5</span>)                   │              <span style=\"color: #00af00; text-decoration-color: #00af00\">55</span> │\n",
              "├──────────────────────────────────────┼─────────────────────────────┼─────────────────┤\n",
              "│ dropout_1 (<span style=\"color: #0087ff; text-decoration-color: #0087ff\">Dropout</span>)                  │ (<span style=\"color: #00d7ff; text-decoration-color: #00d7ff\">None</span>, <span style=\"color: #00af00; text-decoration-color: #00af00\">5</span>)                   │               <span style=\"color: #00af00; text-decoration-color: #00af00\">0</span> │\n",
              "├──────────────────────────────────────┼─────────────────────────────┼─────────────────┤\n",
              "│ dense_4 (<span style=\"color: #0087ff; text-decoration-color: #0087ff\">Dense</span>)                      │ (<span style=\"color: #00d7ff; text-decoration-color: #00d7ff\">None</span>, <span style=\"color: #00af00; text-decoration-color: #00af00\">1</span>)                   │               <span style=\"color: #00af00; text-decoration-color: #00af00\">6</span> │\n",
              "└──────────────────────────────────────┴─────────────────────────────┴─────────────────┘\n",
              "</pre>\n"
            ],
            "text/plain": [
              "┏━━━━━━━━━━━━━━━━━━━━━━━━━━━━━━━━━━━━━━┳━━━━━━━━━━━━━━━━━━━━━━━━━━━━━┳━━━━━━━━━━━━━━━━━┓\n",
              "┃\u001b[1m \u001b[0m\u001b[1mLayer (type)                        \u001b[0m\u001b[1m \u001b[0m┃\u001b[1m \u001b[0m\u001b[1mOutput Shape               \u001b[0m\u001b[1m \u001b[0m┃\u001b[1m \u001b[0m\u001b[1m        Param #\u001b[0m\u001b[1m \u001b[0m┃\n",
              "┡━━━━━━━━━━━━━━━━━━━━━━━━━━━━━━━━━━━━━━╇━━━━━━━━━━━━━━━━━━━━━━━━━━━━━╇━━━━━━━━━━━━━━━━━┩\n",
              "│ conv1d (\u001b[38;5;33mConv1D\u001b[0m)                      │ (\u001b[38;5;45mNone\u001b[0m, \u001b[38;5;34m10\u001b[0m, \u001b[38;5;34m8\u001b[0m)               │           \u001b[38;5;34m7,208\u001b[0m │\n",
              "├──────────────────────────────────────┼─────────────────────────────┼─────────────────┤\n",
              "│ global_max_pooling1d                 │ (\u001b[38;5;45mNone\u001b[0m, \u001b[38;5;34m8\u001b[0m)                   │               \u001b[38;5;34m0\u001b[0m │\n",
              "│ (\u001b[38;5;33mGlobalMaxPooling1D\u001b[0m)                 │                             │                 │\n",
              "├──────────────────────────────────────┼─────────────────────────────┼─────────────────┤\n",
              "│ dense_2 (\u001b[38;5;33mDense\u001b[0m)                      │ (\u001b[38;5;45mNone\u001b[0m, \u001b[38;5;34m10\u001b[0m)                  │              \u001b[38;5;34m90\u001b[0m │\n",
              "├──────────────────────────────────────┼─────────────────────────────┼─────────────────┤\n",
              "│ dropout (\u001b[38;5;33mDropout\u001b[0m)                    │ (\u001b[38;5;45mNone\u001b[0m, \u001b[38;5;34m10\u001b[0m)                  │               \u001b[38;5;34m0\u001b[0m │\n",
              "├──────────────────────────────────────┼─────────────────────────────┼─────────────────┤\n",
              "│ dense_3 (\u001b[38;5;33mDense\u001b[0m)                      │ (\u001b[38;5;45mNone\u001b[0m, \u001b[38;5;34m5\u001b[0m)                   │              \u001b[38;5;34m55\u001b[0m │\n",
              "├──────────────────────────────────────┼─────────────────────────────┼─────────────────┤\n",
              "│ dropout_1 (\u001b[38;5;33mDropout\u001b[0m)                  │ (\u001b[38;5;45mNone\u001b[0m, \u001b[38;5;34m5\u001b[0m)                   │               \u001b[38;5;34m0\u001b[0m │\n",
              "├──────────────────────────────────────┼─────────────────────────────┼─────────────────┤\n",
              "│ dense_4 (\u001b[38;5;33mDense\u001b[0m)                      │ (\u001b[38;5;45mNone\u001b[0m, \u001b[38;5;34m1\u001b[0m)                   │               \u001b[38;5;34m6\u001b[0m │\n",
              "└──────────────────────────────────────┴─────────────────────────────┴─────────────────┘\n"
            ]
          },
          "metadata": {},
          "output_type": "display_data"
        },
        {
          "data": {
            "text/html": [
              "<pre style=\"white-space:pre;overflow-x:auto;line-height:normal;font-family:Menlo,'DejaVu Sans Mono',consolas,'Courier New',monospace\"><span style=\"font-weight: bold\"> Total params: </span><span style=\"color: #00af00; text-decoration-color: #00af00\">7,359</span> (28.75 KB)\n",
              "</pre>\n"
            ],
            "text/plain": [
              "\u001b[1m Total params: \u001b[0m\u001b[38;5;34m7,359\u001b[0m (28.75 KB)\n"
            ]
          },
          "metadata": {},
          "output_type": "display_data"
        },
        {
          "data": {
            "text/html": [
              "<pre style=\"white-space:pre;overflow-x:auto;line-height:normal;font-family:Menlo,'DejaVu Sans Mono',consolas,'Courier New',monospace\"><span style=\"font-weight: bold\"> Trainable params: </span><span style=\"color: #00af00; text-decoration-color: #00af00\">7,359</span> (28.75 KB)\n",
              "</pre>\n"
            ],
            "text/plain": [
              "\u001b[1m Trainable params: \u001b[0m\u001b[38;5;34m7,359\u001b[0m (28.75 KB)\n"
            ]
          },
          "metadata": {},
          "output_type": "display_data"
        },
        {
          "data": {
            "text/html": [
              "<pre style=\"white-space:pre;overflow-x:auto;line-height:normal;font-family:Menlo,'DejaVu Sans Mono',consolas,'Courier New',monospace\"><span style=\"font-weight: bold\"> Non-trainable params: </span><span style=\"color: #00af00; text-decoration-color: #00af00\">0</span> (0.00 B)\n",
              "</pre>\n"
            ],
            "text/plain": [
              "\u001b[1m Non-trainable params: \u001b[0m\u001b[38;5;34m0\u001b[0m (0.00 B)\n"
            ]
          },
          "metadata": {},
          "output_type": "display_data"
        },
        {
          "name": "stdout",
          "output_type": "stream",
          "text": [
            "None\n"
          ]
        }
      ],
      "source": [
        "from keras.models import Sequential\n",
        "from keras.layers import Conv1D, GlobalMaxPooling1D, Dense, Dropout\n",
        "model = Sequential()\n",
        "model.add(Conv1D(FILTERS,\n",
        "                 KERNEL_SIZE,\n",
        "                 padding='same',\n",
        "                 strides=1,\n",
        "                 activation='relu',\n",
        "                 input_shape=(MAX_LENGTH, VECTOR_SIZE)))\n",
        "model.add(GlobalMaxPooling1D())\n",
        "model.add(Dense(HIDDEN_LAYER_1_NODES, activation='relu'))\n",
        "model.add(Dropout(DROPOUT_PROB))\n",
        "model.add(Dense(HIDDEN_LAYER_2_NODES, activation='relu'))\n",
        "model.add(Dropout(DROPOUT_PROB))\n",
        "model.add(Dense(1, activation='sigmoid'))\n",
        "print(model.summary())"
      ]
    },
    {
      "cell_type": "code",
      "execution_count": null,
      "id": "d33e260b-29a6-4f32-98a1-e109132037a5",
      "metadata": {
        "id": "d33e260b-29a6-4f32-98a1-e109132037a5",
        "outputId": "ad0cb439-e4d2-4afb-b7a3-b31130a60e7f"
      },
      "outputs": [
        {
          "name": "stdout",
          "output_type": "stream",
          "text": [
            "Epoch 1/10\n",
            "\u001b[1m401/401\u001b[0m \u001b[32m━━━━━━━━━━━━━━━━━━━━\u001b[0m\u001b[37m\u001b[0m \u001b[1m10s\u001b[0m 7ms/step - accuracy: 0.5518 - loss: 0.6812\n",
            "Epoch 2/10\n",
            "\u001b[1m401/401\u001b[0m \u001b[32m━━━━━━━━━━━━━━━━━━━━\u001b[0m\u001b[37m\u001b[0m \u001b[1m4s\u001b[0m 7ms/step - accuracy: 0.6978 - loss: 0.5923\n",
            "Epoch 3/10\n",
            "\u001b[1m401/401\u001b[0m \u001b[32m━━━━━━━━━━━━━━━━━━━━\u001b[0m\u001b[37m\u001b[0m \u001b[1m5s\u001b[0m 7ms/step - accuracy: 0.7518 - loss: 0.5402\n",
            "Epoch 4/10\n",
            "\u001b[1m401/401\u001b[0m \u001b[32m━━━━━━━━━━━━━━━━━━━━\u001b[0m\u001b[37m\u001b[0m \u001b[1m6s\u001b[0m 9ms/step - accuracy: 0.7706 - loss: 0.5132\n",
            "Epoch 5/10\n",
            "\u001b[1m401/401\u001b[0m \u001b[32m━━━━━━━━━━━━━━━━━━━━\u001b[0m\u001b[37m\u001b[0m \u001b[1m3s\u001b[0m 6ms/step - accuracy: 0.7858 - loss: 0.4957\n",
            "Epoch 6/10\n",
            "\u001b[1m401/401\u001b[0m \u001b[32m━━━━━━━━━━━━━━━━━━━━\u001b[0m\u001b[37m\u001b[0m \u001b[1m3s\u001b[0m 7ms/step - accuracy: 0.7986 - loss: 0.4664\n",
            "Epoch 7/10\n",
            "\u001b[1m401/401\u001b[0m \u001b[32m━━━━━━━━━━━━━━━━━━━━\u001b[0m\u001b[37m\u001b[0m \u001b[1m3s\u001b[0m 8ms/step - accuracy: 0.8076 - loss: 0.4519\n",
            "Epoch 8/10\n",
            "\u001b[1m401/401\u001b[0m \u001b[32m━━━━━━━━━━━━━━━━━━━━\u001b[0m\u001b[37m\u001b[0m \u001b[1m4s\u001b[0m 11ms/step - accuracy: 0.8169 - loss: 0.4378\n",
            "Epoch 9/10\n",
            "\u001b[1m401/401\u001b[0m \u001b[32m━━━━━━━━━━━━━━━━━━━━\u001b[0m\u001b[37m\u001b[0m \u001b[1m5s\u001b[0m 8ms/step - accuracy: 0.8124 - loss: 0.4303\n",
            "Epoch 10/10\n",
            "\u001b[1m401/401\u001b[0m \u001b[32m━━━━━━━━━━━━━━━━━━━━\u001b[0m\u001b[37m\u001b[0m \u001b[1m5s\u001b[0m 8ms/step - accuracy: 0.8375 - loss: 0.3954\n"
          ]
        }
      ],
      "source": [
        "model.compile(loss='binary_crossentropy', optimizer='adam', metrics=['accuracy'])\n",
        "training_history = model.fit(X_train, y_train, epochs=NUM_EPOCHS, batch_size=BATCH_SIZE)"
      ]
    },
    {
      "cell_type": "markdown",
      "id": "7fc75d7b-fe34-4883-862d-626390e306b2",
      "metadata": {
        "id": "7fc75d7b-fe34-4883-862d-626390e306b2"
      },
      "source": [
        "####  Evaluation"
      ]
    },
    {
      "cell_type": "code",
      "execution_count": null,
      "id": "673bdcfd-933a-4e9a-ab0b-75a795e37fce",
      "metadata": {
        "id": "673bdcfd-933a-4e9a-ab0b-75a795e37fce",
        "outputId": "4fc19559-15c8-4bc9-88c5-a8cfa2fd92a5"
      },
      "outputs": [
        {
          "name": "stdout",
          "output_type": "stream",
          "text": [
            "Testing Accuracy:  0.7610\n"
          ]
        }
      ],
      "source": [
        "loss, accuracy = model.evaluate(X_test, y_test, verbose=False)\n",
        "print(\"Testing Accuracy:  {:.4f}\".format(accuracy))"
      ]
    },
    {
      "cell_type": "code",
      "execution_count": null,
      "id": "c0ba198a-0b8b-4b1c-b5c2-5af54cf3654f",
      "metadata": {
        "id": "c0ba198a-0b8b-4b1c-b5c2-5af54cf3654f"
      },
      "outputs": [],
      "source": [
        "model_structure = model.to_json()\n",
        "with open(\"Output Files/sarcasm_detection_model_cnn.json\", \"w\") as json_file:\n",
        "    json_file.write(model_structure)\n",
        "model.save_weights(\"Output Files/sarcsm_detection_model_cnn.weights.h5\")"
      ]
    },
    {
      "cell_type": "markdown",
      "id": "bf023b53-58b5-49a0-a6fb-f44ea57bb9be",
      "metadata": {
        "id": "bf023b53-58b5-49a0-a6fb-f44ea57bb9be"
      },
      "source": [
        "#### Building a text generator using LSTMs\n"
      ]
    },
    {
      "cell_type": "code",
      "execution_count": null,
      "id": "ffb6e25f-c4c2-4671-9e5c-80d9bf523187",
      "metadata": {
        "id": "ffb6e25f-c4c2-4671-9e5c-80d9bf523187"
      },
      "outputs": [],
      "source": [
        "# Importing required libraries\n",
        "import nltk\n",
        "from nltk.corpus import stopwords\n",
        "import pandas as pd\n",
        "import numpy as np\n",
        "import re\n",
        "from keras.preprocessing.sequence import pad_sequences\n",
        "from keras.models import Sequential\n",
        "from keras.layers import Dense, LSTM, Dropout, Embedding\n",
        "from keras.utils import to_categorical"
      ]
    },
    {
      "cell_type": "code",
      "execution_count": null,
      "id": "9c828ed9-000f-48da-befc-40d99fb80194",
      "metadata": {
        "id": "9c828ed9-000f-48da-befc-40d99fb80194"
      },
      "outputs": [],
      "source": [
        "data = pd.read_csv('Dataset/hotel_data.csv')"
      ]
    },
    {
      "cell_type": "code",
      "execution_count": null,
      "id": "52072b87-a393-4434-8767-eec467442906",
      "metadata": {
        "id": "52072b87-a393-4434-8767-eec467442906",
        "outputId": "c5e6807e-a1ec-49f2-929b-0b361c2b9fda"
      },
      "outputs": [
        {
          "data": {
            "text/html": [
              "<div>\n",
              "<style scoped>\n",
              "    .dataframe tbody tr th:only-of-type {\n",
              "        vertical-align: middle;\n",
              "    }\n",
              "\n",
              "    .dataframe tbody tr th {\n",
              "        vertical-align: top;\n",
              "    }\n",
              "\n",
              "    .dataframe thead th {\n",
              "        text-align: right;\n",
              "    }\n",
              "</style>\n",
              "<table border=\"1\" class=\"dataframe\">\n",
              "  <thead>\n",
              "    <tr style=\"text-align: right;\">\n",
              "      <th></th>\n",
              "      <th>area</th>\n",
              "      <th>city</th>\n",
              "      <th>country</th>\n",
              "      <th>crawl_date</th>\n",
              "      <th>highlight_value</th>\n",
              "      <th>hotel_overview</th>\n",
              "      <th>hotel_star_rating</th>\n",
              "      <th>image_urls</th>\n",
              "      <th>in_your_room</th>\n",
              "      <th>is_value_plus</th>\n",
              "      <th>...</th>\n",
              "      <th>property_type</th>\n",
              "      <th>qts</th>\n",
              "      <th>query_time_stamp</th>\n",
              "      <th>room_types</th>\n",
              "      <th>site_review_count</th>\n",
              "      <th>site_review_rating</th>\n",
              "      <th>sitename</th>\n",
              "      <th>state</th>\n",
              "      <th>traveller_rating</th>\n",
              "      <th>uniq_id</th>\n",
              "    </tr>\n",
              "  </thead>\n",
              "  <tbody>\n",
              "    <tr>\n",
              "      <th>0</th>\n",
              "      <td>Hardasji Ki Magri</td>\n",
              "      <td>Udaipur</td>\n",
              "      <td>India</td>\n",
              "      <td>2016-06-21</td>\n",
              "      <td>{{facility}}</td>\n",
              "      <td>|Zion Home Stay is located in a city that sets...</td>\n",
              "      <td>1 star</td>\n",
              "      <td>NaN</td>\n",
              "      <td>{{value}}</td>\n",
              "      <td>no</td>\n",
              "      <td>...</td>\n",
              "      <td>Hotel</td>\n",
              "      <td>NaN</td>\n",
              "      <td>2016-06-21 04:06:50 +0000</td>\n",
              "      <td>NaN</td>\n",
              "      <td>/5</td>\n",
              "      <td>4.5</td>\n",
              "      <td>makemytrip</td>\n",
              "      <td>NaN</td>\n",
              "      <td>NaN</td>\n",
              "      <td>78ddf880bd7937d384ff278cc5b39d6e</td>\n",
              "    </tr>\n",
              "    <tr>\n",
              "      <th>1</th>\n",
              "      <td>Near Nai Gaon</td>\n",
              "      <td>Udaipur</td>\n",
              "      <td>India</td>\n",
              "      <td>2016-06-21</td>\n",
              "      <td>{{facility}}</td>\n",
              "      <td>| Araliayas Resorts is a 3 star hotel located ...</td>\n",
              "      <td>3 star</td>\n",
              "      <td>NaN</td>\n",
              "      <td>{{value}}</td>\n",
              "      <td>no</td>\n",
              "      <td>...</td>\n",
              "      <td>Hotel</td>\n",
              "      <td>NaN</td>\n",
              "      <td>2016-06-21 04:06:50 +0000</td>\n",
              "      <td>NaN</td>\n",
              "      <td>/5</td>\n",
              "      <td>4.5</td>\n",
              "      <td>makemytrip</td>\n",
              "      <td>NaN</td>\n",
              "      <td>NaN</td>\n",
              "      <td>9f9f9cbb2f7df8089b63d5cdeb257944</td>\n",
              "    </tr>\n",
              "    <tr>\n",
              "      <th>2</th>\n",
              "      <td>Near Bagore Ki Haveli</td>\n",
              "      <td>Udaipur</td>\n",
              "      <td>India</td>\n",
              "      <td>2016-06-21</td>\n",
              "      <td>{{facility}}</td>\n",
              "      <td>|A 2 star property is located at 24 km from Ma...</td>\n",
              "      <td>2 star</td>\n",
              "      <td>NaN</td>\n",
              "      <td>{{value}}</td>\n",
              "      <td>no</td>\n",
              "      <td>...</td>\n",
              "      <td>Hotel</td>\n",
              "      <td>NaN</td>\n",
              "      <td>2016-06-21 04:06:50 +0000</td>\n",
              "      <td>NaN</td>\n",
              "      <td>/5</td>\n",
              "      <td>NaN</td>\n",
              "      <td>makemytrip</td>\n",
              "      <td>NaN</td>\n",
              "      <td>NaN</td>\n",
              "      <td>b314bb7fa8bfb1ed306f517be21d729e</td>\n",
              "    </tr>\n",
              "    <tr>\n",
              "      <th>3</th>\n",
              "      <td>Dabok</td>\n",
              "      <td>Udaipur</td>\n",
              "      <td>India</td>\n",
              "      <td>2016-06-21</td>\n",
              "      <td>Airport Transfer|Car rental|Conference Hall|Cu...</td>\n",
              "      <td>|SNP House Airport Hotel And Restaurant is loa...</td>\n",
              "      <td>1 star</td>\n",
              "      <td>//imghtlak.mmtcdn.com/images/hotels/2014071815...</td>\n",
              "      <td>NaN</td>\n",
              "      <td>no</td>\n",
              "      <td>...</td>\n",
              "      <td>Hotel</td>\n",
              "      <td>NaN</td>\n",
              "      <td>2016-06-21 04:06:50 +0000</td>\n",
              "      <td>`standard</td>\n",
              "      <td>/5</td>\n",
              "      <td>NaN</td>\n",
              "      <td>makemytrip</td>\n",
              "      <td>NaN</td>\n",
              "      <td>NaN</td>\n",
              "      <td>e6f5bb3c2d76a78d978b9ceb0e31ec56</td>\n",
              "    </tr>\n",
              "    <tr>\n",
              "      <th>4</th>\n",
              "      <td>East Udaipur</td>\n",
              "      <td>Udaipur</td>\n",
              "      <td>India</td>\n",
              "      <td>2016-06-21</td>\n",
              "      <td>{{facility}}</td>\n",
              "      <td>| Hotel Pichola Haveli is situated in the beau...</td>\n",
              "      <td>2 star</td>\n",
              "      <td>NaN</td>\n",
              "      <td>{{value}}</td>\n",
              "      <td>no</td>\n",
              "      <td>...</td>\n",
              "      <td>Hotel</td>\n",
              "      <td>NaN</td>\n",
              "      <td>2016-06-21 04:06:50 +0000</td>\n",
              "      <td>NaN</td>\n",
              "      <td>/5</td>\n",
              "      <td>3.7</td>\n",
              "      <td>makemytrip</td>\n",
              "      <td>NaN</td>\n",
              "      <td>NaN</td>\n",
              "      <td>63072c301427b6ca450d31eea127bcf0</td>\n",
              "    </tr>\n",
              "  </tbody>\n",
              "</table>\n",
              "<p>5 rows × 33 columns</p>\n",
              "</div>"
            ],
            "text/plain": [
              "                    area     city country  crawl_date  \\\n",
              "0      Hardasji Ki Magri  Udaipur   India  2016-06-21   \n",
              "1          Near Nai Gaon  Udaipur   India  2016-06-21   \n",
              "2  Near Bagore Ki Haveli  Udaipur   India  2016-06-21   \n",
              "3                  Dabok  Udaipur   India  2016-06-21   \n",
              "4           East Udaipur  Udaipur   India  2016-06-21   \n",
              "\n",
              "                                     highlight_value  \\\n",
              "0                                       {{facility}}   \n",
              "1                                       {{facility}}   \n",
              "2                                       {{facility}}   \n",
              "3  Airport Transfer|Car rental|Conference Hall|Cu...   \n",
              "4                                       {{facility}}   \n",
              "\n",
              "                                      hotel_overview hotel_star_rating  \\\n",
              "0  |Zion Home Stay is located in a city that sets...            1 star   \n",
              "1  | Araliayas Resorts is a 3 star hotel located ...            3 star   \n",
              "2  |A 2 star property is located at 24 km from Ma...            2 star   \n",
              "3  |SNP House Airport Hotel And Restaurant is loa...            1 star   \n",
              "4  | Hotel Pichola Haveli is situated in the beau...            2 star   \n",
              "\n",
              "                                          image_urls in_your_room  \\\n",
              "0                                                NaN    {{value}}   \n",
              "1                                                NaN    {{value}}   \n",
              "2                                                NaN    {{value}}   \n",
              "3  //imghtlak.mmtcdn.com/images/hotels/2014071815...          NaN   \n",
              "4                                                NaN    {{value}}   \n",
              "\n",
              "  is_value_plus  ...  property_type  qts           query_time_stamp  \\\n",
              "0            no  ...          Hotel  NaN  2016-06-21 04:06:50 +0000   \n",
              "1            no  ...          Hotel  NaN  2016-06-21 04:06:50 +0000   \n",
              "2            no  ...          Hotel  NaN  2016-06-21 04:06:50 +0000   \n",
              "3            no  ...          Hotel  NaN  2016-06-21 04:06:50 +0000   \n",
              "4            no  ...          Hotel  NaN  2016-06-21 04:06:50 +0000   \n",
              "\n",
              "  room_types  site_review_count site_review_rating    sitename state  \\\n",
              "0        NaN                 /5                4.5  makemytrip   NaN   \n",
              "1        NaN                 /5                4.5  makemytrip   NaN   \n",
              "2        NaN                 /5                NaN  makemytrip   NaN   \n",
              "3  `standard                 /5                NaN  makemytrip   NaN   \n",
              "4        NaN                 /5                3.7  makemytrip   NaN   \n",
              "\n",
              "   traveller_rating                           uniq_id  \n",
              "0               NaN  78ddf880bd7937d384ff278cc5b39d6e  \n",
              "1               NaN  9f9f9cbb2f7df8089b63d5cdeb257944  \n",
              "2               NaN  b314bb7fa8bfb1ed306f517be21d729e  \n",
              "3               NaN  e6f5bb3c2d76a78d978b9ceb0e31ec56  \n",
              "4               NaN  63072c301427b6ca450d31eea127bcf0  \n",
              "\n",
              "[5 rows x 33 columns]"
            ]
          },
          "execution_count": 41,
          "metadata": {},
          "output_type": "execute_result"
        }
      ],
      "source": [
        "data.head(5)"
      ]
    },
    {
      "cell_type": "code",
      "execution_count": null,
      "id": "c50302b7-6db7-4a2a-a2e1-4ce0ae45002c",
      "metadata": {
        "id": "c50302b7-6db7-4a2a-a2e1-4ce0ae45002c",
        "outputId": "137dc20b-cabd-451a-ac27-a031a1781155"
      },
      "outputs": [
        {
          "data": {
            "text/plain": [
              "city\n",
              "NewDelhiAndNCR    1163\n",
              "Goa               1122\n",
              "Mumbai             543\n",
              "Jaipur             534\n",
              "Bangalore          512\n",
              "                  ... \n",
              "Kollur               1\n",
              "Madla                1\n",
              "Jeypore              1\n",
              "Jispa                1\n",
              "Haldia               1\n",
              "Name: count, Length: 770, dtype: int64"
            ]
          },
          "execution_count": 42,
          "metadata": {},
          "output_type": "execute_result"
        }
      ],
      "source": [
        "data.city.value_counts()"
      ]
    },
    {
      "cell_type": "code",
      "execution_count": null,
      "id": "6bb7410c-63d6-45e4-b2f3-7e99f92e91ff",
      "metadata": {
        "id": "6bb7410c-63d6-45e4-b2f3-7e99f92e91ff",
        "outputId": "d6adaf7c-1cfb-47ae-9906-d1a2b59ccb8a"
      },
      "outputs": [
        {
          "data": {
            "text/html": [
              "<div>\n",
              "<style scoped>\n",
              "    .dataframe tbody tr th:only-of-type {\n",
              "        vertical-align: middle;\n",
              "    }\n",
              "\n",
              "    .dataframe tbody tr th {\n",
              "        vertical-align: top;\n",
              "    }\n",
              "\n",
              "    .dataframe thead th {\n",
              "        text-align: right;\n",
              "    }\n",
              "</style>\n",
              "<table border=\"1\" class=\"dataframe\">\n",
              "  <thead>\n",
              "    <tr style=\"text-align: right;\">\n",
              "      <th></th>\n",
              "      <th>area</th>\n",
              "      <th>city</th>\n",
              "      <th>country</th>\n",
              "      <th>crawl_date</th>\n",
              "      <th>highlight_value</th>\n",
              "      <th>hotel_overview</th>\n",
              "      <th>hotel_star_rating</th>\n",
              "      <th>image_urls</th>\n",
              "      <th>in_your_room</th>\n",
              "      <th>is_value_plus</th>\n",
              "      <th>...</th>\n",
              "      <th>property_type</th>\n",
              "      <th>qts</th>\n",
              "      <th>query_time_stamp</th>\n",
              "      <th>room_types</th>\n",
              "      <th>site_review_count</th>\n",
              "      <th>site_review_rating</th>\n",
              "      <th>sitename</th>\n",
              "      <th>state</th>\n",
              "      <th>traveller_rating</th>\n",
              "      <th>uniq_id</th>\n",
              "    </tr>\n",
              "  </thead>\n",
              "  <tbody>\n",
              "    <tr>\n",
              "      <th>294</th>\n",
              "      <td>Charai</td>\n",
              "      <td>Mumbai</td>\n",
              "      <td>India</td>\n",
              "      <td>2016-08-28</td>\n",
              "      <td>Doctor on Call|Front desk|Laundry Service|Park...</td>\n",
              "      <td>Nestled in Mumbai, a city with strong historic...</td>\n",
              "      <td>3</td>\n",
              "      <td>NaN</td>\n",
              "      <td>Bathroom Toiletries|Attached Bathroom|Hot &amp; Co...</td>\n",
              "      <td>no</td>\n",
              "      <td>...</td>\n",
              "      <td>Hotel</td>\n",
              "      <td>2016-08-28 16:13:39 +0000</td>\n",
              "      <td>2016-08-28 16:13:39 +0000</td>\n",
              "      <td>Ac Superior Room|A/c Standard Rooms Double Occ...</td>\n",
              "      <td>NaN</td>\n",
              "      <td>NaN</td>\n",
              "      <td>makemytrip</td>\n",
              "      <td>Maharashtra</td>\n",
              "      <td>NaN</td>\n",
              "      <td>d78fae90ef2e1b5c2dfd547c61763a25</td>\n",
              "    </tr>\n",
              "    <tr>\n",
              "      <th>309</th>\n",
              "      <td>Andheri (East)</td>\n",
              "      <td>Mumbai</td>\n",
              "      <td>India</td>\n",
              "      <td>2016-08-28</td>\n",
              "      <td>Air Conditioned|Airport Transfer|Conference Ha...</td>\n",
              "      <td>3 km from Chhatrapati Shivaji International Ai...</td>\n",
              "      <td>2</td>\n",
              "      <td>NaN</td>\n",
              "      <td>Bathroom Toiletries|Daily Newspaper|Kitchenett...</td>\n",
              "      <td>no</td>\n",
              "      <td>...</td>\n",
              "      <td>Hotel</td>\n",
              "      <td>2016-08-28 16:13:39 +0000</td>\n",
              "      <td>2016-08-28 16:13:39 +0000</td>\n",
              "      <td>Executive|Deluxe</td>\n",
              "      <td>NaN</td>\n",
              "      <td>NaN</td>\n",
              "      <td>makemytrip</td>\n",
              "      <td>Maharasta</td>\n",
              "      <td>Location:3.2/5 | Hospitality:3.1/5 | Facilitie...</td>\n",
              "      <td>030865f741982beb373efddecdc6d6c3</td>\n",
              "    </tr>\n",
              "    <tr>\n",
              "      <th>321</th>\n",
              "      <td>Khar</td>\n",
              "      <td>Mumbai</td>\n",
              "      <td>India</td>\n",
              "      <td>2016-08-28</td>\n",
              "      <td>Airport/Rlwy Stn Transfer|Bar|Conference Hall|...</td>\n",
              "      <td>Location Hotel Royal Garden is situated on Juh...</td>\n",
              "      <td>3</td>\n",
              "      <td>NaN</td>\n",
              "      <td>Electronic Safe|Bathroom Toiletries|Daily News...</td>\n",
              "      <td>no</td>\n",
              "      <td>...</td>\n",
              "      <td>Hotel</td>\n",
              "      <td>2016-08-28 16:13:39 +0000</td>\n",
              "      <td>2016-08-28 16:13:39 +0000</td>\n",
              "      <td>Superior Executive</td>\n",
              "      <td>NaN</td>\n",
              "      <td>NaN</td>\n",
              "      <td>makemytrip</td>\n",
              "      <td>Maharashtra</td>\n",
              "      <td>Location:4.5/5 | Hospitality:3.4/5 | Facilitie...</td>\n",
              "      <td>a1ced509350038775a7700ec67796bc2</td>\n",
              "    </tr>\n",
              "    <tr>\n",
              "      <th>334</th>\n",
              "      <td>Andheri (East)</td>\n",
              "      <td>Mumbai</td>\n",
              "      <td>India</td>\n",
              "      <td>2016-08-28</td>\n",
              "      <td>24 Hour Check in-Icon|24 hour reception|24 hou...</td>\n",
              "      <td>City Guest House is a beautiful property locat...</td>\n",
              "      <td>2</td>\n",
              "      <td>NaN</td>\n",
              "      <td>Bathroom Toiletries|Hot/cold Water|Attached Ba...</td>\n",
              "      <td>no</td>\n",
              "      <td>...</td>\n",
              "      <td>Hotel</td>\n",
              "      <td>2016-08-28 16:13:39 +0000</td>\n",
              "      <td>2016-08-28 16:13:39 +0000</td>\n",
              "      <td>Standard Room|Deluxe Room|Triple Deluxe Room|S...</td>\n",
              "      <td>NaN</td>\n",
              "      <td>NaN</td>\n",
              "      <td>makemytrip</td>\n",
              "      <td>Maharashtra</td>\n",
              "      <td>Location:4.3/5 | Hospitality:3.8/5 | Facilitie...</td>\n",
              "      <td>f2820ae7707668ed6906bb227921f720</td>\n",
              "    </tr>\n",
              "    <tr>\n",
              "      <th>1238</th>\n",
              "      <td>Andheri (East)</td>\n",
              "      <td>Mumbai</td>\n",
              "      <td>NaN</td>\n",
              "      <td>2016-08-22</td>\n",
              "      <td>24 Hour Check in-Icon|24 hour reception|24 hou...</td>\n",
              "      <td>Sai Residency Hotel is situated in the City of...</td>\n",
              "      <td>2</td>\n",
              "      <td>NaN</td>\n",
              "      <td>Bathroom Toiletries|Attached Bathroom|Hot &amp; Co...</td>\n",
              "      <td>no</td>\n",
              "      <td>...</td>\n",
              "      <td>Hotel</td>\n",
              "      <td>2016-08-22 22:10:53 +0000</td>\n",
              "      <td>2016-08-22 22:10:53 +0000</td>\n",
              "      <td>Deluxe Dbl Air Cooled</td>\n",
              "      <td>NaN</td>\n",
              "      <td>NaN</td>\n",
              "      <td>makemytrip</td>\n",
              "      <td>MAHARASHTRA</td>\n",
              "      <td>NaN</td>\n",
              "      <td>b4af24952027ffbcd85a91bb6fe23f5d</td>\n",
              "    </tr>\n",
              "  </tbody>\n",
              "</table>\n",
              "<p>5 rows × 33 columns</p>\n",
              "</div>"
            ],
            "text/plain": [
              "                area    city country  crawl_date  \\\n",
              "294           Charai  Mumbai   India  2016-08-28   \n",
              "309   Andheri (East)  Mumbai   India  2016-08-28   \n",
              "321             Khar  Mumbai   India  2016-08-28   \n",
              "334   Andheri (East)  Mumbai   India  2016-08-28   \n",
              "1238  Andheri (East)  Mumbai     NaN  2016-08-22   \n",
              "\n",
              "                                        highlight_value  \\\n",
              "294   Doctor on Call|Front desk|Laundry Service|Park...   \n",
              "309   Air Conditioned|Airport Transfer|Conference Ha...   \n",
              "321   Airport/Rlwy Stn Transfer|Bar|Conference Hall|...   \n",
              "334   24 Hour Check in-Icon|24 hour reception|24 hou...   \n",
              "1238  24 Hour Check in-Icon|24 hour reception|24 hou...   \n",
              "\n",
              "                                         hotel_overview hotel_star_rating  \\\n",
              "294   Nestled in Mumbai, a city with strong historic...                 3   \n",
              "309   3 km from Chhatrapati Shivaji International Ai...                 2   \n",
              "321   Location Hotel Royal Garden is situated on Juh...                 3   \n",
              "334   City Guest House is a beautiful property locat...                 2   \n",
              "1238  Sai Residency Hotel is situated in the City of...                 2   \n",
              "\n",
              "     image_urls                                       in_your_room  \\\n",
              "294         NaN  Bathroom Toiletries|Attached Bathroom|Hot & Co...   \n",
              "309         NaN  Bathroom Toiletries|Daily Newspaper|Kitchenett...   \n",
              "321         NaN  Electronic Safe|Bathroom Toiletries|Daily News...   \n",
              "334         NaN  Bathroom Toiletries|Hot/cold Water|Attached Ba...   \n",
              "1238        NaN  Bathroom Toiletries|Attached Bathroom|Hot & Co...   \n",
              "\n",
              "     is_value_plus  ...  property_type                        qts  \\\n",
              "294             no  ...          Hotel  2016-08-28 16:13:39 +0000   \n",
              "309             no  ...          Hotel  2016-08-28 16:13:39 +0000   \n",
              "321             no  ...          Hotel  2016-08-28 16:13:39 +0000   \n",
              "334             no  ...          Hotel  2016-08-28 16:13:39 +0000   \n",
              "1238            no  ...          Hotel  2016-08-22 22:10:53 +0000   \n",
              "\n",
              "               query_time_stamp  \\\n",
              "294   2016-08-28 16:13:39 +0000   \n",
              "309   2016-08-28 16:13:39 +0000   \n",
              "321   2016-08-28 16:13:39 +0000   \n",
              "334   2016-08-28 16:13:39 +0000   \n",
              "1238  2016-08-22 22:10:53 +0000   \n",
              "\n",
              "                                             room_types  site_review_count  \\\n",
              "294   Ac Superior Room|A/c Standard Rooms Double Occ...                NaN   \n",
              "309                                    Executive|Deluxe                NaN   \n",
              "321                                  Superior Executive                NaN   \n",
              "334   Standard Room|Deluxe Room|Triple Deluxe Room|S...                NaN   \n",
              "1238                              Deluxe Dbl Air Cooled                NaN   \n",
              "\n",
              "     site_review_rating    sitename        state  \\\n",
              "294                 NaN  makemytrip  Maharashtra   \n",
              "309                 NaN  makemytrip    Maharasta   \n",
              "321                 NaN  makemytrip  Maharashtra   \n",
              "334                 NaN  makemytrip  Maharashtra   \n",
              "1238                NaN  makemytrip  MAHARASHTRA   \n",
              "\n",
              "                                       traveller_rating  \\\n",
              "294                                                 NaN   \n",
              "309   Location:3.2/5 | Hospitality:3.1/5 | Facilitie...   \n",
              "321   Location:4.5/5 | Hospitality:3.4/5 | Facilitie...   \n",
              "334   Location:4.3/5 | Hospitality:3.8/5 | Facilitie...   \n",
              "1238                                                NaN   \n",
              "\n",
              "                               uniq_id  \n",
              "294   d78fae90ef2e1b5c2dfd547c61763a25  \n",
              "309   030865f741982beb373efddecdc6d6c3  \n",
              "321   a1ced509350038775a7700ec67796bc2  \n",
              "334   f2820ae7707668ed6906bb227921f720  \n",
              "1238  b4af24952027ffbcd85a91bb6fe23f5d  \n",
              "\n",
              "[5 rows x 33 columns]"
            ]
          },
          "execution_count": 43,
          "metadata": {},
          "output_type": "execute_result"
        }
      ],
      "source": [
        "array = ['Mumbai']\n",
        "data = data.loc[data['city'].isin(array)]\n",
        "data.head(5)"
      ]
    },
    {
      "cell_type": "code",
      "execution_count": null,
      "id": "dc111503-3fe3-4f69-89f1-f54f96f0f061",
      "metadata": {
        "id": "dc111503-3fe3-4f69-89f1-f54f96f0f061"
      },
      "outputs": [],
      "source": [
        "data = data.hotel_overview\n",
        "data = data.dropna()\n",
        "stop = set(stopwords.words('english'))\n",
        "def stopwords_removal(data_point):\n",
        "    data = [x for x in data_point.split() if x not in stop]\n",
        "    return data"
      ]
    },
    {
      "cell_type": "code",
      "execution_count": null,
      "id": "7ef9423f-abf3-4110-bdfe-bb37e87d84cb",
      "metadata": {
        "id": "7ef9423f-abf3-4110-bdfe-bb37e87d84cb"
      },
      "outputs": [],
      "source": [
        "def clean_data(data):\n",
        "    cleaned_data = []\n",
        "    all_unique_words_in_each_description = []\n",
        "    for entry in data:\n",
        "        entry = re.sub(pattern='[^a-zA-Z]',repl=' ',string = entry)\n",
        "        entry = re.sub(r'\\b\\w{0,1}\\b', repl=' ',string = entry)\n",
        "        entry = entry.lower()\n",
        "        entry = stopwords_removal(entry)\n",
        "        cleaned_data.append(entry)\n",
        "        unique = list(set(entry))\n",
        "        all_unique_words_in_each_description.extend(unique)\n",
        "    return cleaned_data, all_unique_words_in_each_description"
      ]
    },
    {
      "cell_type": "code",
      "execution_count": null,
      "id": "a65eff47-a45d-4f2b-b4bd-60067fc3d8f5",
      "metadata": {
        "id": "a65eff47-a45d-4f2b-b4bd-60067fc3d8f5"
      },
      "outputs": [],
      "source": [
        "def unique_words(data):\n",
        "    unique_words = set(all_unique_words_in_each_description)\n",
        "    return unique_words, len(unique_words)"
      ]
    },
    {
      "cell_type": "code",
      "execution_count": null,
      "id": "abd2bcff-c436-4dfc-ae1f-d38c99105ae2",
      "metadata": {
        "id": "abd2bcff-c436-4dfc-ae1f-d38c99105ae2",
        "outputId": "cae93e19-9a70-4f84-fdb0-b0b7f183c2d5"
      },
      "outputs": [
        {
          "data": {
            "text/plain": [
              "['nestled',\n",
              " 'mumbai',\n",
              " 'city',\n",
              " 'strong',\n",
              " 'historical',\n",
              " 'links',\n",
              " 'wonderful',\n",
              " 'british',\n",
              " 'architecture',\n",
              " 'museums',\n",
              " 'beaches',\n",
              " 'places',\n",
              " 'worship',\n",
              " 'true',\n",
              " 'galaxy',\n",
              " 'stars',\n",
              " 'bollywood',\n",
              " 'reigns',\n",
              " 'supreme',\n",
              " 'hotel',\n",
              " 'divya',\n",
              " 'international',\n",
              " 'delightful',\n",
              " 'leisure',\n",
              " 'absolute',\n",
              " 'blend',\n",
              " 'service',\n",
              " 'charm',\n",
              " 'efficiency',\n",
              " 'hotel',\n",
              " 'offers',\n",
              " 'facilities',\n",
              " 'like',\n",
              " 'front',\n",
              " 'desk',\n",
              " 'parking',\n",
              " 'laundry',\n",
              " 'doctor',\n",
              " 'call',\n",
              " 'many',\n",
              " 'aims',\n",
              " 'extend',\n",
              " 'best',\n",
              " 'possible',\n",
              " 'hospitality',\n",
              " 'experience',\n",
              " 'revered',\n",
              " 'customers',\n",
              " 'hotel',\n",
              " 'located',\n",
              " 'distance',\n",
              " 'workshop',\n",
              " 'bus',\n",
              " 'stop',\n",
              " 'km',\n",
              " 'chhatrapati',\n",
              " 'shivaji',\n",
              " 'international',\n",
              " 'airport',\n",
              " 'km',\n",
              " 'chhatrapati',\n",
              " 'shivaji',\n",
              " 'terminus',\n",
              " 'guests',\n",
              " 'head',\n",
              " 'prominent',\n",
              " 'tourist',\n",
              " 'attractions',\n",
              " 'like',\n",
              " 'sanjay',\n",
              " 'gandhi',\n",
              " 'national',\n",
              " 'park',\n",
              " 'kidzania',\n",
              " 'mumbai',\n",
              " 'haji',\n",
              " 'ali',\n",
              " 'mosque',\n",
              " 'iskon',\n",
              " 'temple',\n",
              " 'shree',\n",
              " 'siddhivinayak',\n",
              " 'temple',\n",
              " 'many',\n",
              " 'shoppers',\n",
              " 'fun',\n",
              " 'filled',\n",
              " 'shopping',\n",
              " 'experience',\n",
              " 'shopping',\n",
              " 'viviana',\n",
              " 'mall',\n",
              " 'km',\n",
              " 'food',\n",
              " 'lovers',\n",
              " 'visit',\n",
              " 'nearby',\n",
              " 'restaurants',\n",
              " 'try',\n",
              " 'local',\n",
              " 'delights',\n",
              " 'hotel',\n",
              " 'well',\n",
              " 'appointed',\n",
              " 'rooms',\n",
              " 'appeal',\n",
              " 'piligrims',\n",
              " 'business',\n",
              " 'guests',\n",
              " 'well',\n",
              " 'leisure',\n",
              " 'travelers',\n",
              " 'seeking',\n",
              " 'relaxing',\n",
              " 'trip',\n",
              " 'rooms',\n",
              " 'hotel',\n",
              " 'fully',\n",
              " 'furnished',\n",
              " 'spacious',\n",
              " 'equipped',\n",
              " 'telephone',\n",
              " 'wardrobes',\n",
              " 'comfortable',\n",
              " 'beds',\n",
              " 'neat',\n",
              " 'clean',\n",
              " 'bathrooms',\n",
              " 'essential',\n",
              " 'bathrooms',\n",
              " 'amenities',\n",
              " 'memorable',\n",
              " 'stay',\n",
              " 'hotel',\n",
              " 'divya',\n",
              " 'international']"
            ]
          },
          "execution_count": 47,
          "metadata": {},
          "output_type": "execute_result"
        }
      ],
      "source": [
        "cleaned_data, all_unique_words_in_each_description = clean_data(data)\n",
        "unique_words, length_of_unique_words = unique_words(all_unique_words_in_each_description)\n",
        "cleaned_data[0]"
      ]
    },
    {
      "cell_type": "code",
      "execution_count": null,
      "id": "b3143b2b-32e3-4112-9d54-bea689b943e0",
      "metadata": {
        "id": "b3143b2b-32e3-4112-9d54-bea689b943e0",
        "outputId": "6dba8164-881d-4526-c94c-68d300b09792"
      },
      "outputs": [
        {
          "data": {
            "text/plain": [
              "3395"
            ]
          },
          "execution_count": 48,
          "metadata": {},
          "output_type": "execute_result"
        }
      ],
      "source": [
        "length_of_unique_words"
      ]
    },
    {
      "cell_type": "code",
      "execution_count": null,
      "id": "67b7c0e7-7623-4a83-bb51-9b767b4d3cc3",
      "metadata": {
        "id": "67b7c0e7-7623-4a83-bb51-9b767b4d3cc3"
      },
      "outputs": [],
      "source": [
        "def build_indices(unique_words):\n",
        "    word_to_idx = {}\n",
        "    idx_to_word = {}\n",
        "    for i, word in enumerate(unique_words):\n",
        "        word_to_idx[word] = i\n",
        "        idx_to_word[i] = word\n",
        "    return word_to_idx, idx_to_word\n",
        "word_to_idx, idx_to_word = build_indices(unique_words)\n",
        "def prepare_corpus(corpus, word_to_idx):\n",
        "\n",
        "    sequences = []\n",
        "    for line in corpus:\n",
        "        tokens = line\n",
        "        for i in range(1, len(tokens)):\n",
        "            i_gram_sequence = tokens[:i+1]\n",
        "            i_gram_sequence_ids = []\n",
        "\n",
        "            for j, token in enumerate(i_gram_sequence):\n",
        "                i_gram_sequence_ids.append(word_to_idx[token])\n",
        "\n",
        "            sequences.append(i_gram_sequence_ids)\n",
        "\n",
        "    return sequences"
      ]
    },
    {
      "cell_type": "code",
      "execution_count": null,
      "id": "3e9d667c-b6d1-4f8f-9d8e-fa2258e19d40",
      "metadata": {
        "id": "3e9d667c-b6d1-4f8f-9d8e-fa2258e19d40",
        "outputId": "3ca1a832-3e74-474b-ae2c-2916ab12740c"
      },
      "outputs": [
        {
          "name": "stdout",
          "output_type": "stream",
          "text": [
            "[3019, 234]\n",
            "[3019, 234, 2214]\n"
          ]
        }
      ],
      "source": [
        "sequences = prepare_corpus(cleaned_data, word_to_idx)\n",
        "max_sequence_len = max([len(x) for x in sequences])\n",
        "print(sequences[0])\n",
        "print(sequences[1])"
      ]
    },
    {
      "cell_type": "code",
      "execution_count": null,
      "id": "d6b0e845-9b3b-4a64-b17a-90bc04e07acc",
      "metadata": {
        "id": "d6b0e845-9b3b-4a64-b17a-90bc04e07acc",
        "outputId": "6b4e964f-00bc-4d51-f12e-ade1e01a373f"
      },
      "outputs": [
        {
          "name": "stdout",
          "output_type": "stream",
          "text": [
            "alibaugh\n",
            "joints\n",
            "pvt\n"
          ]
        }
      ],
      "source": [
        "print(idx_to_word[1647])\n",
        "print(idx_to_word[867])\n",
        "print(idx_to_word[1452])"
      ]
    },
    {
      "cell_type": "code",
      "execution_count": null,
      "id": "ddc32036-6c67-4234-9519-7206909d2146",
      "metadata": {
        "id": "ddc32036-6c67-4234-9519-7206909d2146",
        "outputId": "a6b513a7-3ea9-43aa-beec-a03dee54613a"
      },
      "outputs": [
        {
          "data": {
            "text/plain": [
              "51836"
            ]
          },
          "execution_count": 52,
          "metadata": {},
          "output_type": "execute_result"
        }
      ],
      "source": [
        "len(sequences)"
      ]
    },
    {
      "cell_type": "code",
      "execution_count": null,
      "id": "8ae09a6b-fdf9-446f-b8dc-3ffb2fac80ff",
      "metadata": {
        "id": "8ae09a6b-fdf9-446f-b8dc-3ffb2fac80ff",
        "outputId": "42940b49-fc0c-4c54-d996-5dfc09957991"
      },
      "outputs": [
        {
          "data": {
            "text/plain": [
              "308"
            ]
          },
          "execution_count": 53,
          "metadata": {},
          "output_type": "execute_result"
        }
      ],
      "source": [
        "max_sequence_len"
      ]
    },
    {
      "cell_type": "code",
      "execution_count": null,
      "id": "f4be8641-0f1d-4e1c-afef-3af33ecdee4e",
      "metadata": {
        "id": "f4be8641-0f1d-4e1c-afef-3af33ecdee4e"
      },
      "outputs": [],
      "source": [
        "def build_input_data(sequences, max_sequence_len, length_of_unique_words):\n",
        "    sequences = np.array(pad_sequences(sequences, maxlen = max_sequence_len, padding = 'pre'))\n",
        "    X = sequences[:,:-1]\n",
        "    y = sequences[:,-1]\n",
        "    y = to_categorical(y, length_of_unique_words)\n",
        "    return X, y"
      ]
    },
    {
      "cell_type": "code",
      "execution_count": null,
      "id": "a8c72579-1a90-44fa-861d-9b7aa3a8c0b2",
      "metadata": {
        "id": "a8c72579-1a90-44fa-861d-9b7aa3a8c0b2",
        "outputId": "9ace5278-b8f8-49e7-cc15-ea4f5cb742aa"
      },
      "outputs": [
        {
          "name": "stdout",
          "output_type": "stream",
          "text": [
            "Shape of X: (51836, 307)\n",
            "Shape of y: (51836, 3395)\n"
          ]
        }
      ],
      "source": [
        "X, y = build_input_data(sequences, max_sequence_len, length_of_unique_words)\n",
        "\n",
        "print(\"Shape of X:\", X.shape)\n",
        "print(\"Shape of y:\", y.shape)"
      ]
    },
    {
      "cell_type": "code",
      "execution_count": null,
      "id": "0e8e09f7-6875-47d7-8789-54bd4b93bb63",
      "metadata": {
        "id": "0e8e09f7-6875-47d7-8789-54bd4b93bb63"
      },
      "outputs": [],
      "source": [
        "def create_model(max_sequence_len, length_of_unique_words):\n",
        "    model = Sequential()\n",
        "    model.add(Embedding(length_of_unique_words, 10, input_shape=(max_sequence_len,)))\n",
        "    model.add(LSTM(128))\n",
        "    model.add(Dropout(0.2))\n",
        "    model.add(Dense(length_of_unique_words, activation='softmax'))\n",
        "    model.compile(loss='categorical_crossentropy', optimizer='adam')\n",
        "    return model"
      ]
    },
    {
      "cell_type": "code",
      "execution_count": null,
      "id": "329a68e4-7b6e-4a1b-9919-d550c7a6e51b",
      "metadata": {
        "id": "329a68e4-7b6e-4a1b-9919-d550c7a6e51b",
        "outputId": "a02392ce-1c8e-4dc4-fe34-9ec14873cff8"
      },
      "outputs": [
        {
          "name": "stderr",
          "output_type": "stream",
          "text": [
            "C:\\Users\\Ripple\\AppData\\Roaming\\Python\\Python312\\site-packages\\keras\\src\\layers\\core\\embedding.py:81: UserWarning: Do not pass an `input_shape`/`input_dim` argument to a layer. When using Sequential models, prefer using an `Input(shape)` object as the first layer in the model instead.\n",
            "  super().__init__(**kwargs)\n"
          ]
        },
        {
          "data": {
            "text/html": [
              "<pre style=\"white-space:pre;overflow-x:auto;line-height:normal;font-family:Menlo,'DejaVu Sans Mono',consolas,'Courier New',monospace\"><span style=\"font-weight: bold\">Model: \"sequential_2\"</span>\n",
              "</pre>\n"
            ],
            "text/plain": [
              "\u001b[1mModel: \"sequential_2\"\u001b[0m\n"
            ]
          },
          "metadata": {},
          "output_type": "display_data"
        },
        {
          "data": {
            "text/html": [
              "<pre style=\"white-space:pre;overflow-x:auto;line-height:normal;font-family:Menlo,'DejaVu Sans Mono',consolas,'Courier New',monospace\">┏━━━━━━━━━━━━━━━━━━━━━━━━━━━━━━━━━━━━━━┳━━━━━━━━━━━━━━━━━━━━━━━━━━━━━┳━━━━━━━━━━━━━━━━━┓\n",
              "┃<span style=\"font-weight: bold\"> Layer (type)                         </span>┃<span style=\"font-weight: bold\"> Output Shape                </span>┃<span style=\"font-weight: bold\">         Param # </span>┃\n",
              "┡━━━━━━━━━━━━━━━━━━━━━━━━━━━━━━━━━━━━━━╇━━━━━━━━━━━━━━━━━━━━━━━━━━━━━╇━━━━━━━━━━━━━━━━━┩\n",
              "│ embedding (<span style=\"color: #0087ff; text-decoration-color: #0087ff\">Embedding</span>)                │ (<span style=\"color: #00d7ff; text-decoration-color: #00d7ff\">None</span>, <span style=\"color: #00af00; text-decoration-color: #00af00\">308</span>, <span style=\"color: #00af00; text-decoration-color: #00af00\">10</span>)             │          <span style=\"color: #00af00; text-decoration-color: #00af00\">33,950</span> │\n",
              "├──────────────────────────────────────┼─────────────────────────────┼─────────────────┤\n",
              "│ lstm (<span style=\"color: #0087ff; text-decoration-color: #0087ff\">LSTM</span>)                          │ (<span style=\"color: #00d7ff; text-decoration-color: #00d7ff\">None</span>, <span style=\"color: #00af00; text-decoration-color: #00af00\">128</span>)                 │          <span style=\"color: #00af00; text-decoration-color: #00af00\">71,168</span> │\n",
              "├──────────────────────────────────────┼─────────────────────────────┼─────────────────┤\n",
              "│ dropout_2 (<span style=\"color: #0087ff; text-decoration-color: #0087ff\">Dropout</span>)                  │ (<span style=\"color: #00d7ff; text-decoration-color: #00d7ff\">None</span>, <span style=\"color: #00af00; text-decoration-color: #00af00\">128</span>)                 │               <span style=\"color: #00af00; text-decoration-color: #00af00\">0</span> │\n",
              "├──────────────────────────────────────┼─────────────────────────────┼─────────────────┤\n",
              "│ dense_5 (<span style=\"color: #0087ff; text-decoration-color: #0087ff\">Dense</span>)                      │ (<span style=\"color: #00d7ff; text-decoration-color: #00d7ff\">None</span>, <span style=\"color: #00af00; text-decoration-color: #00af00\">3395</span>)                │         <span style=\"color: #00af00; text-decoration-color: #00af00\">437,955</span> │\n",
              "└──────────────────────────────────────┴─────────────────────────────┴─────────────────┘\n",
              "</pre>\n"
            ],
            "text/plain": [
              "┏━━━━━━━━━━━━━━━━━━━━━━━━━━━━━━━━━━━━━━┳━━━━━━━━━━━━━━━━━━━━━━━━━━━━━┳━━━━━━━━━━━━━━━━━┓\n",
              "┃\u001b[1m \u001b[0m\u001b[1mLayer (type)                        \u001b[0m\u001b[1m \u001b[0m┃\u001b[1m \u001b[0m\u001b[1mOutput Shape               \u001b[0m\u001b[1m \u001b[0m┃\u001b[1m \u001b[0m\u001b[1m        Param #\u001b[0m\u001b[1m \u001b[0m┃\n",
              "┡━━━━━━━━━━━━━━━━━━━━━━━━━━━━━━━━━━━━━━╇━━━━━━━━━━━━━━━━━━━━━━━━━━━━━╇━━━━━━━━━━━━━━━━━┩\n",
              "│ embedding (\u001b[38;5;33mEmbedding\u001b[0m)                │ (\u001b[38;5;45mNone\u001b[0m, \u001b[38;5;34m308\u001b[0m, \u001b[38;5;34m10\u001b[0m)             │          \u001b[38;5;34m33,950\u001b[0m │\n",
              "├──────────────────────────────────────┼─────────────────────────────┼─────────────────┤\n",
              "│ lstm (\u001b[38;5;33mLSTM\u001b[0m)                          │ (\u001b[38;5;45mNone\u001b[0m, \u001b[38;5;34m128\u001b[0m)                 │          \u001b[38;5;34m71,168\u001b[0m │\n",
              "├──────────────────────────────────────┼─────────────────────────────┼─────────────────┤\n",
              "│ dropout_2 (\u001b[38;5;33mDropout\u001b[0m)                  │ (\u001b[38;5;45mNone\u001b[0m, \u001b[38;5;34m128\u001b[0m)                 │               \u001b[38;5;34m0\u001b[0m │\n",
              "├──────────────────────────────────────┼─────────────────────────────┼─────────────────┤\n",
              "│ dense_5 (\u001b[38;5;33mDense\u001b[0m)                      │ (\u001b[38;5;45mNone\u001b[0m, \u001b[38;5;34m3395\u001b[0m)                │         \u001b[38;5;34m437,955\u001b[0m │\n",
              "└──────────────────────────────────────┴─────────────────────────────┴─────────────────┘\n"
            ]
          },
          "metadata": {},
          "output_type": "display_data"
        },
        {
          "data": {
            "text/html": [
              "<pre style=\"white-space:pre;overflow-x:auto;line-height:normal;font-family:Menlo,'DejaVu Sans Mono',consolas,'Courier New',monospace\"><span style=\"font-weight: bold\"> Total params: </span><span style=\"color: #00af00; text-decoration-color: #00af00\">543,073</span> (2.07 MB)\n",
              "</pre>\n"
            ],
            "text/plain": [
              "\u001b[1m Total params: \u001b[0m\u001b[38;5;34m543,073\u001b[0m (2.07 MB)\n"
            ]
          },
          "metadata": {},
          "output_type": "display_data"
        },
        {
          "data": {
            "text/html": [
              "<pre style=\"white-space:pre;overflow-x:auto;line-height:normal;font-family:Menlo,'DejaVu Sans Mono',consolas,'Courier New',monospace\"><span style=\"font-weight: bold\"> Trainable params: </span><span style=\"color: #00af00; text-decoration-color: #00af00\">543,073</span> (2.07 MB)\n",
              "</pre>\n"
            ],
            "text/plain": [
              "\u001b[1m Trainable params: \u001b[0m\u001b[38;5;34m543,073\u001b[0m (2.07 MB)\n"
            ]
          },
          "metadata": {},
          "output_type": "display_data"
        },
        {
          "data": {
            "text/html": [
              "<pre style=\"white-space:pre;overflow-x:auto;line-height:normal;font-family:Menlo,'DejaVu Sans Mono',consolas,'Courier New',monospace\"><span style=\"font-weight: bold\"> Non-trainable params: </span><span style=\"color: #00af00; text-decoration-color: #00af00\">0</span> (0.00 B)\n",
              "</pre>\n"
            ],
            "text/plain": [
              "\u001b[1m Non-trainable params: \u001b[0m\u001b[38;5;34m0\u001b[0m (0.00 B)\n"
            ]
          },
          "metadata": {},
          "output_type": "display_data"
        },
        {
          "name": "stdout",
          "output_type": "stream",
          "text": [
            "None\n"
          ]
        }
      ],
      "source": [
        "model = create_model(max_sequence_len, length_of_unique_words)\n",
        "print(model.summary())"
      ]
    },
    {
      "cell_type": "code",
      "execution_count": null,
      "id": "68fde892-dab5-43e3-ab44-0fa27e93f90d",
      "metadata": {
        "id": "68fde892-dab5-43e3-ab44-0fa27e93f90d",
        "outputId": "77ad81f0-b6d0-46c0-87f2-c53b46b3ce42"
      },
      "outputs": [
        {
          "data": {
            "text/plain": [
              "51836"
            ]
          },
          "execution_count": 58,
          "metadata": {},
          "output_type": "execute_result"
        }
      ],
      "source": [
        "len(X)"
      ]
    },
    {
      "cell_type": "code",
      "execution_count": null,
      "id": "659562d8-bce0-4cad-81b4-344a3a6e6f00",
      "metadata": {
        "id": "659562d8-bce0-4cad-81b4-344a3a6e6f00",
        "outputId": "a0b04fc7-3cdf-4169-9112-9862a4443b25"
      },
      "outputs": [
        {
          "name": "stdout",
          "output_type": "stream",
          "text": [
            "Epoch 1/10\n",
            "\u001b[1m51/51\u001b[0m \u001b[32m━━━━━━━━━━━━━━━━━━━━\u001b[0m\u001b[37m\u001b[0m \u001b[1m281s\u001b[0m 5s/step - loss: 7.6534\n",
            "Epoch 2/10\n",
            "\u001b[1m51/51\u001b[0m \u001b[32m━━━━━━━━━━━━━━━━━━━━\u001b[0m\u001b[37m\u001b[0m \u001b[1m313s\u001b[0m 5s/step - loss: 6.5668\n",
            "Epoch 3/10\n",
            "\u001b[1m51/51\u001b[0m \u001b[32m━━━━━━━━━━━━━━━━━━━━\u001b[0m\u001b[37m\u001b[0m \u001b[1m322s\u001b[0m 5s/step - loss: 6.5608\n",
            "Epoch 4/10\n",
            "\u001b[1m51/51\u001b[0m \u001b[32m━━━━━━━━━━━━━━━━━━━━\u001b[0m\u001b[37m\u001b[0m \u001b[1m281s\u001b[0m 6s/step - loss: 6.5198\n",
            "Epoch 5/10\n",
            "\u001b[1m51/51\u001b[0m \u001b[32m━━━━━━━━━━━━━━━━━━━━\u001b[0m\u001b[37m\u001b[0m \u001b[1m287s\u001b[0m 6s/step - loss: 6.4941\n",
            "Epoch 6/10\n",
            "\u001b[1m51/51\u001b[0m \u001b[32m━━━━━━━━━━━━━━━━━━━━\u001b[0m\u001b[37m\u001b[0m \u001b[1m263s\u001b[0m 5s/step - loss: 6.4370\n",
            "Epoch 7/10\n",
            "\u001b[1m51/51\u001b[0m \u001b[32m━━━━━━━━━━━━━━━━━━━━\u001b[0m\u001b[37m\u001b[0m \u001b[1m317s\u001b[0m 6s/step - loss: 6.3924\n",
            "Epoch 8/10\n",
            "\u001b[1m51/51\u001b[0m \u001b[32m━━━━━━━━━━━━━━━━━━━━\u001b[0m\u001b[37m\u001b[0m \u001b[1m239s\u001b[0m 5s/step - loss: 6.3239\n",
            "Epoch 9/10\n",
            "\u001b[1m51/51\u001b[0m \u001b[32m━━━━━━━━━━━━━━━━━━━━\u001b[0m\u001b[37m\u001b[0m \u001b[1m62s\u001b[0m 1s/step - loss: 6.2746\n",
            "Epoch 10/10\n",
            "\u001b[1m51/51\u001b[0m \u001b[32m━━━━━━━━━━━━━━━━━━━━\u001b[0m\u001b[37m\u001b[0m \u001b[1m49s\u001b[0m 966ms/step - loss: 6.2315\n"
          ]
        },
        {
          "data": {
            "text/plain": [
              "<keras.src.callbacks.history.History at 0x22b7f06e4b0>"
            ]
          },
          "execution_count": 59,
          "metadata": {},
          "output_type": "execute_result"
        }
      ],
      "source": [
        "model.fit(X, y, batch_size = 1024, epochs=10)"
      ]
    },
    {
      "cell_type": "code",
      "execution_count": null,
      "id": "c8db0911-9696-4e37-8504-a145e9dd6d7a",
      "metadata": {
        "id": "c8db0911-9696-4e37-8504-a145e9dd6d7a"
      },
      "outputs": [],
      "source": [
        "import numpy as np\n",
        "\n",
        "def generate_text(seed_text, next_words, model, max_seq_len):\n",
        "    cleaned_data = clean_data([seed_text])\n",
        "    sequences = prepare_corpus(cleaned_data[0], word_to_idx)\n",
        "    input_seq = sequences[-1]\n",
        "    for _ in range(next_words):\n",
        "        predicted_probs = model.predict(np.expand_dims(input_seq, axis=0), verbose=0).flatten()\n",
        "        predicted_index = np.random.choice(len(predicted_probs), p=predicted_probs)\n",
        "        output_word = idx_to_word[predicted_index]\n",
        "        seed_text = seed_text + \" \" + output_word\n",
        "        input_seq = np.append(input_seq[1:], predicted_index)\n",
        "\n",
        "    return seed_text.title()\n"
      ]
    },
    {
      "cell_type": "code",
      "execution_count": null,
      "id": "faa4fd6f-7577-4add-a99a-c8165036712c",
      "metadata": {
        "id": "faa4fd6f-7577-4add-a99a-c8165036712c",
        "outputId": "ce8276ff-9292-49c6-9546-f40e48fddb68",
        "scrolled": true
      },
      "outputs": [
        {
          "name": "stdout",
          "output_type": "stream",
          "text": [
            "In Mumbai There We Need Mins Clock Glimpse Nutritious India Station Provides Wardrobes Vessels Lokhandwala Full Hanging Mail Siddharthnagar Commute Touch Others Journey Stocks Celestial Essenza Fancy Zodiac Harmony Bhavani Form Geyser Situated Tradition Stories\n"
          ]
        }
      ],
      "source": [
        "print(generate_text(\"in Mumbai there we need\", 30, model, max_sequence_len))"
      ]
    },
    {
      "cell_type": "code",
      "execution_count": null,
      "id": "c705eea1-dc4d-49a9-af6c-f3566a8a4c2f",
      "metadata": {
        "id": "c705eea1-dc4d-49a9-af6c-f3566a8a4c2f",
        "outputId": "b80334d2-fd0a-45e5-e5c3-7cacaf32e1ca"
      },
      "outputs": [
        {
          "name": "stdout",
          "output_type": "stream",
          "text": [
            "Best Hotel Mumbai Favourably Breads Hire Varied Throw Ayurveda Accommodating True Spaces Bunder Mani Would Enigma Well Celebrate Dana Watch Atlantic Swigs Easy Assures Prestige Replete Commotions Choice Kidzania Pheonix Less Shivaji Caprice\n"
          ]
        }
      ],
      "source": [
        "print(generate_text(\"Best Hotel Mumbai\", 30, model, max_sequence_len))"
      ]
    },
    {
      "cell_type": "code",
      "execution_count": null,
      "id": "fab85bec-87a7-4147-8a4a-46a678e6545f",
      "metadata": {
        "id": "fab85bec-87a7-4147-8a4a-46a678e6545f",
        "outputId": "138ffdac-fc6f-4afb-a8f7-7914e4c80e1e"
      },
      "outputs": [
        {
          "name": "stdout",
          "output_type": "stream",
          "text": [
            "The Beauty Of The City Wales Beth Inhouse Pressure Drop Coral Holds Palatable Mins Pathar Excellent Bangladesh Bliss Cakes Stocked Superior Region Domestic Devices Galaxy Peninsular Ambience Consists Applying Considers Greenery Shubhangan Separately Babulnath Wind\n"
          ]
        }
      ],
      "source": [
        "print(generate_text(\"The beauty of the city\", 30, model, max_sequence_len))\n"
      ]
    },
    {
      "cell_type": "code",
      "execution_count": null,
      "id": "93a5605f-de68-4b5c-97ad-f26406e40c8d",
      "metadata": {
        "id": "93a5605f-de68-4b5c-97ad-f26406e40c8d",
        "outputId": "3d0eaa4a-0065-4bfc-bbf6-d213b53b96a6",
        "scrolled": true
      },
      "outputs": [
        {
          "name": "stdout",
          "output_type": "stream",
          "text": [
            "Num GPUs Available:  0\n"
          ]
        }
      ],
      "source": [
        "import tensorflow as tf\n",
        "print(\"Num GPUs Available: \", len(tf.config.experimental.list_physical_devices('GPU')))"
      ]
    },
    {
      "cell_type": "code",
      "execution_count": null,
      "id": "afa35987-a8d9-421f-9ec9-ad8ddeab1a6e",
      "metadata": {
        "id": "afa35987-a8d9-421f-9ec9-ad8ddeab1a6e"
      },
      "outputs": [],
      "source": [
        "import os\n",
        "os.environ['CUDA_VISIBLE_DEVICES'] = '0'"
      ]
    },
    {
      "cell_type": "code",
      "execution_count": null,
      "id": "5e1d6d25-3d10-489c-a401-1736ccd21f4a",
      "metadata": {
        "id": "5e1d6d25-3d10-489c-a401-1736ccd21f4a"
      },
      "outputs": [],
      "source": [
        "model_structure = model.to_json()\n",
        "with open(\"Output Files/text_generation_using_LSTM.json\", \"w\") as json_file:\n",
        "    json_file.write(model_structure)\n",
        "model.save_weights(\"Output Files/text_generation_using_LSTM.weights.h5\")"
      ]
    },
    {
      "cell_type": "code",
      "execution_count": null,
      "id": "ead867f1-1b88-4859-838e-8a58eeef99e8",
      "metadata": {
        "id": "ead867f1-1b88-4859-838e-8a58eeef99e8",
        "outputId": "92e1c587-00a0-49f0-ef6e-491805563225"
      },
      "outputs": [
        {
          "name": "stdout",
          "output_type": "stream",
          "text": [
            "TensorFlow version: 2.16.0-rc0\n"
          ]
        }
      ],
      "source": [
        "import tensorflow as tf\n",
        "\n",
        "print(\"TensorFlow version:\", tf.__version__)"
      ]
    },
    {
      "cell_type": "code",
      "execution_count": null,
      "id": "c6679191-3523-4fcc-a479-97878f317747",
      "metadata": {
        "id": "c6679191-3523-4fcc-a479-97878f317747",
        "outputId": "19aae91a-b5c1-4ff8-a17b-d2e8bd687f9a"
      },
      "outputs": [
        {
          "name": "stdout",
          "output_type": "stream",
          "text": [
            "TensorFlow version: 2.16.0-rc0\n",
            "GPU available: []\n"
          ]
        }
      ],
      "source": [
        "import tensorflow as tf\n",
        "\n",
        "print(\"TensorFlow version:\", tf.__version__)\n",
        "print(\"GPU available:\", tf.config.list_physical_devices('GPU'))\n"
      ]
    }
  ],
  "metadata": {
    "colab": {
      "provenance": []
    },
    "kernelspec": {
      "display_name": "Python 3 (ipykernel)",
      "language": "python",
      "name": "python3"
    },
    "language_info": {
      "codemirror_mode": {
        "name": "ipython",
        "version": 3
      },
      "file_extension": ".py",
      "mimetype": "text/x-python",
      "name": "python",
      "nbconvert_exporter": "python",
      "pygments_lexer": "ipython3",
      "version": "3.12.2"
    }
  },
  "nbformat": 4,
  "nbformat_minor": 5
}